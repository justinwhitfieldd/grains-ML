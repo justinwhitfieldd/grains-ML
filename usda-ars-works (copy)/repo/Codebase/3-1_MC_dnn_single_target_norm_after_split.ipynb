{
  "cells": [
    {
      "cell_type": "markdown",
      "metadata": {},
      "source": [
        "# Global constants"
      ]
    },
    {
      "cell_type": "code",
      "execution_count": 1,
      "metadata": {},
      "outputs": [],
      "source": [
        "# GRAIN_TYPE = 'Wheat'\n",
        "# GRAIN_TYPE = 'Oats'\n",
        "# GRAIN_TYPE = 'Barley'\n",
        "# GRAIN_TYPE = 'Sorghum'\n",
        "# GRAIN_TYPE = 'Soybeans'\n",
        "GRAIN_TYPE = 'Corn'\n",
        "\n",
        "FILENAME_BEST_MODEL = 'Best models/target_1/model_Moisture_Content/' + GRAIN_TYPE + '_t1_dnn_mc.h5'"
      ]
    },
    {
      "cell_type": "code",
      "execution_count": 2,
      "metadata": {
        "colab": {
          "base_uri": "https://localhost:8080/"
        },
        "id": "cNGoIGbc0kw_",
        "outputId": "279cc9c8-32fd-4f89-e56b-83a0a31081dd"
      },
      "outputs": [
        {
          "name": "stderr",
          "output_type": "stream",
          "text": [
            "2023-08-15 16:16:28.281545: I tensorflow/stream_executor/platform/default/dso_loader.cc:49] Successfully opened dynamic library libcudart.so.10.1\n"
          ]
        },
        {
          "name": "stdout",
          "output_type": "stream",
          "text": [
            "2.4.1\n"
          ]
        }
      ],
      "source": [
        "#Import libraries\n",
        "import requests\n",
        "import pydot\n",
        "import pandas as pd\n",
        "\n",
        "\n",
        "#Data visualization\n",
        "import seaborn as sn\n",
        "import matplotlib.pyplot as plt\n",
        "\n",
        "#Data Manipulation\n",
        "import pandas as pd\n",
        "import numpy as np\n",
        "\n",
        "# Machine Learning\n",
        "import tensorflow as tf\n",
        "from tensorflow.keras.models import Model, Sequential\n",
        "from tensorflow.keras.layers import Dense, Input, Activation, BatchNormalization\n",
        "from tensorflow.keras.utils import plot_model\n",
        "from sklearn.model_selection import train_test_split, KFold\n",
        "\n",
        "print(tf.__version__)"
      ]
    },
    {
      "cell_type": "code",
      "execution_count": 3,
      "metadata": {},
      "outputs": [
        {
          "name": "stdout",
          "output_type": "stream",
          "text": [
            "[PhysicalDevice(name='/physical_device:GPU:0', device_type='GPU')]\n"
          ]
        },
        {
          "name": "stderr",
          "output_type": "stream",
          "text": [
            "2023-08-15 16:16:28.731090: I tensorflow/compiler/jit/xla_cpu_device.cc:41] Not creating XLA devices, tf_xla_enable_xla_devices not set\n",
            "2023-08-15 16:16:28.731524: I tensorflow/stream_executor/platform/default/dso_loader.cc:49] Successfully opened dynamic library libcuda.so.1\n",
            "2023-08-15 16:16:28.734576: I tensorflow/stream_executor/cuda/cuda_gpu_executor.cc:941] successful NUMA node read from SysFS had negative value (-1), but there must be at least one NUMA node, so returning NUMA node zero\n",
            "2023-08-15 16:16:28.734649: I tensorflow/core/common_runtime/gpu/gpu_device.cc:1720] Found device 0 with properties: \n",
            "pciBusID: 0000:01:00.0 name: NVIDIA GeForce RTX 4090 computeCapability: 8.9\n",
            "coreClock: 2.52GHz coreCount: 128 deviceMemorySize: 23.64GiB deviceMemoryBandwidth: 938.86GiB/s\n",
            "2023-08-15 16:16:28.734659: I tensorflow/stream_executor/platform/default/dso_loader.cc:49] Successfully opened dynamic library libcudart.so.10.1\n",
            "2023-08-15 16:16:28.735465: I tensorflow/stream_executor/platform/default/dso_loader.cc:49] Successfully opened dynamic library libcublas.so.10\n",
            "2023-08-15 16:16:28.735487: I tensorflow/stream_executor/platform/default/dso_loader.cc:49] Successfully opened dynamic library libcublasLt.so.10\n",
            "2023-08-15 16:16:28.736455: I tensorflow/stream_executor/platform/default/dso_loader.cc:49] Successfully opened dynamic library libcufft.so.10\n",
            "2023-08-15 16:16:28.736616: I tensorflow/stream_executor/platform/default/dso_loader.cc:49] Successfully opened dynamic library libcurand.so.10\n",
            "2023-08-15 16:16:28.737484: I tensorflow/stream_executor/platform/default/dso_loader.cc:49] Successfully opened dynamic library libcusolver.so.10\n",
            "2023-08-15 16:16:28.737887: I tensorflow/stream_executor/platform/default/dso_loader.cc:49] Successfully opened dynamic library libcusparse.so.10\n",
            "2023-08-15 16:16:28.739546: I tensorflow/stream_executor/platform/default/dso_loader.cc:49] Successfully opened dynamic library libcudnn.so.7\n",
            "2023-08-15 16:16:28.739635: I tensorflow/stream_executor/cuda/cuda_gpu_executor.cc:941] successful NUMA node read from SysFS had negative value (-1), but there must be at least one NUMA node, so returning NUMA node zero\n",
            "2023-08-15 16:16:28.739719: I tensorflow/stream_executor/cuda/cuda_gpu_executor.cc:941] successful NUMA node read from SysFS had negative value (-1), but there must be at least one NUMA node, so returning NUMA node zero\n",
            "2023-08-15 16:16:28.739761: I tensorflow/core/common_runtime/gpu/gpu_device.cc:1862] Adding visible gpu devices: 0\n"
          ]
        }
      ],
      "source": [
        "print(tf.config.list_physical_devices('GPU'))"
      ]
    },
    {
      "cell_type": "markdown",
      "metadata": {},
      "source": [
        "# Helper functions"
      ]
    },
    {
      "cell_type": "code",
      "execution_count": 4,
      "metadata": {
        "id": "nxHO_qH0Zi5J"
      },
      "outputs": [],
      "source": [
        "def calculate_r_squared(y_true, y_pred):\n",
        "   corr_matrix = np.corrcoef(y_true, y_pred)\n",
        "   corr = corr_matrix[0,1]\n",
        "   R_sq = corr**2\n",
        "   return R_sq\n",
        "\n",
        "def plot_loss_curve(history, epoch_size):\n",
        "    loss_train = history.history['loss']\n",
        "    loss_val = history.history['val_loss']\n",
        "    epochs = range(0,epoch_size)\n",
        "    \n",
        "    plt.plot(epochs, loss_train, 'g', label='Training loss')\n",
        "    plt.plot(epochs, loss_val, 'b', label='Validation loss')\n",
        "    \n",
        "    plt.title('Training and Validation loss')\n",
        "    plt.xlabel('Epochs')\n",
        "    plt.ylabel('Loss')\n",
        "    \n",
        "    plt.legend()\n",
        "    plt.show()\n",
        "\n",
        "def plot_line(metric, title, xlabel):\n",
        "    plt.figure(figsize=(8,3))\n",
        "    plt.title(title, fontsize = 16)\n",
        "    plt.plot(metric)\n",
        "    plt.xlabel(xlabel, fontsize = 14)\n",
        "    plt.grid()\n",
        "    plt.legend(loc= \"best\")\n",
        "    plt.show()\n",
        "\n",
        "def scatter_plot(trueValues, predictions, title):\n",
        "  plt.figure(figsize=(8,3))\n",
        "  ax = plt.axes()\n",
        "  maxVal = max( max(trueValues), max(predictions) )\n",
        "\n",
        "  ax.scatter(trueValues, predictions)\n",
        "  ax.plot([0, 1, maxVal], [0, 1, maxVal], label=\"Ideal fit\")\n",
        "  print('Maxval here is: ', maxVal)\n",
        "  plt.title(title, fontsize = 16)\n",
        "  plt.xlabel(\"Predictions\", fontsize = 14)\n",
        "  plt.ylabel(\"Real\", fontsize = 14)\n",
        "  plt.grid()"
      ]
    },
    {
      "attachments": {},
      "cell_type": "markdown",
      "metadata": {
        "id": "G7t0SXuDz64P"
      },
      "source": [
        "# 1. Load the Dataset\n",
        "We are going to use one dataset from UCI Machine Learning Repository. You can download the Energy Efficient Dataset using the following link. You can use pandas to download and open the data set which is in excel format or load from your local machine."
      ]
    },
    {
      "cell_type": "code",
      "execution_count": 5,
      "metadata": {
        "colab": {
          "base_uri": "https://localhost:8080/",
          "height": 224
        },
        "id": "s3pvA5g-zdgv",
        "outputId": "7a7208f1-6b68-4eba-ad1d-9108d0df66ac"
      },
      "outputs": [
        {
          "name": "stdout",
          "output_type": "stream",
          "text": [
            "From USDA:  ../Datasets/processed/Corn.csv\n"
          ]
        },
        {
          "data": {
            "text/html": [
              "<div>\n",
              "<style scoped>\n",
              "    .dataframe tbody tr th:only-of-type {\n",
              "        vertical-align: middle;\n",
              "    }\n",
              "\n",
              "    .dataframe tbody tr th {\n",
              "        vertical-align: top;\n",
              "    }\n",
              "\n",
              "    .dataframe thead th {\n",
              "        text-align: right;\n",
              "    }\n",
              "</style>\n",
              "<table border=\"1\" class=\"dataframe\">\n",
              "  <thead>\n",
              "    <tr style=\"text-align: right;\">\n",
              "      <th></th>\n",
              "      <th>Unnamed: 0</th>\n",
              "      <th>Variety</th>\n",
              "      <th>Freq</th>\n",
              "      <th>d(cm)</th>\n",
              "      <th>M%</th>\n",
              "      <th>Density</th>\n",
              "      <th>Attn</th>\n",
              "      <th>Phase</th>\n",
              "      <th>Phase_Corr</th>\n",
              "      <th>Permittivity_real</th>\n",
              "      <th>Permittivity_imaginary</th>\n",
              "    </tr>\n",
              "  </thead>\n",
              "  <tbody>\n",
              "    <tr>\n",
              "      <th>0</th>\n",
              "      <td>0</td>\n",
              "      <td>HI BRED 31D58</td>\n",
              "      <td>6.0</td>\n",
              "      <td>3.3</td>\n",
              "      <td>26.23</td>\n",
              "      <td>0.5602</td>\n",
              "      <td>9.2688</td>\n",
              "      <td>142.982</td>\n",
              "      <td>-217.018</td>\n",
              "      <td>3.595</td>\n",
              "      <td>0.984</td>\n",
              "    </tr>\n",
              "    <tr>\n",
              "      <th>1</th>\n",
              "      <td>1</td>\n",
              "      <td>HI BRED 31D58</td>\n",
              "      <td>7.0</td>\n",
              "      <td>3.3</td>\n",
              "      <td>26.23</td>\n",
              "      <td>0.5602</td>\n",
              "      <td>11.9033</td>\n",
              "      <td>114.498</td>\n",
              "      <td>-245.502</td>\n",
              "      <td>3.476</td>\n",
              "      <td>1.067</td>\n",
              "    </tr>\n",
              "    <tr>\n",
              "      <th>2</th>\n",
              "      <td>2</td>\n",
              "      <td>HI BRED 31D58</td>\n",
              "      <td>8.0</td>\n",
              "      <td>3.3</td>\n",
              "      <td>26.23</td>\n",
              "      <td>0.5602</td>\n",
              "      <td>14.9916</td>\n",
              "      <td>85.785</td>\n",
              "      <td>-274.215</td>\n",
              "      <td>3.383</td>\n",
              "      <td>1.163</td>\n",
              "    </tr>\n",
              "    <tr>\n",
              "      <th>3</th>\n",
              "      <td>3</td>\n",
              "      <td>HI BRED 31D58</td>\n",
              "      <td>9.0</td>\n",
              "      <td>3.3</td>\n",
              "      <td>26.23</td>\n",
              "      <td>0.5602</td>\n",
              "      <td>17.7882</td>\n",
              "      <td>63.083</td>\n",
              "      <td>-296.917</td>\n",
              "      <td>3.252</td>\n",
              "      <td>1.205</td>\n",
              "    </tr>\n",
              "    <tr>\n",
              "      <th>4</th>\n",
              "      <td>4</td>\n",
              "      <td>HI BRED 31D58</td>\n",
              "      <td>10.0</td>\n",
              "      <td>3.3</td>\n",
              "      <td>26.23</td>\n",
              "      <td>0.5602</td>\n",
              "      <td>20.2646</td>\n",
              "      <td>38.844</td>\n",
              "      <td>-321.156</td>\n",
              "      <td>3.165</td>\n",
              "      <td>1.224</td>\n",
              "    </tr>\n",
              "  </tbody>\n",
              "</table>\n",
              "</div>"
            ],
            "text/plain": [
              "   Unnamed: 0        Variety  Freq  d(cm)     M%  Density     Attn    Phase  \\\n",
              "0           0  HI BRED 31D58   6.0    3.3  26.23   0.5602   9.2688  142.982   \n",
              "1           1  HI BRED 31D58   7.0    3.3  26.23   0.5602  11.9033  114.498   \n",
              "2           2  HI BRED 31D58   8.0    3.3  26.23   0.5602  14.9916   85.785   \n",
              "3           3  HI BRED 31D58   9.0    3.3  26.23   0.5602  17.7882   63.083   \n",
              "4           4  HI BRED 31D58  10.0    3.3  26.23   0.5602  20.2646   38.844   \n",
              "\n",
              "   Phase_Corr  Permittivity_real  Permittivity_imaginary  \n",
              "0    -217.018              3.595                   0.984  \n",
              "1    -245.502              3.476                   1.067  \n",
              "2    -274.215              3.383                   1.163  \n",
              "3    -296.917              3.252                   1.205  \n",
              "4    -321.156              3.165                   1.224  "
            ]
          },
          "execution_count": 5,
          "metadata": {},
          "output_type": "execute_result"
        }
      ],
      "source": [
        "#url dataset\n",
        "URL = \"../Datasets/processed/\" + GRAIN_TYPE + \".csv\"\n",
        "\n",
        "#read in excel format\n",
        "df = pd.read_csv(URL)\n",
        "\n",
        "print(\"From USDA: \", URL)\n",
        "\n",
        "df.head()"
      ]
    },
    {
      "attachments": {},
      "cell_type": "markdown",
      "metadata": {
        "id": "_LUzjHHV2stm"
      },
      "source": [
        "# 2. Overview of data\n"
      ]
    },
    {
      "cell_type": "code",
      "execution_count": 6,
      "metadata": {
        "colab": {
          "base_uri": "https://localhost:8080/",
          "height": 364
        },
        "id": "Xohz7dGh2sXH",
        "outputId": "7d018cd8-018a-45d3-b1b7-ba9fc14aa5e3"
      },
      "outputs": [
        {
          "data": {
            "text/html": [
              "<div>\n",
              "<style scoped>\n",
              "    .dataframe tbody tr th:only-of-type {\n",
              "        vertical-align: middle;\n",
              "    }\n",
              "\n",
              "    .dataframe tbody tr th {\n",
              "        vertical-align: top;\n",
              "    }\n",
              "\n",
              "    .dataframe thead th {\n",
              "        text-align: right;\n",
              "    }\n",
              "</style>\n",
              "<table border=\"1\" class=\"dataframe\">\n",
              "  <thead>\n",
              "    <tr style=\"text-align: right;\">\n",
              "      <th></th>\n",
              "      <th>Unnamed: 0</th>\n",
              "      <th>Freq</th>\n",
              "      <th>d(cm)</th>\n",
              "      <th>M%</th>\n",
              "      <th>Density</th>\n",
              "      <th>Attn</th>\n",
              "      <th>Phase</th>\n",
              "      <th>Phase_Corr</th>\n",
              "      <th>Permittivity_real</th>\n",
              "      <th>Permittivity_imaginary</th>\n",
              "    </tr>\n",
              "  </thead>\n",
              "  <tbody>\n",
              "    <tr>\n",
              "      <th>count</th>\n",
              "      <td>1325.000000</td>\n",
              "      <td>1325.000000</td>\n",
              "      <td>1325.000000</td>\n",
              "      <td>1325.000000</td>\n",
              "      <td>1325.000000</td>\n",
              "      <td>1325.000000</td>\n",
              "      <td>1325.000000</td>\n",
              "      <td>1325.000000</td>\n",
              "      <td>1325.000000</td>\n",
              "      <td>1325.000000</td>\n",
              "    </tr>\n",
              "    <tr>\n",
              "      <th>mean</th>\n",
              "      <td>667.980377</td>\n",
              "      <td>9.616604</td>\n",
              "      <td>5.283170</td>\n",
              "      <td>19.173464</td>\n",
              "      <td>0.732730</td>\n",
              "      <td>18.574415</td>\n",
              "      <td>7.843992</td>\n",
              "      <td>-462.193766</td>\n",
              "      <td>3.241382</td>\n",
              "      <td>0.900775</td>\n",
              "    </tr>\n",
              "    <tr>\n",
              "      <th>std</th>\n",
              "      <td>388.591085</td>\n",
              "      <td>3.036191</td>\n",
              "      <td>2.049772</td>\n",
              "      <td>7.206516</td>\n",
              "      <td>0.101502</td>\n",
              "      <td>6.337757</td>\n",
              "      <td>89.287814</td>\n",
              "      <td>190.960971</td>\n",
              "      <td>0.603906</td>\n",
              "      <td>0.508211</td>\n",
              "    </tr>\n",
              "    <tr>\n",
              "      <th>min</th>\n",
              "      <td>0.000000</td>\n",
              "      <td>5.000000</td>\n",
              "      <td>2.000000</td>\n",
              "      <td>8.060000</td>\n",
              "      <td>0.448800</td>\n",
              "      <td>8.002300</td>\n",
              "      <td>-179.974000</td>\n",
              "      <td>-1115.206000</td>\n",
              "      <td>2.405000</td>\n",
              "      <td>0.242000</td>\n",
              "    </tr>\n",
              "    <tr>\n",
              "      <th>25%</th>\n",
              "      <td>331.000000</td>\n",
              "      <td>7.000000</td>\n",
              "      <td>3.300000</td>\n",
              "      <td>13.910000</td>\n",
              "      <td>0.663100</td>\n",
              "      <td>13.112200</td>\n",
              "      <td>-54.978000</td>\n",
              "      <td>-573.131000</td>\n",
              "      <td>2.780000</td>\n",
              "      <td>0.477000</td>\n",
              "    </tr>\n",
              "    <tr>\n",
              "      <th>50%</th>\n",
              "      <td>662.000000</td>\n",
              "      <td>9.000000</td>\n",
              "      <td>4.400000</td>\n",
              "      <td>18.580000</td>\n",
              "      <td>0.748300</td>\n",
              "      <td>18.344300</td>\n",
              "      <td>11.128000</td>\n",
              "      <td>-402.701000</td>\n",
              "      <td>3.094000</td>\n",
              "      <td>0.821000</td>\n",
              "    </tr>\n",
              "    <tr>\n",
              "      <th>75%</th>\n",
              "      <td>1007.000000</td>\n",
              "      <td>12.000000</td>\n",
              "      <td>7.700000</td>\n",
              "      <td>25.430000</td>\n",
              "      <td>0.816100</td>\n",
              "      <td>24.152200</td>\n",
              "      <td>77.870000</td>\n",
              "      <td>-323.806000</td>\n",
              "      <td>3.526000</td>\n",
              "      <td>1.213000</td>\n",
              "    </tr>\n",
              "    <tr>\n",
              "      <th>max</th>\n",
              "      <td>1338.000000</td>\n",
              "      <td>18.000000</td>\n",
              "      <td>8.500000</td>\n",
              "      <td>34.400000</td>\n",
              "      <td>0.901700</td>\n",
              "      <td>29.897000</td>\n",
              "      <td>179.949000</td>\n",
              "      <td>-150.217000</td>\n",
              "      <td>5.979000</td>\n",
              "      <td>3.294000</td>\n",
              "    </tr>\n",
              "  </tbody>\n",
              "</table>\n",
              "</div>"
            ],
            "text/plain": [
              "        Unnamed: 0         Freq        d(cm)           M%      Density  \\\n",
              "count  1325.000000  1325.000000  1325.000000  1325.000000  1325.000000   \n",
              "mean    667.980377     9.616604     5.283170    19.173464     0.732730   \n",
              "std     388.591085     3.036191     2.049772     7.206516     0.101502   \n",
              "min       0.000000     5.000000     2.000000     8.060000     0.448800   \n",
              "25%     331.000000     7.000000     3.300000    13.910000     0.663100   \n",
              "50%     662.000000     9.000000     4.400000    18.580000     0.748300   \n",
              "75%    1007.000000    12.000000     7.700000    25.430000     0.816100   \n",
              "max    1338.000000    18.000000     8.500000    34.400000     0.901700   \n",
              "\n",
              "              Attn        Phase   Phase_Corr  Permittivity_real  \\\n",
              "count  1325.000000  1325.000000  1325.000000        1325.000000   \n",
              "mean     18.574415     7.843992  -462.193766           3.241382   \n",
              "std       6.337757    89.287814   190.960971           0.603906   \n",
              "min       8.002300  -179.974000 -1115.206000           2.405000   \n",
              "25%      13.112200   -54.978000  -573.131000           2.780000   \n",
              "50%      18.344300    11.128000  -402.701000           3.094000   \n",
              "75%      24.152200    77.870000  -323.806000           3.526000   \n",
              "max      29.897000   179.949000  -150.217000           5.979000   \n",
              "\n",
              "       Permittivity_imaginary  \n",
              "count             1325.000000  \n",
              "mean                 0.900775  \n",
              "std                  0.508211  \n",
              "min                  0.242000  \n",
              "25%                  0.477000  \n",
              "50%                  0.821000  \n",
              "75%                  1.213000  \n",
              "max                  3.294000  "
            ]
          },
          "execution_count": 6,
          "metadata": {},
          "output_type": "execute_result"
        }
      ],
      "source": [
        "# Data summary\n",
        "df.describe()"
      ]
    },
    {
      "cell_type": "code",
      "execution_count": 7,
      "metadata": {
        "colab": {
          "base_uri": "https://localhost:8080/"
        },
        "id": "SYmFqsYQyGnM",
        "outputId": "54445a7f-a2c8-452a-9651-42dbbe682d2b"
      },
      "outputs": [
        {
          "data": {
            "text/plain": [
              "(1325, 11)"
            ]
          },
          "execution_count": 7,
          "metadata": {},
          "output_type": "execute_result"
        }
      ],
      "source": [
        "# Dimension of the dataset\n",
        "df.shape"
      ]
    },
    {
      "cell_type": "code",
      "execution_count": 8,
      "metadata": {
        "colab": {
          "base_uri": "https://localhost:8080/"
        },
        "id": "fep-GIv4yUuf",
        "outputId": "c46072fa-aa7f-4549-9a1d-4c5b05d11112"
      },
      "outputs": [
        {
          "data": {
            "text/plain": [
              "Unnamed: 0                0\n",
              "Variety                   0\n",
              "Freq                      0\n",
              "d(cm)                     0\n",
              "M%                        0\n",
              "Density                   0\n",
              "Attn                      0\n",
              "Phase                     0\n",
              "Phase_Corr                0\n",
              "Permittivity_real         0\n",
              "Permittivity_imaginary    0\n",
              "dtype: int64"
            ]
          },
          "execution_count": 8,
          "metadata": {},
          "output_type": "execute_result"
        }
      ],
      "source": [
        "# Check info about missing values in dataframe\n",
        "df.isnull().sum()"
      ]
    },
    {
      "attachments": {},
      "cell_type": "markdown",
      "metadata": {
        "id": "OI_TKP9VymuK"
      },
      "source": [
        "# Exploratory Data Analysis\n"
      ]
    },
    {
      "attachments": {},
      "cell_type": "markdown",
      "metadata": {
        "id": "Oz1g9T3FzhF0"
      },
      "source": [
        "# Data preparation\n",
        "\n",
        "\n",
        "1.   Convert dataframe to numpy array for flexibility.\n",
        "2. Split our data into training and testing datasets and store the target values in different variables.\n",
        "3.   Normalize the features by applying some operations in the data sets.\n",
        "\n",
        "\n"
      ]
    },
    {
      "cell_type": "code",
      "execution_count": 9,
      "metadata": {
        "id": "T0juhagf1M2I"
      },
      "outputs": [],
      "source": [
        "# Convert to numpy array\n",
        "df_features = df[['Freq', \n",
        "                    'd(cm)', \n",
        "                    'Attn', \n",
        "                    'Phase', \n",
        "                    'Phase_Corr', \n",
        "                    'Permittivity_real', \n",
        "                    'Permittivity_imaginary'\n",
        "                    # 'Density'         \n",
        "            ]]\n",
        "\n",
        "# df_targets = df[['M%', 'Density']]\n",
        "df_targets = df[['M%']]\n",
        "\n",
        "dataset_x = df_features.to_numpy()\n",
        "dataset_y = df_targets.to_numpy()"
      ]
    },
    {
      "attachments": {},
      "cell_type": "markdown",
      "metadata": {},
      "source": [
        "## Splitting dataset to test and train+validate"
      ]
    },
    {
      "cell_type": "code",
      "execution_count": 10,
      "metadata": {},
      "outputs": [],
      "source": [
        "# Perform train-test split on RAW DATA\n",
        "X_trainVal, X_test, y_trainVal, y_test = train_test_split(dataset_x, dataset_y, \n",
        "                                                    test_size=0.2\n",
        "                                                    ,random_state=42\n",
        "                                                    )\n",
        "\n",
        "X_train, X_val, y_train, y_val = train_test_split(X_trainVal, y_trainVal, \n",
        "                                                    test_size=0.15 #validation split\n",
        "                                                    ,random_state=42\n",
        "                                                    )"
      ]
    },
    {
      "cell_type": "markdown",
      "metadata": {},
      "source": [
        "## Normalize datasets"
      ]
    },
    {
      "cell_type": "code",
      "execution_count": 11,
      "metadata": {},
      "outputs": [],
      "source": [
        "from sklearn.preprocessing import MinMaxScaler\n",
        "\n",
        "#Normalizing the data set\n",
        "scaler_input = MinMaxScaler()\n",
        "scaler_output = MinMaxScaler()\n",
        "\n",
        "# Normalize Train set\n",
        "X_train_norm = scaler_input.fit_transform(X_train)\n",
        "y_train_norm = scaler_output.fit_transform(y_train)\n",
        "\n",
        "# Normalize Validation set\n",
        "X_val_norm = scaler_input.fit_transform(X_val)\n",
        "y_val_norm = scaler_output.fit_transform(y_val)"
      ]
    },
    {
      "attachments": {},
      "cell_type": "markdown",
      "metadata": {
        "id": "JgKfjwMP0Tzn"
      },
      "source": [
        "# K-cross Validation\n",
        "* Input features: 7\n",
        "* Output targets: 2\n"
      ]
    },
    {
      "attachments": {},
      "cell_type": "markdown",
      "metadata": {},
      "source": [
        "## Defining the model"
      ]
    },
    {
      "cell_type": "code",
      "execution_count": 12,
      "metadata": {
        "id": "l31WJZ7Z0ONb"
      },
      "outputs": [
        {
          "name": "stderr",
          "output_type": "stream",
          "text": [
            "2023-08-15 16:16:29.604185: I tensorflow/core/platform/cpu_feature_guard.cc:142] This TensorFlow binary is optimized with oneAPI Deep Neural Network Library (oneDNN) to use the following CPU instructions in performance-critical operations:  SSE4.1 SSE4.2 AVX AVX2 AVX512F FMA\n",
            "To enable them in other operations, rebuild TensorFlow with the appropriate compiler flags.\n",
            "2023-08-15 16:16:29.605660: I tensorflow/compiler/jit/xla_gpu_device.cc:99] Not creating XLA devices, tf_xla_enable_xla_devices not set\n",
            "2023-08-15 16:16:29.605888: I tensorflow/stream_executor/cuda/cuda_gpu_executor.cc:941] successful NUMA node read from SysFS had negative value (-1), but there must be at least one NUMA node, so returning NUMA node zero\n",
            "2023-08-15 16:16:29.605998: I tensorflow/core/common_runtime/gpu/gpu_device.cc:1720] Found device 0 with properties: \n",
            "pciBusID: 0000:01:00.0 name: NVIDIA GeForce RTX 4090 computeCapability: 8.9\n",
            "coreClock: 2.52GHz coreCount: 128 deviceMemorySize: 23.64GiB deviceMemoryBandwidth: 938.86GiB/s\n",
            "2023-08-15 16:16:29.606031: I tensorflow/stream_executor/platform/default/dso_loader.cc:49] Successfully opened dynamic library libcudart.so.10.1\n",
            "2023-08-15 16:16:29.606047: I tensorflow/stream_executor/platform/default/dso_loader.cc:49] Successfully opened dynamic library libcublas.so.10\n",
            "2023-08-15 16:16:29.606058: I tensorflow/stream_executor/platform/default/dso_loader.cc:49] Successfully opened dynamic library libcublasLt.so.10\n",
            "2023-08-15 16:16:29.606068: I tensorflow/stream_executor/platform/default/dso_loader.cc:49] Successfully opened dynamic library libcufft.so.10\n",
            "2023-08-15 16:16:29.606078: I tensorflow/stream_executor/platform/default/dso_loader.cc:49] Successfully opened dynamic library libcurand.so.10\n",
            "2023-08-15 16:16:29.606088: I tensorflow/stream_executor/platform/default/dso_loader.cc:49] Successfully opened dynamic library libcusolver.so.10\n",
            "2023-08-15 16:16:29.606098: I tensorflow/stream_executor/platform/default/dso_loader.cc:49] Successfully opened dynamic library libcusparse.so.10\n",
            "2023-08-15 16:16:29.606109: I tensorflow/stream_executor/platform/default/dso_loader.cc:49] Successfully opened dynamic library libcudnn.so.7\n",
            "2023-08-15 16:16:29.606160: I tensorflow/stream_executor/cuda/cuda_gpu_executor.cc:941] successful NUMA node read from SysFS had negative value (-1), but there must be at least one NUMA node, so returning NUMA node zero\n",
            "2023-08-15 16:16:29.606262: I tensorflow/stream_executor/cuda/cuda_gpu_executor.cc:941] successful NUMA node read from SysFS had negative value (-1), but there must be at least one NUMA node, so returning NUMA node zero\n",
            "2023-08-15 16:16:29.606325: I tensorflow/core/common_runtime/gpu/gpu_device.cc:1862] Adding visible gpu devices: 0\n",
            "2023-08-15 16:16:29.606345: I tensorflow/stream_executor/platform/default/dso_loader.cc:49] Successfully opened dynamic library libcudart.so.10.1\n",
            "2023-08-15 16:16:30.264556: I tensorflow/core/common_runtime/gpu/gpu_device.cc:1261] Device interconnect StreamExecutor with strength 1 edge matrix:\n",
            "2023-08-15 16:16:30.264572: I tensorflow/core/common_runtime/gpu/gpu_device.cc:1267]      0 \n",
            "2023-08-15 16:16:30.264576: I tensorflow/core/common_runtime/gpu/gpu_device.cc:1280] 0:   N \n",
            "2023-08-15 16:16:30.264807: I tensorflow/stream_executor/cuda/cuda_gpu_executor.cc:941] successful NUMA node read from SysFS had negative value (-1), but there must be at least one NUMA node, so returning NUMA node zero\n",
            "2023-08-15 16:16:30.264896: I tensorflow/stream_executor/cuda/cuda_gpu_executor.cc:941] successful NUMA node read from SysFS had negative value (-1), but there must be at least one NUMA node, so returning NUMA node zero\n",
            "2023-08-15 16:16:30.264956: I tensorflow/stream_executor/cuda/cuda_gpu_executor.cc:941] successful NUMA node read from SysFS had negative value (-1), but there must be at least one NUMA node, so returning NUMA node zero\n",
            "2023-08-15 16:16:30.265010: I tensorflow/core/common_runtime/gpu/gpu_device.cc:1406] Created TensorFlow device (/job:localhost/replica:0/task:0/device:GPU:0 with 21150 MB memory) -> physical GPU (device: 0, name: NVIDIA GeForce RTX 4090, pci bus id: 0000:01:00.0, compute capability: 8.9)\n"
          ]
        },
        {
          "name": "stdout",
          "output_type": "stream",
          "text": [
            "Model: \"sequential_1\"\n",
            "_________________________________________________________________\n",
            "Layer (type)                 Output Shape              Param #   \n",
            "=================================================================\n",
            "dense_4 (Dense)              (None, 128)               1024      \n",
            "_________________________________________________________________\n",
            "dense_5 (Dense)              (None, 64)                8256      \n",
            "_________________________________________________________________\n",
            "dense_6 (Dense)              (None, 32)                2080      \n",
            "_________________________________________________________________\n",
            "dense_7 (Dense)              (None, 1)                 33        \n",
            "=================================================================\n",
            "Total params: 11,393\n",
            "Trainable params: 11,393\n",
            "Non-trainable params: 0\n",
            "_________________________________________________________________\n"
          ]
        }
      ],
      "source": [
        "from keras import layers, Sequential, regularizers\n",
        "\n",
        "# Define the model-building function\n",
        "def my_model():\n",
        "  \n",
        "  my_model = Sequential([   \n",
        "    layers.Dense(128, input_shape=(7,), activation='relu', \n",
        "                #  kernel_regularizer=regularizers.l2(0.01)\n",
        "                 ),\n",
        "      # layers.BatchNormalization(),  # Batch normalization layer\n",
        "      # layers.Dropout(0.2),\n",
        "\n",
        "      layers.Dense(64, activation='relu', \n",
        "                  #  kernel_regularizer=regularizers.l2(0.01)\n",
        "                   ),\n",
        "\n",
        "      layers.Dense(32, activation='relu', \n",
        "                  #  kernel_regularizer=regularizers.l2(0.01)\n",
        "                   ),\n",
        "      \n",
        "      # layers.BatchNormalization(),  # Batch normalization layer\n",
        "      # layers.Dropout(0.5),\n",
        "      \n",
        "      layers.Dense(1, activation='linear')  # Output layer with 2 neurons for the two regression targets\n",
        "  ])\n",
        "\n",
        "  opt = tf.keras.optimizers.Adam(learning_rate=0.0001)\n",
        "  my_model.compile(\n",
        "      optimizer = opt,\n",
        "      loss = 'mse',\n",
        "      metrics = ['accuracy']\n",
        "  )\n",
        "\n",
        "  return my_model\n",
        "\n",
        "plot_model(my_model(), show_shapes=True, show_layer_names=True)\n",
        "my_model().summary()"
      ]
    },
    {
      "attachments": {},
      "cell_type": "markdown",
      "metadata": {},
      "source": [
        "## Running model with KCV"
      ]
    },
    {
      "cell_type": "code",
      "execution_count": 13,
      "metadata": {
        "colab": {
          "base_uri": "https://localhost:8080/"
        },
        "id": "khCKKB74hFVT",
        "outputId": "37e79cdf-4183-4559-f560-fceb2fc0c630"
      },
      "outputs": [
        {
          "name": "stdout",
          "output_type": "stream",
          "text": [
            "####################### Iteration   0  #######################\n",
            "Epoch 1/10\n"
          ]
        },
        {
          "name": "stderr",
          "output_type": "stream",
          "text": [
            "2023-08-15 16:16:30.553358: I tensorflow/compiler/mlir/mlir_graph_optimization_pass.cc:116] None of the MLIR optimization passes are enabled (registered 2)\n",
            "2023-08-15 16:16:30.553578: I tensorflow/core/platform/profile_utils/cpu_utils.cc:112] CPU Frequency: 4491685000 Hz\n",
            "2023-08-15 16:16:30.663473: I tensorflow/stream_executor/platform/default/dso_loader.cc:49] Successfully opened dynamic library libcublas.so.10\n"
          ]
        },
        {
          "name": "stdout",
          "output_type": "stream",
          "text": [
            "81/81 [==============================] - 1s 4ms/step - loss: 0.1823 - accuracy: 0.0262 - val_loss: 0.0738 - val_accuracy: 0.0330\n",
            "Epoch 2/10\n",
            "81/81 [==============================] - 0s 653us/step - loss: 0.0542 - accuracy: 0.0275 - val_loss: 0.0202 - val_accuracy: 0.0330\n",
            "Epoch 3/10\n",
            "81/81 [==============================] - 0s 655us/step - loss: 0.0174 - accuracy: 0.0301 - val_loss: 0.0065 - val_accuracy: 0.0330\n",
            "Epoch 4/10\n",
            "81/81 [==============================] - 0s 626us/step - loss: 0.0070 - accuracy: 0.0291 - val_loss: 0.0043 - val_accuracy: 0.0330\n",
            "Epoch 5/10\n",
            "81/81 [==============================] - 0s 600us/step - loss: 0.0053 - accuracy: 0.0464 - val_loss: 0.0039 - val_accuracy: 0.0330\n",
            "Epoch 6/10\n",
            "81/81 [==============================] - 0s 597us/step - loss: 0.0049 - accuracy: 0.0432 - val_loss: 0.0032 - val_accuracy: 0.0330\n",
            "Epoch 7/10\n",
            "81/81 [==============================] - 0s 649us/step - loss: 0.0040 - accuracy: 0.0345 - val_loss: 0.0029 - val_accuracy: 0.0330\n",
            "Epoch 8/10\n",
            "81/81 [==============================] - 0s 593us/step - loss: 0.0039 - accuracy: 0.0444 - val_loss: 0.0029 - val_accuracy: 0.0330\n",
            "Epoch 9/10\n",
            "81/81 [==============================] - 0s 611us/step - loss: 0.0036 - accuracy: 0.0291 - val_loss: 0.0029 - val_accuracy: 0.0330\n",
            "Epoch 10/10\n",
            "81/81 [==============================] - 0s 612us/step - loss: 0.0034 - accuracy: 0.0368 - val_loss: 0.0025 - val_accuracy: 0.0330\n",
            "3/3 [==============================] - 0s 495us/step - loss: 0.0025 - accuracy: 0.0330\n",
            "Loss = 0.002495452994480729, rmse = 0.032967034727334976\n",
            "Loss array:  [0.002495452994480729]\n",
            "####################### Iteration   1  #######################\n",
            "Epoch 1/10\n",
            "82/82 [==============================] - 0s 1ms/step - loss: 0.0985 - accuracy: 0.0260 - val_loss: 0.0308 - val_accuracy: 0.0222\n",
            "Epoch 2/10\n",
            "82/82 [==============================] - 0s 787us/step - loss: 0.0222 - accuracy: 0.0344 - val_loss: 0.0082 - val_accuracy: 0.0222\n",
            "Epoch 3/10\n",
            "82/82 [==============================] - 0s 822us/step - loss: 0.0060 - accuracy: 0.0388 - val_loss: 0.0049 - val_accuracy: 0.0222\n",
            "Epoch 4/10\n",
            "82/82 [==============================] - 0s 856us/step - loss: 0.0047 - accuracy: 0.0363 - val_loss: 0.0046 - val_accuracy: 0.0222\n",
            "Epoch 5/10\n",
            "82/82 [==============================] - 0s 1ms/step - loss: 0.0039 - accuracy: 0.0308 - val_loss: 0.0042 - val_accuracy: 0.0222\n",
            "Epoch 6/10\n",
            "82/82 [==============================] - 0s 1ms/step - loss: 0.0034 - accuracy: 0.0417 - val_loss: 0.0038 - val_accuracy: 0.0222\n",
            "Epoch 7/10\n",
            "82/82 [==============================] - 0s 1ms/step - loss: 0.0031 - accuracy: 0.0414 - val_loss: 0.0035 - val_accuracy: 0.0222\n",
            "Epoch 8/10\n",
            "82/82 [==============================] - 0s 891us/step - loss: 0.0027 - accuracy: 0.0378 - val_loss: 0.0031 - val_accuracy: 0.0222\n",
            "Epoch 9/10\n",
            "82/82 [==============================] - 0s 975us/step - loss: 0.0027 - accuracy: 0.0390 - val_loss: 0.0032 - val_accuracy: 0.0222\n",
            "Epoch 10/10\n",
            "82/82 [==============================] - 0s 1ms/step - loss: 0.0025 - accuracy: 0.0298 - val_loss: 0.0028 - val_accuracy: 0.0222\n",
            "3/3 [==============================] - 0s 729us/step - loss: 0.0028 - accuracy: 0.0222\n",
            "Loss = 0.0028104314114898443, rmse = 0.02222222276031971\n",
            "Loss array:  [0.002495452994480729, 0.0028104314114898443]\n",
            "####################### Iteration   2  #######################\n",
            "Epoch 1/10\n",
            "82/82 [==============================] - 0s 1ms/step - loss: 0.2279 - accuracy: 0.0222 - val_loss: 0.0727 - val_accuracy: 0.0222\n",
            "Epoch 2/10\n",
            "82/82 [==============================] - 0s 738us/step - loss: 0.0738 - accuracy: 0.0245 - val_loss: 0.0303 - val_accuracy: 0.0222\n",
            "Epoch 3/10\n",
            "82/82 [==============================] - 0s 775us/step - loss: 0.0267 - accuracy: 0.0308 - val_loss: 0.0088 - val_accuracy: 0.0222\n",
            "Epoch 4/10\n",
            "82/82 [==============================] - 0s 732us/step - loss: 0.0090 - accuracy: 0.0437 - val_loss: 0.0045 - val_accuracy: 0.0222\n",
            "Epoch 5/10\n",
            "82/82 [==============================] - 0s 863us/step - loss: 0.0046 - accuracy: 0.0354 - val_loss: 0.0041 - val_accuracy: 0.0222\n",
            "Epoch 6/10\n",
            "82/82 [==============================] - 0s 1ms/step - loss: 0.0039 - accuracy: 0.0326 - val_loss: 0.0036 - val_accuracy: 0.0222\n",
            "Epoch 7/10\n",
            "82/82 [==============================] - 0s 954us/step - loss: 0.0035 - accuracy: 0.0355 - val_loss: 0.0034 - val_accuracy: 0.0222\n",
            "Epoch 8/10\n",
            "82/82 [==============================] - 0s 983us/step - loss: 0.0034 - accuracy: 0.0311 - val_loss: 0.0032 - val_accuracy: 0.0222\n",
            "Epoch 9/10\n",
            "82/82 [==============================] - 0s 966us/step - loss: 0.0032 - accuracy: 0.0329 - val_loss: 0.0030 - val_accuracy: 0.0222\n",
            "Epoch 10/10\n",
            "82/82 [==============================] - 0s 1ms/step - loss: 0.0031 - accuracy: 0.0320 - val_loss: 0.0030 - val_accuracy: 0.0222\n",
            "3/3 [==============================] - 0s 797us/step - loss: 0.0030 - accuracy: 0.0222\n",
            "Loss = 0.0030149254016578197, rmse = 0.02222222276031971\n",
            "Loss array:  [0.002495452994480729, 0.0028104314114898443, 0.0030149254016578197]\n",
            "####################### Iteration   3  #######################\n",
            "Epoch 1/10\n",
            "82/82 [==============================] - 0s 1ms/step - loss: 0.2711 - accuracy: 0.0142 - val_loss: 0.0908 - val_accuracy: 0.0333\n",
            "Epoch 2/10\n",
            "82/82 [==============================] - 0s 771us/step - loss: 0.0614 - accuracy: 0.0146 - val_loss: 0.0268 - val_accuracy: 0.0778\n",
            "Epoch 3/10\n",
            "82/82 [==============================] - 0s 891us/step - loss: 0.0184 - accuracy: 0.0174 - val_loss: 0.0087 - val_accuracy: 0.0778\n",
            "Epoch 4/10\n",
            "82/82 [==============================] - 0s 1ms/step - loss: 0.0074 - accuracy: 0.0257 - val_loss: 0.0056 - val_accuracy: 0.0778\n",
            "Epoch 5/10\n",
            "82/82 [==============================] - 0s 1ms/step - loss: 0.0051 - accuracy: 0.0278 - val_loss: 0.0042 - val_accuracy: 0.0778\n",
            "Epoch 6/10\n",
            "82/82 [==============================] - 0s 1ms/step - loss: 0.0038 - accuracy: 0.0254 - val_loss: 0.0036 - val_accuracy: 0.0778\n",
            "Epoch 7/10\n",
            "82/82 [==============================] - 0s 996us/step - loss: 0.0035 - accuracy: 0.0284 - val_loss: 0.0033 - val_accuracy: 0.0778\n",
            "Epoch 8/10\n",
            "82/82 [==============================] - 0s 957us/step - loss: 0.0031 - accuracy: 0.0231 - val_loss: 0.0031 - val_accuracy: 0.0778\n",
            "Epoch 9/10\n",
            "82/82 [==============================] - 0s 1ms/step - loss: 0.0034 - accuracy: 0.0276 - val_loss: 0.0029 - val_accuracy: 0.0778\n",
            "Epoch 10/10\n",
            "82/82 [==============================] - 0s 1ms/step - loss: 0.0030 - accuracy: 0.0394 - val_loss: 0.0028 - val_accuracy: 0.0778\n",
            "3/3 [==============================] - 0s 952us/step - loss: 0.0028 - accuracy: 0.0778\n",
            "Loss = 0.002810435136780143, rmse = 0.07777778059244156\n",
            "Loss array:  [0.002495452994480729, 0.0028104314114898443, 0.0030149254016578197, 0.002810435136780143]\n",
            "####################### Iteration   4  #######################\n",
            "Epoch 1/10\n",
            "82/82 [==============================] - 0s 1ms/step - loss: 0.1403 - accuracy: 0.0268 - val_loss: 0.0907 - val_accuracy: 0.0222\n",
            "Epoch 2/10\n",
            "82/82 [==============================] - 0s 732us/step - loss: 0.0594 - accuracy: 0.0230 - val_loss: 0.0424 - val_accuracy: 0.0333\n",
            "Epoch 3/10\n",
            "82/82 [==============================] - 0s 781us/step - loss: 0.0303 - accuracy: 0.0443 - val_loss: 0.0159 - val_accuracy: 0.0333\n",
            "Epoch 4/10\n",
            "82/82 [==============================] - 0s 881us/step - loss: 0.0109 - accuracy: 0.0375 - val_loss: 0.0073 - val_accuracy: 0.0333\n",
            "Epoch 5/10\n",
            "82/82 [==============================] - 0s 832us/step - loss: 0.0061 - accuracy: 0.0405 - val_loss: 0.0049 - val_accuracy: 0.0333\n",
            "Epoch 6/10\n",
            "82/82 [==============================] - 0s 960us/step - loss: 0.0042 - accuracy: 0.0397 - val_loss: 0.0039 - val_accuracy: 0.0333\n",
            "Epoch 7/10\n",
            "82/82 [==============================] - 0s 947us/step - loss: 0.0035 - accuracy: 0.0245 - val_loss: 0.0033 - val_accuracy: 0.0333\n",
            "Epoch 8/10\n",
            "82/82 [==============================] - 0s 973us/step - loss: 0.0031 - accuracy: 0.0342 - val_loss: 0.0031 - val_accuracy: 0.0333\n",
            "Epoch 9/10\n",
            "82/82 [==============================] - 0s 954us/step - loss: 0.0032 - accuracy: 0.0269 - val_loss: 0.0028 - val_accuracy: 0.0333\n",
            "Epoch 10/10\n",
            "82/82 [==============================] - 0s 927us/step - loss: 0.0027 - accuracy: 0.0281 - val_loss: 0.0027 - val_accuracy: 0.0333\n",
            "3/3 [==============================] - 0s 935us/step - loss: 0.0027 - accuracy: 0.0333\n",
            "Loss = 0.0026727751828730106, rmse = 0.03333333507180214\n",
            "Loss array:  [0.002495452994480729, 0.0028104314114898443, 0.0030149254016578197, 0.002810435136780143, 0.0026727751828730106]\n",
            "####################### Iteration   5  #######################\n",
            "Epoch 1/10\n",
            "82/82 [==============================] - 0s 1ms/step - loss: 0.2213 - accuracy: 0.0156 - val_loss: 0.0465 - val_accuracy: 0.0444\n",
            "Epoch 2/10\n",
            "82/82 [==============================] - 0s 794us/step - loss: 0.0428 - accuracy: 0.0327 - val_loss: 0.0228 - val_accuracy: 0.0667\n",
            "Epoch 3/10\n",
            "82/82 [==============================] - 0s 850us/step - loss: 0.0172 - accuracy: 0.0390 - val_loss: 0.0105 - val_accuracy: 0.0667\n",
            "Epoch 4/10\n",
            "82/82 [==============================] - 0s 1ms/step - loss: 0.0078 - accuracy: 0.0276 - val_loss: 0.0062 - val_accuracy: 0.0667\n",
            "Epoch 5/10\n",
            "82/82 [==============================] - 0s 974us/step - loss: 0.0055 - accuracy: 0.0220 - val_loss: 0.0043 - val_accuracy: 0.0667\n",
            "Epoch 6/10\n",
            "82/82 [==============================] - 0s 1ms/step - loss: 0.0042 - accuracy: 0.0378 - val_loss: 0.0036 - val_accuracy: 0.0667\n",
            "Epoch 7/10\n",
            "82/82 [==============================] - 0s 972us/step - loss: 0.0036 - accuracy: 0.0299 - val_loss: 0.0035 - val_accuracy: 0.0667\n",
            "Epoch 8/10\n",
            "82/82 [==============================] - 0s 1ms/step - loss: 0.0034 - accuracy: 0.0383 - val_loss: 0.0029 - val_accuracy: 0.0667\n",
            "Epoch 9/10\n",
            "82/82 [==============================] - 0s 1ms/step - loss: 0.0031 - accuracy: 0.0320 - val_loss: 0.0027 - val_accuracy: 0.0667\n",
            "Epoch 10/10\n",
            "82/82 [==============================] - 0s 1ms/step - loss: 0.0029 - accuracy: 0.0361 - val_loss: 0.0028 - val_accuracy: 0.0667\n",
            "3/3 [==============================] - 0s 729us/step - loss: 0.0028 - accuracy: 0.0667\n",
            "Loss = 0.002777026267722249, rmse = 0.06666667014360428\n",
            "Loss array:  [0.002495452994480729, 0.0028104314114898443, 0.0030149254016578197, 0.002810435136780143, 0.0026727751828730106, 0.002777026267722249]\n",
            "####################### Iteration   6  #######################\n",
            "Epoch 1/10\n",
            "82/82 [==============================] - 0s 1ms/step - loss: 0.1817 - accuracy: 0.0268 - val_loss: 0.0448 - val_accuracy: 0.0111\n",
            "Epoch 2/10\n",
            "82/82 [==============================] - 0s 798us/step - loss: 0.0346 - accuracy: 0.0359 - val_loss: 0.0122 - val_accuracy: 0.0111\n",
            "Epoch 3/10\n",
            "82/82 [==============================] - 0s 825us/step - loss: 0.0107 - accuracy: 0.0268 - val_loss: 0.0062 - val_accuracy: 0.0111\n",
            "Epoch 4/10\n",
            "82/82 [==============================] - 0s 998us/step - loss: 0.0062 - accuracy: 0.0362 - val_loss: 0.0045 - val_accuracy: 0.0111\n",
            "Epoch 5/10\n",
            "82/82 [==============================] - 0s 1ms/step - loss: 0.0042 - accuracy: 0.0247 - val_loss: 0.0041 - val_accuracy: 0.0111\n",
            "Epoch 6/10\n",
            "82/82 [==============================] - 0s 1ms/step - loss: 0.0037 - accuracy: 0.0439 - val_loss: 0.0037 - val_accuracy: 0.0111\n",
            "Epoch 7/10\n",
            "82/82 [==============================] - 0s 1ms/step - loss: 0.0032 - accuracy: 0.0498 - val_loss: 0.0036 - val_accuracy: 0.0111\n",
            "Epoch 8/10\n",
            "82/82 [==============================] - 0s 1ms/step - loss: 0.0031 - accuracy: 0.0417 - val_loss: 0.0035 - val_accuracy: 0.0111\n",
            "Epoch 9/10\n",
            "82/82 [==============================] - 0s 1ms/step - loss: 0.0026 - accuracy: 0.0350 - val_loss: 0.0033 - val_accuracy: 0.0111\n",
            "Epoch 10/10\n",
            "82/82 [==============================] - 0s 946us/step - loss: 0.0028 - accuracy: 0.0408 - val_loss: 0.0032 - val_accuracy: 0.0111\n",
            "3/3 [==============================] - 0s 970us/step - loss: 0.0032 - accuracy: 0.0111\n",
            "Loss = 0.0032244324684143066, rmse = 0.011111111380159855\n",
            "Loss array:  [0.002495452994480729, 0.0028104314114898443, 0.0030149254016578197, 0.002810435136780143, 0.0026727751828730106, 0.002777026267722249, 0.0032244324684143066]\n",
            "####################### Iteration   7  #######################\n",
            "Epoch 1/10\n",
            "82/82 [==============================] - 0s 1ms/step - loss: 0.1832 - accuracy: 0.0221 - val_loss: 0.0461 - val_accuracy: 0.0222\n",
            "Epoch 2/10\n",
            "82/82 [==============================] - 0s 743us/step - loss: 0.0416 - accuracy: 0.0376 - val_loss: 0.0114 - val_accuracy: 0.0222\n",
            "Epoch 3/10\n",
            "82/82 [==============================] - 0s 736us/step - loss: 0.0096 - accuracy: 0.0405 - val_loss: 0.0060 - val_accuracy: 0.0222\n",
            "Epoch 4/10\n",
            "82/82 [==============================] - 0s 873us/step - loss: 0.0053 - accuracy: 0.0413 - val_loss: 0.0050 - val_accuracy: 0.0222\n",
            "Epoch 5/10\n",
            "82/82 [==============================] - 0s 980us/step - loss: 0.0042 - accuracy: 0.0444 - val_loss: 0.0032 - val_accuracy: 0.0222\n",
            "Epoch 6/10\n",
            "82/82 [==============================] - 0s 1ms/step - loss: 0.0037 - accuracy: 0.0424 - val_loss: 0.0031 - val_accuracy: 0.0222\n",
            "Epoch 7/10\n",
            "82/82 [==============================] - 0s 1ms/step - loss: 0.0032 - accuracy: 0.0339 - val_loss: 0.0028 - val_accuracy: 0.0222\n",
            "Epoch 8/10\n",
            "82/82 [==============================] - 0s 1ms/step - loss: 0.0027 - accuracy: 0.0288 - val_loss: 0.0027 - val_accuracy: 0.0222\n",
            "Epoch 9/10\n",
            "82/82 [==============================] - 0s 1ms/step - loss: 0.0031 - accuracy: 0.0344 - val_loss: 0.0029 - val_accuracy: 0.0222\n",
            "Epoch 10/10\n",
            "82/82 [==============================] - 0s 1ms/step - loss: 0.0024 - accuracy: 0.0339 - val_loss: 0.0025 - val_accuracy: 0.0222\n",
            "3/3 [==============================] - 0s 908us/step - loss: 0.0025 - accuracy: 0.0222\n",
            "Loss = 0.002539227716624737, rmse = 0.02222222276031971\n",
            "Loss array:  [0.002495452994480729, 0.0028104314114898443, 0.0030149254016578197, 0.002810435136780143, 0.0026727751828730106, 0.002777026267722249, 0.0032244324684143066, 0.002539227716624737]\n",
            "####################### Iteration   8  #######################\n",
            "Epoch 1/10\n",
            "82/82 [==============================] - 0s 1ms/step - loss: 0.2409 - accuracy: 0.0230 - val_loss: 0.0897 - val_accuracy: 0.0111\n",
            "Epoch 2/10\n",
            "82/82 [==============================] - 0s 779us/step - loss: 0.0679 - accuracy: 0.0281 - val_loss: 0.0263 - val_accuracy: 0.0222\n",
            "Epoch 3/10\n",
            "82/82 [==============================] - 0s 851us/step - loss: 0.0189 - accuracy: 0.0392 - val_loss: 0.0083 - val_accuracy: 0.0222\n",
            "Epoch 4/10\n",
            "82/82 [==============================] - 0s 1ms/step - loss: 0.0076 - accuracy: 0.0310 - val_loss: 0.0054 - val_accuracy: 0.0222\n",
            "Epoch 5/10\n",
            "82/82 [==============================] - 0s 1ms/step - loss: 0.0049 - accuracy: 0.0488 - val_loss: 0.0045 - val_accuracy: 0.0222\n",
            "Epoch 6/10\n",
            "82/82 [==============================] - 0s 1ms/step - loss: 0.0041 - accuracy: 0.0359 - val_loss: 0.0039 - val_accuracy: 0.0222\n",
            "Epoch 7/10\n",
            "82/82 [==============================] - 0s 1ms/step - loss: 0.0035 - accuracy: 0.0375 - val_loss: 0.0036 - val_accuracy: 0.0222\n",
            "Epoch 8/10\n",
            "82/82 [==============================] - 0s 943us/step - loss: 0.0032 - accuracy: 0.0346 - val_loss: 0.0034 - val_accuracy: 0.0222\n",
            "Epoch 9/10\n",
            "82/82 [==============================] - 0s 1ms/step - loss: 0.0030 - accuracy: 0.0380 - val_loss: 0.0031 - val_accuracy: 0.0222\n",
            "Epoch 10/10\n",
            "82/82 [==============================] - 0s 1ms/step - loss: 0.0027 - accuracy: 0.0492 - val_loss: 0.0031 - val_accuracy: 0.0222\n",
            "3/3 [==============================] - 0s 1ms/step - loss: 0.0031 - accuracy: 0.0222\n",
            "Loss = 0.0030566705390810966, rmse = 0.02222222276031971\n",
            "Loss array:  [0.002495452994480729, 0.0028104314114898443, 0.0030149254016578197, 0.002810435136780143, 0.0026727751828730106, 0.002777026267722249, 0.0032244324684143066, 0.002539227716624737, 0.0030566705390810966]\n",
            "####################### Iteration   9  #######################\n",
            "Epoch 1/10\n",
            "82/82 [==============================] - 0s 3ms/step - loss: 0.1807 - accuracy: 0.0249 - val_loss: 0.0341 - val_accuracy: 0.0444\n",
            "Epoch 2/10\n",
            "82/82 [==============================] - 0s 854us/step - loss: 0.0240 - accuracy: 0.0274 - val_loss: 0.0136 - val_accuracy: 0.0444\n",
            "Epoch 3/10\n",
            "82/82 [==============================] - 0s 763us/step - loss: 0.0089 - accuracy: 0.0381 - val_loss: 0.0074 - val_accuracy: 0.0444\n",
            "Epoch 4/10\n",
            "82/82 [==============================] - 0s 814us/step - loss: 0.0053 - accuracy: 0.0417 - val_loss: 0.0059 - val_accuracy: 0.0444\n",
            "Epoch 5/10\n",
            "82/82 [==============================] - 0s 863us/step - loss: 0.0047 - accuracy: 0.0276 - val_loss: 0.0050 - val_accuracy: 0.0444\n",
            "Epoch 6/10\n",
            "82/82 [==============================] - 0s 948us/step - loss: 0.0036 - accuracy: 0.0370 - val_loss: 0.0046 - val_accuracy: 0.0444\n",
            "Epoch 7/10\n",
            "82/82 [==============================] - 0s 961us/step - loss: 0.0038 - accuracy: 0.0362 - val_loss: 0.0042 - val_accuracy: 0.0444\n",
            "Epoch 8/10\n",
            "82/82 [==============================] - 0s 1ms/step - loss: 0.0042 - accuracy: 0.0466 - val_loss: 0.0041 - val_accuracy: 0.0444\n",
            "Epoch 9/10\n",
            "82/82 [==============================] - 0s 1ms/step - loss: 0.0038 - accuracy: 0.0333 - val_loss: 0.0038 - val_accuracy: 0.0444\n",
            "Epoch 10/10\n",
            "82/82 [==============================] - 0s 1ms/step - loss: 0.0031 - accuracy: 0.0449 - val_loss: 0.0039 - val_accuracy: 0.0444\n",
            "3/3 [==============================] - 0s 966us/step - loss: 0.0039 - accuracy: 0.0444\n",
            "Loss = 0.003893358865752816, rmse = 0.04444444552063942\n",
            "Loss array:  [0.002495452994480729, 0.0028104314114898443, 0.0030149254016578197, 0.002810435136780143, 0.0026727751828730106, 0.002777026267722249, 0.0032244324684143066, 0.002539227716624737, 0.0030566705390810966, 0.003893358865752816]\n"
          ]
        }
      ],
      "source": [
        "from sklearn.model_selection import KFold\n",
        "import numpy as np\n",
        "\n",
        "NUM_EPOCHS = 10\n",
        "BATCH_SIZE = 10\n",
        "K_FOLD_SPLITS = 10\n",
        "\n",
        "\n",
        "# Define the cross-validation process to be used inside cross_val_Score evaluation\n",
        "cv = KFold(n_splits=K_FOLD_SPLITS)\n",
        "\n",
        "# Handling for accommodating multiple targets\n",
        "Y = y_train_norm[:,0]\n",
        "\n",
        "X = X_train_norm\n",
        "\n",
        "i = 0\n",
        "arr_loss = list()\n",
        "min_loss = 1000000\n",
        "best_model = None\n",
        "history = None\n",
        "history_best_model = None\n",
        "\n",
        "# Perform k-fold cross-validation\n",
        "for train_indices, test_indices in cv.split(X_train):\n",
        "  print('####################### Iteration  ', i, ' #######################')\n",
        "  trainX, testX = np.array(X[train_indices]), np.array(X[test_indices])\n",
        "  trainY = (Y[train_indices])\n",
        "  testY = (Y[test_indices])\n",
        "\n",
        "  model = my_model()\n",
        "  history = model.fit(trainX, trainY,\n",
        "            epochs=NUM_EPOCHS,\n",
        "            batch_size=BATCH_SIZE,\n",
        "            validation_data = (testX, testY)\n",
        "  )\n",
        "\n",
        "\n",
        "  #testing on validation set process\n",
        "  loss, rmse = model.evaluate(x = testX, y = testY, verbose=1)\n",
        "  print(f\"Loss = {loss}, rmse = {rmse}\" )\n",
        "\n",
        "  if loss < min_loss:\n",
        "    best_model = model\n",
        "    history_best_model = history\n",
        "    min_loss = loss\n",
        "\n",
        "  arr_loss.append(loss)\n",
        "  print('Loss array: ', arr_loss)\n",
        "  i+=1\n",
        "\n",
        "# Saving the best model within the k folds\n",
        "best_model.save(FILENAME_BEST_MODEL)"
      ]
    },
    {
      "attachments": {},
      "cell_type": "markdown",
      "metadata": {},
      "source": [
        "# Results\n",
        "- Plot of k-cross validation performance\n",
        "- Scatter Plot of prediction results against true values"
      ]
    },
    {
      "cell_type": "code",
      "execution_count": 14,
      "metadata": {},
      "outputs": [
        {
          "name": "stdout",
          "output_type": "stream",
          "text": [
            "['loss', 'accuracy', 'val_loss', 'val_accuracy']\n"
          ]
        }
      ],
      "source": [
        "print(list(history_best_model.history.keys()))"
      ]
    },
    {
      "cell_type": "code",
      "execution_count": 15,
      "metadata": {
        "colab": {
          "base_uri": "https://localhost:8080/",
          "height": 628
        },
        "id": "xKSkPnO4ETWD",
        "outputId": "564ee694-d414-4d21-bbd9-f838e7249dd7"
      },
      "outputs": [
        {
          "name": "stderr",
          "output_type": "stream",
          "text": [
            "No handles with labels found to put in legend.\n"
          ]
        },
        {
          "data": {
            "image/png": "[encoded data removed]",
            "text/plain": [
              "<Figure size 800x300 with 1 Axes>"
            ]
          },
          "metadata": {},
          "output_type": "display_data"
        },
        {
          "data": {
            "image/png": "[encoded data removed]",
            "text/plain": [
              "<Figure size 640x480 with 1 Axes>"
            ]
          },
          "metadata": {},
          "output_type": "display_data"
        }
      ],
      "source": [
        "# Loss across k folds\n",
        "plot_line(arr_loss, \"Loss across k-folds\", \"Value of k\")\n",
        "\n",
        "# Training and Validation Loss\n",
        "plot_loss_curve(history_best_model, NUM_EPOCHS)"
      ]
    },
    {
      "attachments": {},
      "cell_type": "markdown",
      "metadata": {},
      "source": [
        "## Prediction on Test Dataset"
      ]
    },
    {
      "cell_type": "code",
      "execution_count": 16,
      "metadata": {},
      "outputs": [],
      "source": [
        "# Normalize the test dataset\n",
        "X_test_norm = scaler_input.transform(X_test)\n",
        "y_test_norm = scaler_output.transform(y_test)"
      ]
    },
    {
      "cell_type": "code",
      "execution_count": 17,
      "metadata": {},
      "outputs": [
        {
          "name": "stdout",
          "output_type": "stream",
          "text": [
            "Elapsed time: 0.036 seconds\n"
          ]
        }
      ],
      "source": [
        "import time\n",
        "\n",
        "start_time = time.time()\n",
        "pred_mc = best_model.predict(X_test_norm)\n",
        "end_time = time.time()\n",
        "\n",
        "# Calculate elapsed time in seconds\n",
        "elapsed_time = end_time - start_time\n",
        "print(\"Elapsed time:\", round(elapsed_time, 3), \"seconds\")\n",
        "\n",
        "Y_pred = scaler_output.inverse_transform(pred_mc)\n",
        "Y_actual = np.array(y_test)"
      ]
    },
    {
      "attachments": {},
      "cell_type": "markdown",
      "metadata": {},
      "source": [
        "## Plotting Real vs Predicted values"
      ]
    },
    {
      "cell_type": "code",
      "execution_count": 19,
      "metadata": {
        "colab": {
          "base_uri": "https://localhost:8080/",
          "height": 1000
        },
        "id": "v-erJ0l_Yu4P",
        "outputId": "9cff94b2-e4ca-491b-8459-aeaa1eff7606"
      },
      "outputs": [
        {
          "name": "stdout",
          "output_type": "stream",
          "text": [
            "Maxval here is:  36.31057\n"
          ]
        },
        {
          "data": {
            "image/png": "[encoded data removed]",
            "text/plain": [
              "<Figure size 800x300 with 1 Axes>"
            ]
          },
          "metadata": {},
          "output_type": "display_data"
        }
      ],
      "source": [
        "# MOISTURE CONTENT\n",
        "scatter_plot(trueValues=Y_actual[:,0], \n",
        "             predictions=Y_pred[:,0], \n",
        "             title=\"Moisture Content\")\n",
        "plt.xlim([min(min(Y_pred[:,0]), min(Y_actual[:,0]))-1, max(max(Y_pred[:,0]), max(Y_actual[:,0]))+1])\n",
        "\n",
        "a, b = np.polyfit(Y_pred[:, 0], Y_actual[:, 0], 1) # y = ax + b\n",
        "x_best_fit = np.arange(0, max(max(Y_pred[:,0]), max(Y_actual[:,0]))+0.1, 0.1)\n",
        "plt.plot(x_best_fit, a*x_best_fit + b, c='red', label='Best fit')\n",
        "plt.legend()\n",
        "\n",
        "plt.savefig('../Poster/Results/obj_1_MC.svg',\n",
        "                bbox_inches='tight',\n",
        "                dpi=300, \n",
        "                transparent=True)           "
      ]
    },
    {
      "attachments": {},
      "cell_type": "markdown",
      "metadata": {},
      "source": [
        "# Error analysis\n",
        "- R squared calculation\n",
        "- Mean accuracy error"
      ]
    },
    {
      "attachments": {},
      "cell_type": "markdown",
      "metadata": {},
      "source": [
        "### R squared calculation"
      ]
    },
    {
      "cell_type": "code",
      "execution_count": null,
      "metadata": {},
      "outputs": [
        {
          "name": "stdout",
          "output_type": "stream",
          "text": [
            "0.9522\n"
          ]
        }
      ],
      "source": [
        "from sklearn.metrics import r2_score\n",
        "\n",
        "# MOISTURE CONTENT\n",
        "#   - R-squared\n",
        "# mc_r2_score = r2_score(Y_actual[:, 0], Y_pred[:, 0])\n",
        "mc_r2_score = calculate_r_squared(y_true=Y_actual[:, 0], y_pred=Y_pred[:, 0])\n",
        "# print('MC: ', mc_r2_score)\n",
        "print(\"{:#.4g}\".format(mc_r2_score))"
      ]
    },
    {
      "cell_type": "markdown",
      "metadata": {},
      "source": [
        "### RMSE for test dataset"
      ]
    },
    {
      "cell_type": "code",
      "execution_count": null,
      "metadata": {},
      "outputs": [
        {
          "name": "stdout",
          "output_type": "stream",
          "text": [
            "1.810\n"
          ]
        }
      ],
      "source": [
        "from sklearn.metrics import mean_squared_error\n",
        "\n",
        "rmse = np.sqrt(mean_squared_error(Y_actual[:, 0], Y_pred[:, 0]))\n",
        "# print('RMSE: ', rmse)\n",
        "print(\"{:#.4g}\".format(rmse))"
      ]
    }
  ],
  "metadata": {
    "colab": {
      "gpuType": "T4",
      "provenance": [],
      "toc_visible": true
    },
    "kernelspec": {
      "display_name": "Python 3",
      "name": "python3"
    },
    "language_info": {
      "codemirror_mode": {
        "name": "ipython",
        "version": 3
      },
      "file_extension": ".py",
      "mimetype": "text/x-python",
      "name": "python",
      "nbconvert_exporter": "python",
      "pygments_lexer": "ipython3",
      "version": "3.7.16"
    }
  },
  "nbformat": 4,
  "nbformat_minor": 0
}
