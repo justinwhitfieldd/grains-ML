{
 "cells": [
  {
   "cell_type": "code",
   "execution_count": 2,
   "metadata": {},
   "outputs": [
    {
     "name": "stdout",
     "output_type": "stream",
     "text": [
      "Combined CSV file has been created.\n"
     ]
    }
   ],
   "source": [
    "import pandas as pd\n",
    "import os\n",
    "\n",
    "# List of CSV files and their corresponding grain types\n",
    "files_and_grains = [\n",
    "    (\"../../Datasets/processed/Barley.csv\", \"Barley\"),\n",
    "    (\"../../Datasets/processed/Corn.csv\", \"Corn\"),\n",
    "    (\"../../Datasets/processed/Oats.csv\", \"Oats\"),\n",
    "    (\"../../Datasets/processed/Sorghum.csv\", \"Sorghum\"),\n",
    "    (\"../../Datasets/processed/Wheat.csv\", \"Wheat\")\n",
    "]\n",
    "\n",
    "combined_data = []  # This will store the data from all files\n",
    "\n",
    "# Iterate through each file and grain type\n",
    "for file_name, grain_type in files_and_grains:\n",
    "    # Check if the file exists to avoid FileNotFoundError\n",
    "    if os.path.exists(file_name):\n",
    "        # Read the CSV file\n",
    "        df = pd.read_csv(file_name)\n",
    "        # Add the grain type column\n",
    "        df['Grain Type'] = grain_type\n",
    "        # Append the dataframe to the list\n",
    "        combined_data.append(df)\n",
    "    else:\n",
    "        print(f\"File {file_name} not found. Skipping.\")\n",
    "\n",
    "# Concatenate all dataframes in the list into one\n",
    "combined_df = pd.concat(combined_data, ignore_index=True)\n",
    "\n",
    "# Save the combined dataframe to a new CSV file\n",
    "combined_df.to_csv('Combined_Grains.csv', index=False)\n",
    "\n",
    "print(\"Combined CSV file has been created.\")\n"
   ]
  }
 ],
 "metadata": {
  "kernelspec": {
   "display_name": "venv_ml",
   "language": "python",
   "name": "python3"
  },
  "language_info": {
   "codemirror_mode": {
    "name": "ipython",
    "version": 3
   },
   "file_extension": ".py",
   "mimetype": "text/x-python",
   "name": "python",
   "nbconvert_exporter": "python",
   "pygments_lexer": "ipython3",
   "version": "3.7.16"
  }
 },
 "nbformat": 4,
 "nbformat_minor": 2
}
