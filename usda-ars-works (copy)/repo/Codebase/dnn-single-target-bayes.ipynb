{
  "cells": [
    {
      "cell_type": "markdown",
      "metadata": {},
      "source": [
        "# Global constants"
      ]
    },
    {
      "cell_type": "code",
      "execution_count": 238,
      "metadata": {},
      "outputs": [],
      "source": [
        "GRAIN_TYPE = 'generated_wheat'\n",
        "#GRAIN_TYPE = 'newWheatData'\n",
        "#GRAIN_TYPE = 'CornAdded_Type'\n",
        "#GRAIN_TYPE = 'cleaned_data'\n",
        "# GRAIN_TYPE = 'Oats'\n",
        "\n",
        "# GRAIN_TYPE = 'Barley'\n",
        "# GRAIN_TYPE = 'Sorghum'\n",
        "# GRAIN_TYPE = 'Soybeans'\n",
        "# GRAIN_TYPE = 'Corn'\n",
        "\n",
        "FILENAME_BEST_MODEL = 'Best models/target_2/hybrid_models/' + GRAIN_TYPE + '_t2_kcv_dnn_mc.h5'"
      ]
    },
    {
      "cell_type": "code",
      "execution_count": 239,
      "metadata": {
        "colab": {
          "base_uri": "https://localhost:8080/"
        },
        "id": "cNGoIGbc0kw_",
        "outputId": "279cc9c8-32fd-4f89-e56b-83a0a31081dd"
      },
      "outputs": [
        {
          "name": "stdout",
          "output_type": "stream",
          "text": [
            "2.10.0\n"
          ]
        }
      ],
      "source": [
        "#Import libraries\n",
        "import requests\n",
        "import pandas as pd\n",
        "import kerastuner as kt\n",
        "\n",
        "#Data visualization\n",
        "import seaborn as sn\n",
        "import matplotlib.pyplot as plt\n",
        "import random\n",
        "#Data Manipulation\n",
        "import pandas as pd\n",
        "import numpy as np\n",
        "\n",
        "# Machine Learning\n",
        "import tensorflow as tf\n",
        "from tensorflow.keras.models import Model, Sequential\n",
        "from tensorflow.keras.layers import Dense, Input, Activation, BatchNormalization\n",
        "from tensorflow.keras.utils import plot_model\n",
        "from sklearn.model_selection import train_test_split, KFold\n",
        "np.random.seed(39)\n",
        "random.seed(39)\n",
        "tf.random.set_seed(39)\n",
        "print(tf.__version__)"
      ]
    },
    {
      "cell_type": "markdown",
      "metadata": {},
      "source": [
        "## Helper functions"
      ]
    },
    {
      "cell_type": "code",
      "execution_count": 240,
      "metadata": {
        "id": "nxHO_qH0Zi5J"
      },
      "outputs": [],
      "source": [
        "def calculate_r_squared(y_true, y_pred):\n",
        "   corr_matrix = np.corrcoef(y_true, y_pred)\n",
        "   corr = corr_matrix[0,1]\n",
        "   R_sq = corr**2\n",
        "   return R_sq\n",
        "\n",
        "def plot_loss_curve(history, epoch_size):\n",
        "    loss_train = history.history['loss']\n",
        "    loss_val = history.history['val_loss']\n",
        "    epochs = range(0,epoch_size)\n",
        "    \n",
        "    plt.plot(epochs, loss_train, 'g', label='Training loss')\n",
        "    plt.plot(epochs, loss_val, 'b', label='Validation loss')\n",
        "    \n",
        "    plt.title('Training and Validation loss')\n",
        "    plt.xlabel('Epochs')\n",
        "    plt.ylabel('Loss')\n",
        "    \n",
        "    plt.legend()\n",
        "    plt.show()\n",
        "\n",
        "def plot_line(metric, title, xlabel):\n",
        "    plt.figure(figsize=(8,3))\n",
        "    plt.title(title, fontsize = 16)\n",
        "    plt.plot(metric)\n",
        "    plt.xlabel(xlabel, fontsize = 14)\n",
        "    plt.grid()\n",
        "    plt.legend(loc= \"best\")\n",
        "    plt.show()\n",
        "\n",
        "def scatter_plot(trueValues, predictions, title):\n",
        "  plt.figure(figsize=(8,3))\n",
        "  ax = plt.axes()\n",
        "  maxVal = max( max(trueValues), max(predictions) )\n",
        "\n",
        "  ax.scatter(x=predictions, y=trueValues)\n",
        "  ax.plot([0, 1, maxVal], [0, 1, maxVal], label=\"Ideal fit\")\n",
        "  print('Maxval here is: ', maxVal)\n",
        "  plt.title(title, fontsize = 16)\n",
        "  plt.xlabel(\"Predictions\", fontsize = 14)\n",
        "  plt.ylabel(\"Real\", fontsize = 14)\n",
        "  plt.grid()"
      ]
    },
    {
      "cell_type": "code",
      "execution_count": 241,
      "metadata": {
        "colab": {
          "base_uri": "https://localhost:8080/",
          "height": 224
        },
        "id": "s3pvA5g-zdgv",
        "outputId": "7a7208f1-6b68-4eba-ad1d-9108d0df66ac"
      },
      "outputs": [
        {
          "name": "stdout",
          "output_type": "stream",
          "text": [
            "From USDA:  ../Datasets/processed/generated_wheat.csv\n"
          ]
        },
        {
          "data": {
            "text/html": [
              "<div>\n",
              "<style scoped>\n",
              "    .dataframe tbody tr th:only-of-type {\n",
              "        vertical-align: middle;\n",
              "    }\n",
              "\n",
              "    .dataframe tbody tr th {\n",
              "        vertical-align: top;\n",
              "    }\n",
              "\n",
              "    .dataframe thead th {\n",
              "        text-align: right;\n",
              "    }\n",
              "</style>\n",
              "<table border=\"1\" class=\"dataframe\">\n",
              "  <thead>\n",
              "    <tr style=\"text-align: right;\">\n",
              "      <th></th>\n",
              "      <th>Variety</th>\n",
              "      <th>Freq</th>\n",
              "      <th>M%</th>\n",
              "      <th>Phase_Corr</th>\n",
              "      <th>Permittivity_real</th>\n",
              "      <th>Permittivity_imaginary</th>\n",
              "      <th>d(cm)</th>\n",
              "      <th>Type</th>\n",
              "    </tr>\n",
              "  </thead>\n",
              "  <tbody>\n",
              "    <tr>\n",
              "      <th>0</th>\n",
              "      <td>NEBRASKA SETTLER</td>\n",
              "      <td>10.0</td>\n",
              "      <td>17.049404</td>\n",
              "      <td>-680.45910</td>\n",
              "      <td>2.937890</td>\n",
              "      <td>0.505213</td>\n",
              "      <td>7.7</td>\n",
              "      <td>17.078773</td>\n",
              "    </tr>\n",
              "    <tr>\n",
              "      <th>1</th>\n",
              "      <td>NEBRASKA SETTLER</td>\n",
              "      <td>7.0</td>\n",
              "      <td>13.265861</td>\n",
              "      <td>-509.08597</td>\n",
              "      <td>2.894184</td>\n",
              "      <td>0.409851</td>\n",
              "      <td>8.9</td>\n",
              "      <td>17.078773</td>\n",
              "    </tr>\n",
              "    <tr>\n",
              "      <th>2</th>\n",
              "      <td>NEBRASKA OVERLAND</td>\n",
              "      <td>12.0</td>\n",
              "      <td>21.207432</td>\n",
              "      <td>-489.02466</td>\n",
              "      <td>3.006731</td>\n",
              "      <td>0.705191</td>\n",
              "      <td>4.4</td>\n",
              "      <td>17.420925</td>\n",
              "    </tr>\n",
              "    <tr>\n",
              "      <th>3</th>\n",
              "      <td>KANSAS</td>\n",
              "      <td>5.0</td>\n",
              "      <td>15.010677</td>\n",
              "      <td>-330.08688</td>\n",
              "      <td>2.941219</td>\n",
              "      <td>0.472215</td>\n",
              "      <td>7.7</td>\n",
              "      <td>16.213015</td>\n",
              "    </tr>\n",
              "    <tr>\n",
              "      <th>4</th>\n",
              "      <td>KANSAS</td>\n",
              "      <td>8.0</td>\n",
              "      <td>11.725250</td>\n",
              "      <td>-523.75840</td>\n",
              "      <td>2.591427</td>\n",
              "      <td>0.285974</td>\n",
              "      <td>8.9</td>\n",
              "      <td>16.213015</td>\n",
              "    </tr>\n",
              "  </tbody>\n",
              "</table>\n",
              "</div>"
            ],
            "text/plain": [
              "             Variety  Freq         M%  Phase_Corr  Permittivity_real  \\\n",
              "0   NEBRASKA SETTLER  10.0  17.049404  -680.45910           2.937890   \n",
              "1   NEBRASKA SETTLER   7.0  13.265861  -509.08597           2.894184   \n",
              "2  NEBRASKA OVERLAND  12.0  21.207432  -489.02466           3.006731   \n",
              "3             KANSAS   5.0  15.010677  -330.08688           2.941219   \n",
              "4             KANSAS   8.0  11.725250  -523.75840           2.591427   \n",
              "\n",
              "   Permittivity_imaginary  d(cm)       Type  \n",
              "0                0.505213    7.7  17.078773  \n",
              "1                0.409851    8.9  17.078773  \n",
              "2                0.705191    4.4  17.420925  \n",
              "3                0.472215    7.7  16.213015  \n",
              "4                0.285974    8.9  16.213015  "
            ]
          },
          "execution_count": 241,
          "metadata": {},
          "output_type": "execute_result"
        }
      ],
      "source": [
        "#url dataset\n",
        "URL = \"../Datasets/processed/\" + GRAIN_TYPE + \".csv\"\n",
        "\n",
        "#read in excel format\n",
        "df = pd.read_csv(URL)\n",
        "#df = df[df['Variety'] == 'SOUTH DAKOTA']\n",
        "#df = df[(df['Density'] >= 0.72) & (df['Density'] <= 0.88)]\n",
        "#df = df[(df['Freq'] == 7.0) | (df['Freq'] == 8.0) | (df['Freq'] == 9.0) ]\n",
        "print(\"From USDA: \", URL)\n",
        "\n",
        "\n",
        "df.head()"
      ]
    },
    {
      "attachments": {},
      "cell_type": "markdown",
      "metadata": {
        "id": "Oz1g9T3FzhF0"
      },
      "source": [
        "# Data preparation\n",
        "\n",
        "\n",
        "1.   Convert dataframe to numpy array for flexibility.\n",
        "2. Split our data into training and testing datasets and store the target values in different variables.\n",
        "3.   Normalize the features by applying some operations in the data sets.\n",
        "\n",
        "\n"
      ]
    },
    {
      "cell_type": "code",
      "execution_count": 242,
      "metadata": {
        "id": "T0juhagf1M2I"
      },
      "outputs": [],
      "source": [
        "# Convert to numpy array\n",
        "df_features = df[['Freq', \n",
        "                    'Permittivity_real', \n",
        "                    'Permittivity_imaginary',\n",
        "                    'Type',\n",
        "                    ]]\n",
        "df_targets = df[['M%']]\n",
        "# df_targets = df[['Density', 'M%']]\n",
        "\n",
        "dataset_x = df_features.to_numpy()\n",
        "dataset_y = df_targets.to_numpy()"
      ]
    },
    {
      "cell_type": "markdown",
      "metadata": {},
      "source": [
        "## Splitting dataset to test and train+validate"
      ]
    },
    {
      "cell_type": "code",
      "execution_count": 243,
      "metadata": {},
      "outputs": [],
      "source": [
        "from sklearn.preprocessing import MinMaxScaler\n",
        "\n",
        "#Normalizing the data set\n",
        "scaler_input = MinMaxScaler()\n",
        "scaler_output = MinMaxScaler()\n",
        "\n",
        "# Normalize the entire dataset (input features)\n",
        "dataset_x_norm = dataset_x # Use transform, NOT fit_transform\n",
        "\n",
        "# Normalize the entire dataset (output targets)\n",
        "dataset_y_norm = dataset_y # Use transform, NOT fit_transform\n"
      ]
    },
    {
      "cell_type": "markdown",
      "metadata": {},
      "source": [
        "## Normalize datasets"
      ]
    },
    {
      "cell_type": "code",
      "execution_count": 244,
      "metadata": {},
      "outputs": [],
      "source": [
        "X_train, X_test, y_train, y_test = train_test_split(dataset_x_norm, dataset_y_norm, \n",
        "                                                    test_size=0.15\n",
        "                                                    ,random_state=42\n",
        "                                                    )\n",
        "\n"
      ]
    },
    {
      "attachments": {},
      "cell_type": "markdown",
      "metadata": {},
      "source": [
        "## Defining and Running model with KCV"
      ]
    },
    {
      "cell_type": "code",
      "execution_count": 245,
      "metadata": {
        "colab": {
          "base_uri": "https://localhost:8080/"
        },
        "id": "khCKKB74hFVT",
        "outputId": "37e79cdf-4183-4559-f560-fceb2fc0c630"
      },
      "outputs": [
        {
          "name": "stdout",
          "output_type": "stream",
          "text": [
            "  0%|          | 0/10000 [00:00<?, ?trial/s, best loss=?]"
          ]
        },
        {
          "name": "stdout",
          "output_type": "stream",
          "text": [
            " 16%|█▌        | 1569/10000 [27:02:47<505:44:04, 215.95s/trial, best loss: 0.7693520188331604]"
          ]
        },
        {
          "ename": "",
          "evalue": "",
          "output_type": "error",
          "traceback": [
            "\u001b[1;31mThe Kernel crashed while executing code in the current cell or a previous cell. \n",
            "\u001b[1;31mPlease review the code in the cell(s) to identify a possible cause of the failure. \n",
            "\u001b[1;31mClick <a href='https://aka.ms/vscodeJupyterKernelCrash'>here</a> for more info. \n",
            "\u001b[1;31mView Jupyter <a href='command:jupyter.viewOutput'>log</a> for further details."
          ]
        }
      ],
      "source": [
        "from tensorflow.keras.models import Sequential\n",
        "from tensorflow.keras.layers import Dense, Input\n",
        "from tensorflow.keras.optimizers import Adam\n",
        "from sklearn.model_selection import train_test_split\n",
        "from hyperopt import hp, fmin, tpe, STATUS_OK, Trials\n",
        "import numpy as np\n",
        "from tensorflow.keras.callbacks import EarlyStopping\n",
        "from hyperopt import space_eval\n",
        "\n",
        "# Assuming your dataset_x_norm and dataset_y_norm are already defined and preprocessed\n",
        "\n",
        "# Define the space of hyperparameters to search\n",
        "space = {\n",
        "    'num_layers': hp.choice('num_layers', [2,3,4,5,6,7,8,9]),\n",
        "    'units_per_layer': hp.choice('units_per_layer', [ 128,140, 180,256,300,350,400,450]),\n",
        "    'learning_rate': hp.loguniform('learning_rate', np.log(0.0001), np.log(0.01)),\n",
        "    'epochs': hp.choice('epochs', [210,215,220,225]),\n",
        "    'batch_size':hp.choice('batch_size', [8,10,16])\n",
        "}\n",
        "\n",
        "def objective(params):\n",
        "    model = Sequential()\n",
        "    model.add(Dense(params['units_per_layer'], input_dim=df_features.shape[1], activation='relu'))\n",
        "    for _ in range(params['num_layers']):\n",
        "        model.add(Dense(params['units_per_layer'], activation='relu'))\n",
        "    model.add(Dense(1, activation='linear'))  # Output layer\n",
        "    model.compile(optimizer=Adam(learning_rate=params['learning_rate']), loss='mean_squared_error')\n",
        "    \n",
        "    # Train the model with validation split\n",
        "    history = model.fit(X_train, y_train, batch_size=params['batch_size'], epochs=params['epochs'], verbose=0, validation_split=0.15)\n",
        "    \n",
        "    # Use the history object to access the validation loss\n",
        "    val_loss = np.amin(history.history['val_loss'])\n",
        "    \n",
        "    return {'loss': val_loss, 'status': STATUS_OK}\n",
        "\n",
        "trials = Trials()\n",
        "best = fmin(objective,\n",
        "            space=space,\n",
        "            algo=tpe.suggest,\n",
        "            max_evals=10000,  # Adjusted number of evaluations\n",
        "            trials=trials)\n",
        "\n",
        "# A more efficient way to retrieve the best parameters\n",
        "best_params = space_eval(space, best)\n",
        "print(f\"Best hyperparameters: {best_params}\")\n",
        "\n",
        "# Retrain the model with the best hyperparameters\n",
        "model = Sequential()\n",
        "model.add(Dense(best_params['units_per_layer'], input_dim=df_features.shape[1], activation='relu'))\n",
        "for _ in range(best_params['num_layers']):  # Adjust for initial layer\n",
        "    model.add(Dense(best_params['units_per_layer'], activation='relu'))\n",
        "model.add(Dense(1, activation='linear'))\n",
        "model.compile(optimizer=Adam(learning_rate=best_params['learning_rate']) ,loss='mean_squared_error')\n",
        "\n",
        "# Assuming best_params['epochs'] and best_params['batch_size'] are properly defined\n",
        "model.fit(X_train, y_train, epochs=best_params['epochs'], batch_size=best_params['batch_size'], verbose=0)\n",
        "\n",
        "# Save the model\n",
        "model.save('best_model.h5')\n",
        "\n",
        "print(\"Model saved as best_model.h5\")"
      ]
    },
    {
      "attachments": {},
      "cell_type": "markdown",
      "metadata": {},
      "source": [
        "# Results\n",
        "- Plot of k-cross validation performance\n",
        "- Scatter Plot of prediction results against true values"
      ]
    },
    {
      "cell_type": "code",
      "execution_count": null,
      "metadata": {
        "colab": {
          "base_uri": "https://localhost:8080/",
          "height": 628
        },
        "id": "xKSkPnO4ETWD",
        "outputId": "564ee694-d414-4d21-bbd9-f838e7249dd7"
      },
      "outputs": [
        {
          "name": "stdout",
          "output_type": "stream",
          "text": [
            "{'batch_size': 8, 'epochs': 220, 'learning_rate': 0.0020998033566924216, 'num_layers': 9, 'units_per_layer': 180}\n"
          ]
        }
      ],
      "source": [
        "# Loss across k folds\n",
        "print(best_params)"
      ]
    },
    {
      "cell_type": "markdown",
      "metadata": {},
      "source": [
        "### Loss curves"
      ]
    },
    {
      "cell_type": "code",
      "execution_count": null,
      "metadata": {},
      "outputs": [],
      "source": [
        "def plot_loss_curve(history, epoch_size):\n",
        "    loss_train = history.history['loss']\n",
        "    loss_val = history.history['val_loss']\n",
        "    epochs = range(0,epoch_size)\n",
        "    \n",
        "    plt.plot(epochs, loss_train, 'g', label='Training loss')\n",
        "    plt.plot(epochs, loss_val, 'b', label='Validation loss')\n",
        "    \n",
        "    plt.title('Training and Validation loss')\n",
        "    plt.xlabel('Epochs')\n",
        "    plt.ylabel('Loss')\n",
        "    \n",
        "    plt.legend()\n",
        "    plt.show()\n",
        "\n",
        "\n",
        "\n",
        "# # Loss across k folds\n",
        "# plot_line(arr_loss, \"Loss across k-folds\", \"Value of k\")\n",
        "\n",
        "# # Training and Validation Loss\n",
        "# plot_loss_curve(history_best_model, NUM_EPOCHS)"
      ]
    },
    {
      "cell_type": "markdown",
      "metadata": {},
      "source": [
        "# Prediction on Test Dataset"
      ]
    },
    {
      "cell_type": "code",
      "execution_count": null,
      "metadata": {
        "colab": {
          "base_uri": "https://localhost:8080/",
          "height": 1000
        },
        "id": "v-erJ0l_Yu4P",
        "outputId": "9cff94b2-e4ca-491b-8459-aeaa1eff7606"
      },
      "outputs": [
        {
          "name": "stdout",
          "output_type": "stream",
          "text": [
            "4/4 [==============================] - 0s 1ms/step\n",
            "26/26 [==============================] - 0s 496us/step\n",
            "Elapsed time: 0.0882 seconds\n",
            "Maxval here is:  24.41\n"
          ]
        },
        {
          "data": {
            "image/png": "[encoded data removed]",
            "text/plain": [
              "<Figure size 800x300 with 1 Axes>"
            ]
          },
          "metadata": {},
          "output_type": "display_data"
        }
      ],
      "source": [
        "import time\n",
        "\n",
        "start_time = time.time()\n",
        "Y_pred_normalized = model.predict(X_test)\n",
        "end_time = time.time()\n",
        "Y_pred_normalized_entire = model.predict(dataset_x_norm)\n",
        "# Calculate elapsed time in seconds\n",
        "elapsed_time = end_time - start_time\n",
        "print(\"Elapsed time:\", round(elapsed_time, 3), \"seconds\")\n",
        "\n",
        "\n",
        "Y_pred = Y_pred_normalized\n",
        "Y_pred_entire = Y_pred_normalized_entire\n",
        "Y_actual = y_test\n",
        "Y_actual_entire = np.array(df_targets)\n",
        "# Moisture Content\n",
        "scatter_plot(trueValues=Y_actual[:,0], \n",
        "             predictions=Y_pred[:,0], \n",
        "             title=\"Moisture Content\")\n",
        "a, b = np.polyfit(Y_pred[:, 0], Y_actual[:, 0], 1) # y = ax + b\n",
        "x_best_fit = np.arange(0, max(max(Y_pred[:,0]), max(Y_actual[:,0])), 1)\n",
        "plt.plot(x_best_fit, a*x_best_fit + b, c='red', label='Best fit')\n",
        "plt.legend()\n",
        "plt.savefig('../Poster/Results/obj_3_MC.svg', dpi=300,\n",
        "                bbox_inches='tight',\n",
        "                transparent=True)\n",
        "# import time\n",
        "\n",
        "# start_time = time.time()\n",
        "# Y_pred_normalized = model.predict(X_test)\n",
        "# end_time = time.time()\n",
        "# Y_pred_normalized_entire = model.predict(dataset_x_norm)\n",
        "# # Calculate elapsed time in seconds\n",
        "# elapsed_time = end_time - start_time\n",
        "# print(\"Elapsed time:\", round(elapsed_time, 3), \"seconds\")\n",
        "\n",
        "\n",
        "# Y_pred = scaler_output.inverse_transform(Y_pred_normalized)\n",
        "# Y_pred_entire = scaler_output.inverse_transform(Y_pred_normalized_entire)\n",
        "# Y_actual = scaler_output.inverse_transform(y_test)\n",
        "# Y_actual_entire = np.array(df_targets)\n",
        "# # Moisture Content\n",
        "# scatter_plot(trueValues=Y_actual[:,0], \n",
        "#              predictions=Y_pred[:,0], \n",
        "#              title=\"Moisture Content\")\n",
        "# a, b = np.polyfit(Y_pred[:, 0], Y_actual[:, 0], 1) # y = ax + b\n",
        "# x_best_fit = np.arange(0, max(max(Y_pred[:,0]), max(Y_actual[:,0])), 1)\n",
        "# plt.plot(x_best_fit, a*x_best_fit + b, c='red', label='Best fit')\n",
        "# plt.legend()\n",
        "# plt.savefig('../Poster/Results/obj_3_MC.svg', dpi=300,\n",
        "#                 bbox_inches='tight',\n",
        "#                 transparent=True)"
      ]
    },
    {
      "attachments": {},
      "cell_type": "markdown",
      "metadata": {},
      "source": [
        "# Error analysis\n",
        "- R squared calculation\n",
        "- Mean accuracy error"
      ]
    },
    {
      "attachments": {},
      "cell_type": "markdown",
      "metadata": {},
      "source": [
        "### R squared calculation"
      ]
    },
    {
      "cell_type": "code",
      "execution_count": null,
      "metadata": {},
      "outputs": [
        {
          "name": "stdout",
          "output_type": "stream",
          "text": [
            "0.9380\n"
          ]
        }
      ],
      "source": [
        "from sklearn.metrics import r2_score\n",
        "\n",
        "# MOISTURE CONTENT\n",
        "#   - R-squared\n",
        "# mc_r2_score = r2_score(Y_actual[:, 0], Y_pred[:, 0])\n",
        "mc_r2_score = calculate_r_squared(y_true=Y_actual[:, 0], y_pred=Y_pred[:, 0])\n",
        "print(\"{:#.4g}\".format(mc_r2_score))\n",
        "\n",
        "\n"
      ]
    },
    {
      "cell_type": "markdown",
      "metadata": {},
      "source": [
        "### RMSE"
      ]
    },
    {
      "cell_type": "code",
      "execution_count": null,
      "metadata": {},
      "outputs": [
        {
          "name": "stdout",
          "output_type": "stream",
          "text": [
            "RMSE_MC:  0.9925\n"
          ]
        }
      ],
      "source": [
        "from sklearn.metrics import mean_squared_error\n",
        "from sigfig import round\n",
        "def print_variety_counts(df, train_idx, test_idx, variety_column='Variety'):\n",
        "    # Extracting varieties based on indices\n",
        "    train_varieties = df.loc[train_idx, variety_column]\n",
        "    test_varieties = df.loc[test_idx, variety_column]\n",
        "    \n",
        "    # Counting occurrences\n",
        "    train_counts = train_varieties.value_counts()\n",
        "    test_counts = test_varieties.value_counts()\n",
        "    \n",
        "    # Printing\n",
        "    print(\"Training Set Variety Counts:\")\n",
        "    print(train_counts, \"\\n\")\n",
        "    print(\"Testing Set Variety Counts:\")\n",
        "    print(test_counts)\n",
        "\n",
        "def calculate_errors_by_variety(df, Y_pred, Y_actual, test_idx, variety_column='Variety'):\n",
        "    # Create DataFrame from test_idx to map back to original df\n",
        "    test_varieties = df.loc[test_idx, variety_column].reset_index(drop=True)\n",
        "    \n",
        "    # Convert predictions and actual values to DataFrame\n",
        "    predictions_df = pd.DataFrame({'Predicted': Y_pred.flatten(), 'Actual': Y_actual.flatten()})\n",
        "    \n",
        "    # Add variety information\n",
        "    predictions_df['Variety'] = test_varieties\n",
        "    \n",
        "    # Calculate absolute error\n",
        "    predictions_df['AbsError'] = abs(predictions_df['Predicted'] - predictions_df['Actual'])\n",
        "    \n",
        "    # Group by variety and calculate max and mean error\n",
        "    error_stats = predictions_df.groupby('Variety')['AbsError'].agg(['max', 'mean']).reset_index()\n",
        "    \n",
        "    # Rename columns for better readability\n",
        "    error_stats.rename(columns={'max': 'MaxError', 'mean': 'AvgError'}, inplace=True)\n",
        "    \n",
        "    # Print results\n",
        "    print(error_stats)\n",
        "\n",
        "#print_variety_counts(df, train_idx, test_idx, 'Variety')  # Assuming 'Type' is your variety column\n",
        "\n",
        "#calculate_errors_by_variety(df, Y_pred, Y_actual, test_idx, 'Variety')\n",
        "#MC\n",
        "rmse_mc = np.sqrt(mean_squared_error(Y_actual[:, 0], Y_pred[:, 0]))\n",
        "print('RMSE_MC: ', \"{0:.4g}\".format(rmse_mc))"
      ]
    },
    {
      "cell_type": "markdown",
      "metadata": {},
      "source": [
        "Now we will compare with the results from Trabelsi's paper. This is single moisture prediction \n",
        "\n",
        "R^2 : 0.993\\\n",
        "Mean Squared Error: 0.028\\\n",
        "Mean absolute Error: 0.135\\\n",
        "Min. Absolute Error: 0.004\\\n",
        "Max Absolute Error: 0.441"
      ]
    },
    {
      "cell_type": "markdown",
      "metadata": {},
      "source": []
    },
    {
      "cell_type": "code",
      "execution_count": null,
      "metadata": {},
      "outputs": [
        {
          "name": "stdout",
          "output_type": "stream",
          "text": [
            "R^2: 0.9248\n",
            "Mean Squared Error:  0.9851\n",
            "Mean Absolute Error:  0.7694\n",
            "Min Absolute Error:  0.008567428588866832\n",
            "Max Absolute Error:  2.8327742767333994\n"
          ]
        },
        {
          "name": "stderr",
          "output_type": "stream",
          "text": [
            "/home/zeenat/anaconda3/envs/WindowVersions/lib/python3.10/site-packages/sklearn/metrics/_regression.py:483: FutureWarning: 'squared' is deprecated in version 1.4 and will be removed in 1.6. To calculate the root mean squared error, use the function'root_mean_squared_error'.\n",
            "  warnings.warn(\n"
          ]
        }
      ],
      "source": [
        "from sklearn.metrics import mean_squared_error, mean_absolute_error,max_error, r2_score\n",
        "from sigfig import round\n",
        "\n",
        "mc_r2_score = r2_score(y_true=Y_actual[:, 0], y_pred=Y_pred[:, 0])\n",
        "print(\"R^2: {:#.4g}\".format(mc_r2_score))\n",
        "mse_mc = mean_squared_error(Y_actual[:, 0], Y_pred[:, 0], squared=True)\n",
        "print('Mean Squared Error: ', \"{0:.4g}\".format(mse_mc))\n",
        "mae_mc = mean_absolute_error(Y_actual[:, 0], Y_pred[:, 0])\n",
        "print('Mean Absolute Error: ', \"{0:.4g}\".format(mae_mc))\n",
        "\n",
        "sums = []\n",
        "for i in range(len(Y_actual[:,0])):\n",
        "    sum = Y_actual[:,0][i] - Y_pred[:,0][i]\n",
        "    #print(Y_actual[:,0][i],\" - \",Y_pred[:,0][i],'=',sum)\n",
        "    sums.append(abs(sum))\n",
        "print(\"Min Absolute Error: \",min(sums))\n",
        "print(\"Max Absolute Error: \",max(sums))\n",
        "\n",
        "\n"
      ]
    },
    {
      "cell_type": "code",
      "execution_count": null,
      "metadata": {},
      "outputs": [
        {
          "name": "stdout",
          "output_type": "stream",
          "text": [
            "R^2: 0.9205\n",
            "Mean Squared Error:  1.144\n",
            "Mean Absolute Error:  0.8232\n",
            "Min Absolute Error:  0.0014926147460947448\n",
            "Max Absolute Error:  4.625110778808594\n"
          ]
        },
        {
          "name": "stderr",
          "output_type": "stream",
          "text": [
            "/home/zeenat/anaconda3/envs/WindowVersions/lib/python3.10/site-packages/sklearn/metrics/_regression.py:483: FutureWarning: 'squared' is deprecated in version 1.4 and will be removed in 1.6. To calculate the root mean squared error, use the function'root_mean_squared_error'.\n",
            "  warnings.warn(\n"
          ]
        }
      ],
      "source": [
        "mc_r2_score = r2_score(Y_actual_entire[:, 0], Y_pred_entire[:, 0])\n",
        "print(\"R^2: {:#.4g}\".format(mc_r2_score))\n",
        "mse_mc = mean_squared_error(Y_actual_entire[:, 0], Y_pred_entire[:, 0], squared=True)\n",
        "print('Mean Squared Error: ', \"{0:.4g}\".format(mse_mc))\n",
        "mae_mc = mean_absolute_error(Y_actual_entire[:, 0], Y_pred_entire[:, 0])\n",
        "print('Mean Absolute Error: ', \"{0:.4g}\".format(mae_mc))\n",
        "\n",
        "sums = []\n",
        "for i in range(len(Y_actual_entire[:,0])):\n",
        "    sum = Y_actual_entire[:,0][i] - Y_pred_entire[:,0][i]\n",
        "    #print(Y_actual[:,0][i],\" - \",Y_pred[:,0][i],'=',sum)\n",
        "    sums.append(abs(sum))\n",
        "print(\"Min Absolute Error: \",min(sums))\n",
        "print(\"Max Absolute Error: \",max(sums))"
      ]
    }
  ],
  "metadata": {
    "colab": {
      "gpuType": "T4",
      "provenance": [],
      "toc_visible": true
    },
    "kernelspec": {
      "display_name": "Python 3",
      "name": "python3"
    },
    "language_info": {
      "codemirror_mode": {
        "name": "ipython",
        "version": 3
      },
      "file_extension": ".py",
      "mimetype": "text/x-python",
      "name": "python",
      "nbconvert_exporter": "python",
      "pygments_lexer": "ipython3",
      "version": "3.10.13"
    }
  },
  "nbformat": 4,
  "nbformat_minor": 0
}
