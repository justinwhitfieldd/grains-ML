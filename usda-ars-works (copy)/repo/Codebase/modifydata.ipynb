{
 "cells": [
  {
   "cell_type": "code",
   "execution_count": 8,
   "metadata": {},
   "outputs": [
    {
     "name": "stdout",
     "output_type": "stream",
     "text": [
      "Counts of different values in the 'Variety' column:\n",
      "GA PRICHARD    123\n",
      "NE 3292 C      122\n",
      "NE 3001        118\n",
      "GA COOK        104\n",
      "GA WOODRUFF    104\n",
      "Name: Variety, dtype: int64\n"
     ]
    }
   ],
   "source": [
    "import pandas as pd\n",
    "\n",
    "# Load the CSV file\n",
    "df = pd.read_csv('../Datasets/processed/Soybeans.csv')\n",
    "\n",
    "# Check if the 'Variety' column exists in the DataFrame\n",
    "if 'Variety' in df.columns:\n",
    "    # Count the occurrences of each unique value in the 'Variety' column\n",
    "    variety_counts = df['Variety'].value_counts()\n",
    "\n",
    "    # Print the counts\n",
    "    print(\"Counts of different values in the 'Variety' column:\")\n",
    "    print(variety_counts)\n",
    "else:\n",
    "    print(\"'Variety' column not found in the CSV file.\")\n"
   ]
  },
  {
   "cell_type": "code",
   "execution_count": 2,
   "metadata": {},
   "outputs": [
    {
     "name": "stdout",
     "output_type": "stream",
     "text": [
      "Filtered data saved to newWheatData.csv\n"
     ]
    },
    {
     "name": "stderr",
     "output_type": "stream",
     "text": [
      "/home/zeenat/anaconda3/envs/venv_ml/lib/python3.7/site-packages/ipykernel_launcher.py:15: SettingWithCopyWarning: \n",
      "A value is trying to be set on a copy of a slice from a DataFrame.\n",
      "Try using .loc[row_indexer,col_indexer] = value instead\n",
      "\n",
      "See the caveats in the documentation: https://pandas.pydata.org/pandas-docs/stable/user_guide/indexing.html#returning-a-view-versus-a-copy\n",
      "  from ipykernel import kernelapp as app\n"
     ]
    }
   ],
   "source": [
    "import pandas as pd\n",
    "\n",
    "GRAIN_TYPE = \"Wheat\"  # Assuming you have defined GRAIN_TYPE somewhere\n",
    "URL = \"../Datasets/processed/\" + GRAIN_TYPE + \".csv\"\n",
    "\n",
    "# Read in csv format\n",
    "df = pd.read_csv(URL)\n",
    "\n",
    "# Filter rows where the \"Variety\" column is \"KANSAS\"\n",
    "if 'Variety' in df.columns and 'Phase' in df.columns and 'Attn' in df.columns:\n",
    "    df_kansas = df[df['Variety'].str.upper() == 'KANSAS']  # This also makes the comparison case-insensitive\n",
    "\n",
    "    # Calculate the \"Phase/Attn\" column\n",
    "    # It's good practice to handle division by zero or invalid data\n",
    "    df_kansas['Phase/Attn'] = df_kansas['Phase'] / df_kansas['Attn'].replace({0: None})\n",
    "\n",
    "    # Save the filtered and modified DataFrame to a new CSV file\n",
    "    df_kansas.to_csv('newWheatData.csv', index=False)\n",
    "    print('Filtered data saved to newWheatData.csv')\n",
    "else:\n",
    "    missing_columns = []\n",
    "    if 'Variety' not in df.columns:\n",
    "        missing_columns.append('Variety')\n",
    "    if 'Phase' not in df.columns:\n",
    "        missing_columns.append('Phase')\n",
    "    if 'Attn' not in df.columns:\n",
    "        missing_columns.append('Attn')\n",
    "    print(f\"Missing column(s) in the DataFrame: {', '.join(missing_columns)}\")\n"
   ]
  },
  {
   "cell_type": "code",
   "execution_count": 10,
   "metadata": {},
   "outputs": [
    {
     "name": "stdout",
     "output_type": "stream",
     "text": [
      "Minimum and Maximum values for each variety:\n",
      "              Unnamed: 0       Freq       d(cm)          M%        Density  \\\n",
      "                     min   max  min   max   min  max    min    max     min   \n",
      "Variety                                                                      \n",
      "HI BRED 31D58          0   112  5.0  12.0   3.3  6.5  16.61  31.58  0.4488   \n",
      "HI BRED 33H82        113   222  5.0  16.0   2.0  8.5   9.47  33.55  0.5261   \n",
      "HI BRED 33Y74        223   419  5.0  18.0   3.3  8.5   8.06  22.57  0.5741   \n",
      "HI BRED 34M78        420   630  5.0  18.0   3.3  8.5   8.19  27.26  0.5213   \n",
      "HI BRED 35F38        631   758  5.0  17.0   3.3  7.7  14.63  23.30  0.5452   \n",
      "ILLINOIS             773   898  5.0  13.0   3.3  6.5  19.08  31.24  0.5141   \n",
      "INDIANA              899  1032  5.0  15.0   3.3  7.7  13.91  23.61  0.4763   \n",
      "KENTUCKY            1033  1147  5.0  16.0   3.3  7.7  11.95  32.71  0.5615   \n",
      "MISSOURI            1148  1272  5.0  14.0   3.3  8.5  13.09  34.40  0.5154   \n",
      "NEBRASKA            1273  1338  7.0  18.0   6.5  6.5  10.10  10.96  0.7888   \n",
      "\n",
      "                         Attn             Phase          Phase_Corr           \\\n",
      "                  max     min      max      min      max        min      max   \n",
      "Variety                                                                        \n",
      "HI BRED 31D58  0.8622  8.2234  29.6297 -170.545  155.395   -712.715 -204.605   \n",
      "HI BRED 33H82  0.9017  8.0242  29.6297 -173.226  179.764  -1010.073 -150.217   \n",
      "HI BRED 33Y74  0.8749  8.0461  29.8970 -179.324  179.942  -1101.205 -188.274   \n",
      "HI BRED 34M78  0.8804  8.0023  29.8970 -179.974  178.227  -1115.206 -197.522   \n",
      "HI BRED 35F38  0.8143  8.0023  29.8970 -172.388  172.516   -833.625 -202.242   \n",
      "ILLINOIS       0.8354  8.2458  29.8970 -160.144  150.849   -769.827 -231.567   \n",
      "INDIANA        0.8392  8.1343  29.8970 -178.087  179.949   -860.150 -223.020   \n",
      "KENTUCKY       0.8376  8.2458  29.8970 -179.296  169.814   -947.843 -215.895   \n",
      "MISSOURI       0.7805  8.1121  29.8970 -176.428  176.141   -886.458 -216.455   \n",
      "NEBRASKA       0.8616  8.1565  29.6297 -169.909  179.659   -883.591 -360.293   \n",
      "\n",
      "              Permittivity_real        Permittivity_imaginary         \n",
      "                            min    max                    min    max  \n",
      "Variety                                                               \n",
      "HI BRED 31D58             2.822  5.255                  0.566  2.348  \n",
      "HI BRED 33H82             2.607  5.979                  0.321  3.294  \n",
      "HI BRED 33Y74             2.492  4.022                  0.242  1.346  \n",
      "HI BRED 34M78             2.487  4.445                  0.243  1.569  \n",
      "HI BRED 35F38             2.452  3.835                  0.442  1.268  \n",
      "ILLINOIS                  2.996  5.357                  0.735  2.284  \n",
      "INDIANA                   2.405  4.040                  0.391  1.347  \n",
      "KENTUCKY                  2.529  5.574                  0.334  2.606  \n",
      "MISSOURI                  2.468  5.621                  0.341  2.538  \n",
      "NEBRASKA                  2.505  2.782                  0.282  0.465  \n"
     ]
    }
   ],
   "source": [
    "import pandas as pd\n",
    "\n",
    "GRAIN_TYPE = \"Corn\"  # Assuming you have defined GRAIN_TYPE somewhere\n",
    "URL = \"../Datasets/processed/\" + GRAIN_TYPE + \".csv\"\n",
    "# Read in csv format\n",
    "df = pd.read_csv(URL)\n",
    "\n",
    "# Check if the 'Variety' column exists in the DataFrame\n",
    "if 'Variety' in df.columns:\n",
    "    # Group the DataFrame by 'Variety' and then calculate min and max for each numeric column\n",
    "    grouped = df.groupby('Variety').agg(['min', 'max'])\n",
    "\n",
    "    # Print the result\n",
    "    print(\"Minimum and Maximum values for each variety:\")\n",
    "    print(grouped)\n",
    "else:\n",
    "    print(\"'Variety' column not found in the DataFrame.\")\n"
   ]
  },
  {
   "cell_type": "code",
   "execution_count": 4,
   "metadata": {},
   "outputs": [
    {
     "name": "stdout",
     "output_type": "stream",
     "text": [
      "Variety                      Count            Freq           d(cm)              M%         Density            Attn           Phase      Phase_Corr Permittivity_real Permittivity_imaginary\n",
      "KANSAS                       178.0         11.253           7.080          15.856           0.767          18.213          -4.896        -619.727           2.778           0.461\n",
      "NEBRASKA OVERLAND            166.0         10.614           7.156          16.402           0.771          18.767          -1.886        -622.127           2.882           0.507\n",
      "NEBRASKA SETTLER             164.0         10.409           7.186          16.400           0.820          19.278          -5.802        -651.168           3.034           0.542\n",
      "OKLAHOMA                     178.0         11.674           7.102          15.353           0.813          16.930          -2.117        -663.465           2.816           0.425\n",
      "SOUTH DAKOTA                 120.0          9.700           6.857          17.344           0.819          19.217          -9.989        -600.989           3.128           0.598\n"
     ]
    }
   ],
   "source": [
    "import pandas as pd\n",
    "\n",
    "# Load the data\n",
    "GRAIN_TYPE = \"Corn\"  # Assuming you have defined GRAIN_TYPE somewhere\n",
    "URL = \"../Datasets/processed/\" + GRAIN_TYPE + \".csv\"\n",
    "df = pd.read_csv(URL)\n",
    "\n",
    "# Columns for which you want to calculate the average\n",
    "columns_to_average = [\n",
    "    'Freq', 'd(cm)', 'M%', 'Density', 'Attn', 'Phase', \n",
    "    'Phase_Corr', 'Permittivity_real', 'Permittivity_imaginary'\n",
    "]\n",
    "\n",
    "# Group by 'Variety', calculate the mean for the specified columns, and count for each group\n",
    "aggregation = {col: 'mean' for col in columns_to_average}\n",
    "aggregation['Variety'] = 'size'\n",
    "grouped = df.groupby('Variety').agg(aggregation)\n",
    "\n",
    "# Rename the 'Variety' column to 'Count'\n",
    "grouped.rename(columns={'Variety': 'Count'}, inplace=True)\n",
    "\n",
    "# Find the longest variety name for formatting\n",
    "max_variety_length = max(len(str(variety)) for variety in grouped.index)\n",
    "\n",
    "# Prepare the header\n",
    "header_names = [\"Variety\", \"Count\"] + columns_to_average\n",
    "header_str = f\"{header_names[0]: <{max_variety_length}}  \" + ' '.join([f\"{name: >15}\" for name in header_names[1:]])\n",
    "print(header_str)\n",
    "\n",
    "# Print the results\n",
    "for variety, row in grouped.iterrows():\n",
    "    # Format variety names to have equal distance from the first number\n",
    "    variety_str = f\"{variety: <{max_variety_length}}  \"\n",
    "    # Get count and average values, ensure correct formatting\n",
    "    count_str = f\"{row['Count']: >15}\"\n",
    "    avg_values_str = ' '.join([f\"{value: >15.3f}\" for value in row[columns_to_average]])\n",
    "    print(variety_str + count_str + avg_values_str)"
   ]
  },
  {
   "cell_type": "markdown",
   "metadata": {},
   "source": [
    "now we will create a csv file with the column type, that will have the average moisture content and act as the category. And the column Phase / Attn which will have well exactly what the name says\n"
   ]
  },
  {
   "cell_type": "code",
   "execution_count": 9,
   "metadata": {},
   "outputs": [],
   "source": [
    "import pandas as pd\n",
    "\n",
    "# Load the data\n",
    "GRAIN_TYPE = \"Wheat\"  # Assuming you have defined GRAIN_TYPE somewhere\n",
    "URL = \"../Datasets/processed/\" + GRAIN_TYPE + \".csv\"\n",
    "df = pd.read_csv(URL)\n",
    "# Calculate the mean M% for each variety\n",
    "mean_m_per_variety = df.groupby('Variety')['M%'].mean().reset_index()\n",
    "mean_m_per_variety.rename(columns={'M%': 'Type'}, inplace=True)\n",
    "\n",
    "# Merge the mean M% back into the original DataFrame\n",
    "df_with_type = pd.merge(df, mean_m_per_variety, how='left', on='Variety')\n",
    "# Add a new column 'Phase/Attn' representing phase divided by attn\n",
    "df_with_type['Phase/Attn'] = df_with_type['Phase'] / df_with_type['Attn']\n",
    "\n",
    "# Handle potential division by zero or NaN values, if necessary\n",
    "df_with_type['Phase/Attn'] = df_with_type['Phase/Attn'].replace([float('inf'), -float('inf')], pd.NA)\n",
    "# Export the updated DataFrame to a new CSV file\n",
    "df_with_type.to_csv('../Datasets/processed/' + GRAIN_TYPE + 'Added_Type.csv', index=False)\n"
   ]
  }
 ],
 "metadata": {
  "kernelspec": {
   "display_name": "venv_ml",
   "language": "python",
   "name": "python3"
  },
  "language_info": {
   "codemirror_mode": {
    "name": "ipython",
    "version": 3
   },
   "file_extension": ".py",
   "mimetype": "text/x-python",
   "name": "python",
   "nbconvert_exporter": "python",
   "pygments_lexer": "ipython3",
   "version": "3.7.16"
  },
  "orig_nbformat": 4
 },
 "nbformat": 4,
 "nbformat_minor": 2
}
