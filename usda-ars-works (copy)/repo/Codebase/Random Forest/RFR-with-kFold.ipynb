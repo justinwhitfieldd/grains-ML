{
 "cells": [
  {
   "cell_type": "code",
   "execution_count": 5,
   "metadata": {},
   "outputs": [],
   "source": [
    "import pandas as pd\n",
    "from sklearn.model_selection import KFold\n",
    "from sklearn.ensemble import RandomForestRegressor\n",
    "from sklearn.metrics import mean_squared_error, mean_absolute_error, r2_score\n",
    "from sklearn.preprocessing import LabelEncoder\n",
    "import numpy as np\n",
    "\n",
    "GRAIN_TYPE = 'Wheat'\n",
    "#GRAIN_TYPE = 'newWheatData'\n",
    "#GRAIN_TYPE = 'Combined_Grains'\n",
    "# GRAIN_TYPE = 'Oats'\n",
    "# GRAIN_TYPE = 'Barley'\n",
    "# GRAIN_TYPE = 'Sorghum'\n",
    "# GRAIN_TYPE = 'Soybeans'\n",
    "# GRAIN_TYPE = 'Corn'\n",
    "# Define lists to store the results for each fold\n",
    "r2_scores_mc = []\n",
    "mse_scores_mc = []\n",
    "mae_scores_mc = []\n",
    "min_abs_errors_mc = []\n",
    "max_abs_errors_mc = []\n",
    "\n",
    "r2_scores_density = []\n",
    "mse_scores_density = []\n",
    "mae_scores_density = []\n",
    "min_abs_errors_density = []\n",
    "max_abs_errors_density = []\n",
    "\n",
    "max_error_indices_mc = []\n",
    "max_error_indices_density = []\n"
   ]
  },
  {
   "cell_type": "markdown",
   "metadata": {},
   "source": [
    "Load Dataset and handle processing"
   ]
  },
  {
   "cell_type": "code",
   "execution_count": 6,
   "metadata": {},
   "outputs": [],
   "source": [
    "URL = \"../../Datasets/processed/\" + GRAIN_TYPE + \".csv\"\n",
    "\n",
    "# Load the dataset\n",
    "df = pd.read_csv(URL)\n",
    "#df = df[df['Variety'] == 'SOUTH DAKOTA']\n",
    "# Encode categorical variables if 'Variety' is categorical\n",
    "if df['Variety'].dtype == 'object':\n",
    "    le = LabelEncoder()\n",
    "    df['Variety'] = le.fit_transform(df['Variety'])\n",
    "\n",
    "# Define the features and the target variables\n",
    "X = df[['Freq', 'd(cm)', 'Attn', 'Phase_Corr', 'Permittivity_real', 'Permittivity_imaginary', 'Variety']]\n",
    "y = df[['Density']]"
   ]
  },
  {
   "cell_type": "markdown",
   "metadata": {},
   "source": [
    "Now perform K-fold splitting and eval"
   ]
  },
  {
   "cell_type": "code",
   "execution_count": 7,
   "metadata": {},
   "outputs": [
    {
     "name": "stderr",
     "output_type": "stream",
     "text": [
      "/home/zeenat/anaconda3/envs/venv_ml/lib/python3.7/site-packages/ipykernel_launcher.py:13: DataConversionWarning: A column-vector y was passed when a 1d array was expected. Please change the shape of y to (n_samples,), for example using ravel().\n",
      "  del sys.path[0]\n",
      "/home/zeenat/anaconda3/envs/venv_ml/lib/python3.7/site-packages/ipykernel_launcher.py:13: DataConversionWarning: A column-vector y was passed when a 1d array was expected. Please change the shape of y to (n_samples,), for example using ravel().\n",
      "  del sys.path[0]\n",
      "/home/zeenat/anaconda3/envs/venv_ml/lib/python3.7/site-packages/ipykernel_launcher.py:13: DataConversionWarning: A column-vector y was passed when a 1d array was expected. Please change the shape of y to (n_samples,), for example using ravel().\n",
      "  del sys.path[0]\n",
      "/home/zeenat/anaconda3/envs/venv_ml/lib/python3.7/site-packages/ipykernel_launcher.py:13: DataConversionWarning: A column-vector y was passed when a 1d array was expected. Please change the shape of y to (n_samples,), for example using ravel().\n",
      "  del sys.path[0]\n",
      "/home/zeenat/anaconda3/envs/venv_ml/lib/python3.7/site-packages/ipykernel_launcher.py:13: DataConversionWarning: A column-vector y was passed when a 1d array was expected. Please change the shape of y to (n_samples,), for example using ravel().\n",
      "  del sys.path[0]\n",
      "/home/zeenat/anaconda3/envs/venv_ml/lib/python3.7/site-packages/ipykernel_launcher.py:13: DataConversionWarning: A column-vector y was passed when a 1d array was expected. Please change the shape of y to (n_samples,), for example using ravel().\n",
      "  del sys.path[0]\n",
      "/home/zeenat/anaconda3/envs/venv_ml/lib/python3.7/site-packages/ipykernel_launcher.py:13: DataConversionWarning: A column-vector y was passed when a 1d array was expected. Please change the shape of y to (n_samples,), for example using ravel().\n",
      "  del sys.path[0]\n",
      "/home/zeenat/anaconda3/envs/venv_ml/lib/python3.7/site-packages/ipykernel_launcher.py:13: DataConversionWarning: A column-vector y was passed when a 1d array was expected. Please change the shape of y to (n_samples,), for example using ravel().\n",
      "  del sys.path[0]\n"
     ]
    }
   ],
   "source": [
    "# Initialize the KFold parameters\n",
    "kf = KFold(n_splits=8, random_state=42, shuffle=True)\n",
    "\n",
    "# Initialize the model\n",
    "regressor = RandomForestRegressor(n_estimators=100, random_state=42, min_samples_leaf=3)\n",
    "\n",
    "# Perform 10-fold cross-validation\n",
    "for train_index, test_index in kf.split(X):\n",
    "    X_train, X_test = X.iloc[train_index], X.iloc[test_index]\n",
    "    y_train, y_test = y.iloc[train_index], y.iloc[test_index]\n",
    "\n",
    "    # Train the model\n",
    "    regressor.fit(X_train, y_train)\n",
    "    \n",
    "    # Make predictions\n",
    "    y_pred = regressor.predict(X_test)\n",
    "\n",
    "    # # Calculate metrics for moisture content\n",
    "    # r2_scores_mc.append(r2_score(y_test['M%'], y_pred[:, 0]))\n",
    "    # mse_scores_mc.append(mean_squared_error(y_test['M%'], y_pred[:, 0]))\n",
    "    # mae_scores_mc.append(mean_absolute_error(y_test['M%'], y_pred[:, 0]))\n",
    "    # abs_errors_mc = np.abs(y_test['M%'].values - y_pred[:, 0])\n",
    "    # min_abs_errors_mc.append(np.min(abs_errors_mc))\n",
    "    # max_abs_errors_mc.append(np.max(abs_errors_mc))\n",
    "    # # Find the index of the maximum absolute error for moisture content\n",
    "    # max_error_index_mc = np.argmax(np.abs(y_test['M%'].values - y_pred[:, 0]))\n",
    "    # max_error_indices_mc.append(test_index[max_error_index_mc])\n",
    "\n",
    "    # # Calculate metrics for density\n",
    "    r2_scores_density.append(r2_score(y_test['Density'], y_pred))\n",
    "    mse_scores_density.append(mean_squared_error(y_test['Density'], y_pred))\n",
    "    mae_scores_density.append(mean_absolute_error(y_test['Density'], y_pred))\n",
    "    abs_errors_density = np.abs(y_test['Density'].values - y_pred)\n",
    "    min_abs_errors_density.append(np.min(abs_errors_density))\n",
    "    max_abs_errors_density.append(np.max(abs_errors_density))\n",
    "    # Find the index of the maximum absolute error for density\n",
    "    max_error_index_density = np.argmax(np.abs(y_test['Density'].values - y_pred))\n",
    "    max_error_indices_density.append(test_index[max_error_index_density])\n"
   ]
  },
  {
   "cell_type": "markdown",
   "metadata": {},
   "source": [
    "Now we will display accuracy metrics"
   ]
  },
  {
   "cell_type": "code",
   "execution_count": 8,
   "metadata": {},
   "outputs": [
    {
     "name": "stdout",
     "output_type": "stream",
     "text": [
      "Density Metrics:\n",
      "R^2: 0.8957959588946081\n",
      "Mean Squared Error: 0.0004616999562628844\n",
      "Mean Absolute Error: 0.016481994171369495\n",
      "Min Absolute Error: 8.432886453814403e-05\n",
      "Max Absolute Error: 0.06934115527146471\n",
      "\n",
      "\n",
      " []\n"
     ]
    }
   ],
   "source": [
    "# Print the average metrics for moisture content\n",
    "# print(\"Moisture Content Metrics:\")\n",
    "# print(\"R^2:\", np.mean(r2_scores_mc))\n",
    "# print(\"Mean Squared Error:\", np.mean(mse_scores_mc))\n",
    "# print(\"Mean Absolute Error:\", np.mean(mae_scores_mc))\n",
    "# print(\"Min Absolute Error:\", np.mean(min_abs_errors_mc))\n",
    "# print(\"Max Absolute Error:\", np.mean(max_abs_errors_mc))\n",
    "# Print the average metrics for density\n",
    "print(\"Density Metrics:\")\n",
    "print(\"R^2:\", np.mean(r2_scores_density))\n",
    "print(\"Mean Squared Error:\", np.mean(mse_scores_density))\n",
    "print(\"Mean Absolute Error:\", np.mean(mae_scores_density))\n",
    "print(\"Min Absolute Error:\", np.mean(min_abs_errors_density))\n",
    "print(\"Max Absolute Error:\", np.mean(max_abs_errors_density))\n",
    "\n",
    "print('\\n\\n', max_abs_errors_mc)"
   ]
  },
  {
   "cell_type": "code",
   "execution_count": 10,
   "metadata": {},
   "outputs": [
    {
     "name": "stdout",
     "output_type": "stream",
     "text": [
      "\n",
      "Rows with highest error for density:\n",
      "Index     Variety Freq           d(cm)          M%             Density        Attn           Phase          Phase_Corr          Permittivity_real   Permittivity_imaginary\n",
      "--------------------------------------------------------------------------------------------------------------------------------------------------------------------------\n",
      "254       2.0     15.0           7.7            14.58          0.8861         27.535         105.26         -974.74             2.884               0.445               \n",
      "285       2.0     5.0            6.5            19.19          0.7395         9.3195         45.023         -314.977            3.243               0.569               \n",
      "286       2.0     6.0            6.5            19.19          0.7395         12.111         -11.514        -371.514            3.189               0.612               \n",
      "618       3.0     6.0            6.5            18.11          0.7143         9.1684         36.118         -323.882            2.846               0.437               \n",
      "287       2.0     7.0            6.5            19.19          0.7395         14.751         -62.647        -422.647            3.116               0.633               \n",
      "226       2.0     13.0           7.7            14.58          0.7695         20.7242        -51.42         -771.42             2.684               0.374               \n",
      "607       3.0     8.0            7.7            13.75          0.8684         12.3958        -151.182       -511.182            2.849               0.374               \n",
      "686       4.0     5.0            8.9            13.68          0.8294         10.2008        -29.545        -389.545            2.975               0.436               \n"
     ]
    }
   ],
   "source": [
    "import pandas as pd\n",
    "\n",
    "# ... [rest of your code to perform the cross-validation]\n",
    "\n",
    "# Function to print the details of rows with highest error in a formatted way\n",
    "def print_high_error_rows(indices, data_frame, title):\n",
    "    print(f\"\\n{title}\")\n",
    "    max_variety_length = max([len(str(data_frame.iloc[index]['Variety'])) for index in indices])\n",
    "    # Print the header\n",
    "    header = f\"{'Index':<10}{'Variety':<{max_variety_length + 5}}{'Freq':<15}{'d(cm)':<15}{'M%':<15}{'Density':<15}{'Attn':<15}{'Phase':<15}{'Phase_Corr':<20}{'Permittivity_real':<20}{'Permittivity_imaginary':<20}\"\n",
    "    print(header)\n",
    "    print(\"-\" * len(header))\n",
    "    # Print each row\n",
    "    for index in indices:\n",
    "        row = data_frame.iloc[index]\n",
    "        formatted_row = f\"{index:<10}{row['Variety']:<{max_variety_length + 5}}{row['Freq']:<15}{row['d(cm)']:<15}{row['M%']:<15}{row['Density']:<15}{row['Attn']:<15}{row['Phase']:<15}{row['Phase_Corr']:<20}{row['Permittivity_real']:<20}{row['Permittivity_imaginary']:<20}\"\n",
    "        print(formatted_row)\n",
    "\n",
    "# Assuming max_error_indices_mc and max_error_indices_density are lists of indices for the highest errors\n",
    "#print_high_error_rows(max_error_indices_mc, df, \"Rows with highest error for moisture content:\")\n",
    "print_high_error_rows(max_error_indices_density, df, \"Rows with highest error for density:\")\n"
   ]
  }
 ],
 "metadata": {
  "kernelspec": {
   "display_name": "venv_ml",
   "language": "python",
   "name": "python3"
  },
  "language_info": {
   "codemirror_mode": {
    "name": "ipython",
    "version": 3
   },
   "file_extension": ".py",
   "mimetype": "text/x-python",
   "name": "python",
   "nbconvert_exporter": "python",
   "pygments_lexer": "ipython3",
   "version": "3.7.16"
  }
 },
 "nbformat": 4,
 "nbformat_minor": 2
}
