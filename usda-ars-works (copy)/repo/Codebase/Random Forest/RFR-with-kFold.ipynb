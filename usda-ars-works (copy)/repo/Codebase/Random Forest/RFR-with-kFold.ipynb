{
 "cells": [
  {
   "cell_type": "code",
   "execution_count": 211,
   "metadata": {},
   "outputs": [],
   "source": [
    "import pandas as pd\n",
    "from sklearn.model_selection import KFold\n",
    "from sklearn.ensemble import RandomForestRegressor\n",
    "from sklearn.metrics import mean_squared_error, mean_absolute_error, r2_score\n",
    "from sklearn.preprocessing import LabelEncoder\n",
    "import numpy as np\n",
    "\n",
    "#RAIN_TYPE = 'Wheat'\n",
    "#GRAIN_TYPE = 'newWheatData'\n",
    "GRAIN_TYPE = 'WheatAdded_Type'\n",
    "#GRAIN_TYPE = 'Combined_Grains'\n",
    "# GRAIN_TYPE = 'Oats'\n",
    "# GRAIN_TYPE = 'Barley'\n",
    "# GRAIN_TYPE = 'Sorghum'\n",
    "# GRAIN_TYPE = 'Soybeans'\n",
    "# GRAIN_TYPE = 'Corn'\n",
    "# Define lists to store the results for each fold\n",
    "r2_scores_mc = []\n",
    "mse_scores_mc = []\n",
    "mae_scores_mc = []\n",
    "min_abs_errors_mc = []\n",
    "max_abs_errors_mc = []\n",
    "\n",
    "r2_scores_density = []\n",
    "mse_scores_density = []\n",
    "mae_scores_density = []\n",
    "min_abs_errors_density = []\n",
    "max_abs_errors_density = []\n",
    "\n",
    "max_error_indices_mc = []\n",
    "max_error_indices_density = []\n"
   ]
  },
  {
   "cell_type": "markdown",
   "metadata": {},
   "source": [
    "Load Dataset and handle processing"
   ]
  },
  {
   "cell_type": "code",
   "execution_count": 212,
   "metadata": {},
   "outputs": [],
   "source": [
    "URL = \"../../Datasets/processed/\" + GRAIN_TYPE + \".csv\"\n",
    "\n",
    "# Load the dataset\n",
    "df = pd.read_csv(URL)\n",
    "\n",
    "# Encode categorical variables if 'Variety' is categorical\n",
    "if df['Variety'].dtype == 'object':\n",
    "    le = LabelEncoder()\n",
    "    df['Variety'] = le.fit_transform(df['Variety'])\n",
    "\n",
    "# Define the features and the target variables\n",
    "X = df[['Freq', 'd(cm)', 'Attn', 'Phase_Corr', 'Permittivity_real', 'Permittivity_imaginary', 'Variety']]\n",
    "y = df[['M%', 'Density']]"
   ]
  },
  {
   "cell_type": "markdown",
   "metadata": {},
   "source": [
    "Now perform K-fold splitting and eval"
   ]
  },
  {
   "cell_type": "code",
   "execution_count": 213,
   "metadata": {},
   "outputs": [],
   "source": [
    "# Initialize the KFold parameters\n",
    "kf = KFold(n_splits=10, random_state=42, shuffle=True)\n",
    "\n",
    "# Initialize the model\n",
    "regressor = RandomForestRegressor(n_estimators=100, random_state=42, min_samples_leaf=3)\n",
    "\n",
    "# Perform 10-fold cross-validation\n",
    "for train_index, test_index in kf.split(X):\n",
    "    X_train, X_test = X.iloc[train_index], X.iloc[test_index]\n",
    "    y_train, y_test = y.iloc[train_index], y.iloc[test_index]\n",
    "\n",
    "    # Train the model\n",
    "    regressor.fit(X_train, y_train)\n",
    "    \n",
    "    # Make predictions\n",
    "    y_pred = regressor.predict(X_test)\n",
    "\n",
    "    # Calculate metrics for moisture content\n",
    "    r2_scores_mc.append(r2_score(y_test['M%'], y_pred[:, 0]))\n",
    "    mse_scores_mc.append(mean_squared_error(y_test['M%'], y_pred[:, 0]))\n",
    "    mae_scores_mc.append(mean_absolute_error(y_test['M%'], y_pred[:, 0]))\n",
    "    abs_errors_mc = np.abs(y_test['M%'].values - y_pred[:, 0])\n",
    "    min_abs_errors_mc.append(np.min(abs_errors_mc))\n",
    "    max_abs_errors_mc.append(np.max(abs_errors_mc))\n",
    "    # Find the index of the maximum absolute error for moisture content\n",
    "    max_error_index_mc = np.argmax(np.abs(y_test['M%'].values - y_pred[:, 0]))\n",
    "    max_error_indices_mc.append(test_index[max_error_index_mc])\n",
    "\n",
    "    # Calculate metrics for density\n",
    "    r2_scores_density.append(r2_score(y_test['Density'], y_pred[:, 1]))\n",
    "    mse_scores_density.append(mean_squared_error(y_test['Density'], y_pred[:, 1]))\n",
    "    mae_scores_density.append(mean_absolute_error(y_test['Density'], y_pred[:, 1]))\n",
    "    abs_errors_density = np.abs(y_test['Density'].values - y_pred[:, 1])\n",
    "    min_abs_errors_density.append(np.min(abs_errors_density))\n",
    "    max_abs_errors_density.append(np.max(abs_errors_density))\n",
    "    # Find the index of the maximum absolute error for density\n",
    "    max_error_index_density = np.argmax(np.abs(y_test['Density'].values - y_pred[:, 1]))\n",
    "    max_error_indices_density.append(test_index[max_error_index_density])\n"
   ]
  },
  {
   "cell_type": "markdown",
   "metadata": {},
   "source": [
    "Now we will display accuracy metrics"
   ]
  },
  {
   "cell_type": "code",
   "execution_count": 214,
   "metadata": {},
   "outputs": [
    {
     "name": "stdout",
     "output_type": "stream",
     "text": [
      "Moisture Content Metrics:\n",
      "R^2: 0.9906791745154561\n",
      "Mean Squared Error: 0.10445771129050589\n",
      "Mean Absolute Error: 0.1540288729113959\n",
      "Min Absolute Error: 3.197442310920451e-15\n",
      "Max Absolute Error: 1.7602494349798659\n",
      "Density Metrics:\n",
      "R^2: 0.907767209653187\n",
      "Mean Squared Error: 0.0003708076126859697\n",
      "Mean Absolute Error: 0.013799200248918777\n",
      "Min Absolute Error: 5.1376812733272545e-05\n",
      "Max Absolute Error: 0.0687870627577299\n",
      "\n",
      "\n",
      " [0.7366986328039911, 1.827780528282947, 1.7191473307635423, 1.9295896820744805, 0.8459225770706151, 2.0551389081340403, 1.9439167534121378, 2.1771102497841905, 1.7662688530426234, 2.60092083443009]\n"
     ]
    }
   ],
   "source": [
    "# Print the average metrics for moisture content\n",
    "print(\"Moisture Content Metrics:\")\n",
    "print(\"R^2:\", np.mean(r2_scores_mc))\n",
    "print(\"Mean Squared Error:\", np.mean(mse_scores_mc))\n",
    "print(\"Mean Absolute Error:\", np.mean(mae_scores_mc))\n",
    "print(\"Min Absolute Error:\", np.mean(min_abs_errors_mc))\n",
    "print(\"Max Absolute Error:\", np.mean(max_abs_errors_mc))\n",
    "# Print the average metrics for density\n",
    "print(\"Density Metrics:\")\n",
    "print(\"R^2:\", np.mean(r2_scores_density))\n",
    "print(\"Mean Squared Error:\", np.mean(mse_scores_density))\n",
    "print(\"Mean Absolute Error:\", np.mean(mae_scores_density))\n",
    "print(\"Min Absolute Error:\", np.mean(min_abs_errors_density))\n",
    "print(\"Max Absolute Error:\", np.mean(max_abs_errors_density))\n",
    "\n",
    "print('\\n\\n', max_abs_errors_mc)"
   ]
  },
  {
   "cell_type": "code",
   "execution_count": 215,
   "metadata": {},
   "outputs": [
    {
     "name": "stdout",
     "output_type": "stream",
     "text": [
      "\n",
      "Rows with highest error for moisture content:\n",
      "Index     Variety Freq           d(cm)          M%             Density        Attn           Phase          Phase_Corr          Permittivity_real   Permittivity_imaginary\n",
      "--------------------------------------------------------------------------------------------------------------------------------------------------------------------------\n",
      "1128      2.0     6.0            7.7            14.6955519636445280.888347069728553312.038674473381452-86.12861959981063-419.9021090578576  3.128073492647212   0.4931984205905987  \n",
      "1110      3.0     16.0           7.7            11.2592006402320820.894633248600148320.394764212490657130.50463887631838-969.7236225847512  2.705087806648223   0.3122746184985375  \n",
      "1053      1.0     8.0            7.7            14.4513410694344180.827404736061059814.765396504270877-162.89355451474927-539.6713635377673  2.9338101277525843  0.4765752718018713  \n",
      "902       0.0     12.0           7.7            16.0994632439387250.720759665447976323.097761668262745-14.72971226519773-683.2994930350026  2.6139919502533     0.3884165462720858  \n",
      "532       3.0     6.0            8.9            10.26          0.9205         8.201          -79.873        -439.873            2.837               0.285               \n",
      "987       0.0     5.0            7.7            16.4183661895636880.71203517221274167.93732847297576363.179541610646886-314.5735313547858  2.803290079872352   0.4030549200450647  \n",
      "580       3.0     7.0            7.7            13.75          0.7553         8.9954         -34.656        -394.656            2.584               0.295               \n",
      "1127      0.0     10.0           7.7            13.7554699778102720.80910703209901116.818805481472552104.76743199135494-612.2276683239479  2.7984013356962576  0.4278154850896089  \n",
      "928       3.0     7.0            7.7            11.2101447341990830.9023537425273748.504880397023683-73.35147692529418-399.8018394133948  2.7935482163772827  0.3147188471387712  \n",
      "1056      3.0     9.0            7.7            11.0702395115672360.902002148775550610.826966021979754171.2276387053686-534.0339736881657  2.7593345511392013  0.3284762656932065  \n",
      "\n",
      "Rows with highest error for density:\n",
      "Index     Variety Freq           d(cm)          M%             Density        Attn           Phase          Phase_Corr          Permittivity_real   Permittivity_imaginary\n",
      "--------------------------------------------------------------------------------------------------------------------------------------------------------------------------\n",
      "332       2.0     5.0            4.4            21.36          0.8471         8.5426         90.545         -269.455            4.038               0.862               \n",
      "708       4.0     6.0            8.9            13.68          0.9278         13.2309        -149.37        -509.37             3.203               0.489               \n",
      "429       1.0     13.0           7.7            17.36          0.6992         26.1961        -50.537        -770.537            2.674               0.471               \n",
      "902       0.0     12.0           7.7            16.0994632439387250.720759665447976323.097761668262745-14.72971226519773-683.2994930350026  2.6139919502533     0.3884165462720858  \n",
      "676       3.0     5.0            4.4            24.41          0.7782         8.2908         96.265         -263.735            3.953               0.828               \n",
      "987       0.0     5.0            7.7            16.4183661895636880.71203517221274167.93732847297576363.179541610646886-314.5735313547858  2.803290079872352   0.4030549200450647  \n",
      "580       3.0     7.0            7.7            13.75          0.7553         8.9954         -34.656        -394.656            2.584               0.295               \n",
      "1001      2.0     13.0           7.7            16.7391818593252850.753962488791304625.29206887848793-70.80929125370542-823.9472136004194  2.784404493975291   0.4432969986372614  \n",
      "207       2.0     7.0            8.9            12.18          0.8985         12.2522        -172.371       -532.371            2.92                0.371               \n",
      "686       4.0     5.0            8.9            13.68          0.8294         10.2008        -29.545        -389.545            2.975               0.436               \n"
     ]
    }
   ],
   "source": [
    "import pandas as pd\n",
    "\n",
    "# ... [rest of your code to perform the cross-validation]\n",
    "\n",
    "# Function to print the details of rows with highest error in a formatted way\n",
    "def print_high_error_rows(indices, data_frame, title):\n",
    "    print(f\"\\n{title}\")\n",
    "    max_variety_length = max([len(str(data_frame.iloc[index]['Variety'])) for index in indices])\n",
    "    # Print the header\n",
    "    header = f\"{'Index':<10}{'Variety':<{max_variety_length + 5}}{'Freq':<15}{'d(cm)':<15}{'M%':<15}{'Density':<15}{'Attn':<15}{'Phase':<15}{'Phase_Corr':<20}{'Permittivity_real':<20}{'Permittivity_imaginary':<20}\"\n",
    "    print(header)\n",
    "    print(\"-\" * len(header))\n",
    "    # Print each row\n",
    "    for index in indices:\n",
    "        row = data_frame.iloc[index]\n",
    "        formatted_row = f\"{index:<10}{row['Variety']:<{max_variety_length + 5}}{row['Freq']:<15}{row['d(cm)']:<15}{row['M%']:<15}{row['Density']:<15}{row['Attn']:<15}{row['Phase']:<15}{row['Phase_Corr']:<20}{row['Permittivity_real']:<20}{row['Permittivity_imaginary']:<20}\"\n",
    "        print(formatted_row)\n",
    "\n",
    "# Assuming max_error_indices_mc and max_error_indices_density are lists of indices for the highest errors\n",
    "print_high_error_rows(max_error_indices_mc, df, \"Rows with highest error for moisture content:\")\n",
    "print_high_error_rows(max_error_indices_density, df, \"Rows with highest error for density:\")\n"
   ]
  }
 ],
 "metadata": {
  "kernelspec": {
   "display_name": "venv_ml",
   "language": "python",
   "name": "python3"
  },
  "language_info": {
   "codemirror_mode": {
    "name": "ipython",
    "version": 3
   },
   "file_extension": ".py",
   "mimetype": "text/x-python",
   "name": "python",
   "nbconvert_exporter": "python",
   "pygments_lexer": "ipython3",
   "version": "3.7.16"
  }
 },
 "nbformat": 4,
 "nbformat_minor": 2
}
