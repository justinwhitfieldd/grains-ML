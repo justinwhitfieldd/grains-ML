{
 "cells": [
  {
   "cell_type": "code",
   "execution_count": 21,
   "metadata": {},
   "outputs": [],
   "source": [
    "import pandas as pd\n",
    "from sklearn.model_selection import KFold\n",
    "from sklearn.ensemble import RandomForestRegressor\n",
    "from sklearn.metrics import mean_squared_error, mean_absolute_error, r2_score\n",
    "from sklearn.preprocessing import LabelEncoder\n",
    "import numpy as np\n",
    "\n",
    "GRAIN_TYPE = 'Wheat'\n",
    "#GRAIN_TYPE = 'newWheatData'\n",
    "#GRAIN_TYPE = 'Combined_Grains'\n",
    "# GRAIN_TYPE = 'Oats'\n",
    "# GRAIN_TYPE = 'Barley'\n",
    "# GRAIN_TYPE = 'Sorghum'\n",
    "# GRAIN_TYPE = 'Soybeans'\n",
    "# GRAIN_TYPE = 'Corn'\n",
    "# Define lists to store the results for each fold\n",
    "r2_scores_mc = []\n",
    "mse_scores_mc = []\n",
    "mae_scores_mc = []\n",
    "min_abs_errors_mc = []\n",
    "max_abs_errors_mc = []\n",
    "\n",
    "r2_scores_density = []\n",
    "mse_scores_density = []\n",
    "mae_scores_density = []\n",
    "min_abs_errors_density = []\n",
    "max_abs_errors_density = []\n",
    "\n",
    "max_error_indices_mc = []\n",
    "max_error_indices_density = []\n"
   ]
  },
  {
   "cell_type": "markdown",
   "metadata": {},
   "source": [
    "Load Dataset and handle processing"
   ]
  },
  {
   "cell_type": "code",
   "execution_count": 22,
   "metadata": {},
   "outputs": [],
   "source": [
    "URL = \"../../Datasets/processed/\" + GRAIN_TYPE + \".csv\"\n",
    "\n",
    "# Load the dataset\n",
    "df = pd.read_csv(URL)\n",
    "df = df[df['Variety'] == 'SOUTH DAKOTA']\n",
    "# Encode categorical variables if 'Variety' is categorical\n",
    "if df['Variety'].dtype == 'object':\n",
    "    le = LabelEncoder()\n",
    "    df['Variety'] = le.fit_transform(df['Variety'])\n",
    "\n",
    "# Define the features and the target variables\n",
    "X = df[['Freq', 'd(cm)', 'Attn', 'Phase_Corr', 'Permittivity_real', 'Permittivity_imaginary', 'Variety']]\n",
    "y = df[['M%', 'Density']]"
   ]
  },
  {
   "cell_type": "markdown",
   "metadata": {},
   "source": [
    "Now perform K-fold splitting and eval"
   ]
  },
  {
   "cell_type": "code",
   "execution_count": 23,
   "metadata": {},
   "outputs": [],
   "source": [
    "# Initialize the KFold parameters\n",
    "kf = KFold(n_splits=8, random_state=42, shuffle=True)\n",
    "\n",
    "# Initialize the model\n",
    "regressor = RandomForestRegressor(n_estimators=100, random_state=42, min_samples_leaf=3)\n",
    "\n",
    "# Perform 10-fold cross-validation\n",
    "for train_index, test_index in kf.split(X):\n",
    "    X_train, X_test = X.iloc[train_index], X.iloc[test_index]\n",
    "    y_train, y_test = y.iloc[train_index], y.iloc[test_index]\n",
    "\n",
    "    # Train the model\n",
    "    regressor.fit(X_train, y_train)\n",
    "    \n",
    "    # Make predictions\n",
    "    y_pred = regressor.predict(X_test)\n",
    "\n",
    "    # Calculate metrics for moisture content\n",
    "    r2_scores_mc.append(r2_score(y_test['M%'], y_pred[:, 0]))\n",
    "    mse_scores_mc.append(mean_squared_error(y_test['M%'], y_pred[:, 0]))\n",
    "    mae_scores_mc.append(mean_absolute_error(y_test['M%'], y_pred[:, 0]))\n",
    "    abs_errors_mc = np.abs(y_test['M%'].values - y_pred[:, 0])\n",
    "    min_abs_errors_mc.append(np.min(abs_errors_mc))\n",
    "    max_abs_errors_mc.append(np.max(abs_errors_mc))\n",
    "    # Find the index of the maximum absolute error for moisture content\n",
    "    max_error_index_mc = np.argmax(np.abs(y_test['M%'].values - y_pred[:, 0]))\n",
    "    max_error_indices_mc.append(test_index[max_error_index_mc])\n",
    "\n",
    "    # Calculate metrics for density\n",
    "    r2_scores_density.append(r2_score(y_test['Density'], y_pred[:, 1]))\n",
    "    mse_scores_density.append(mean_squared_error(y_test['Density'], y_pred[:, 1]))\n",
    "    mae_scores_density.append(mean_absolute_error(y_test['Density'], y_pred[:, 1]))\n",
    "    abs_errors_density = np.abs(y_test['Density'].values - y_pred[:, 1])\n",
    "    min_abs_errors_density.append(np.min(abs_errors_density))\n",
    "    max_abs_errors_density.append(np.max(abs_errors_density))\n",
    "    # Find the index of the maximum absolute error for density\n",
    "    max_error_index_density = np.argmax(np.abs(y_test['Density'].values - y_pred[:, 1]))\n",
    "    max_error_indices_density.append(test_index[max_error_index_density])\n"
   ]
  },
  {
   "cell_type": "markdown",
   "metadata": {},
   "source": [
    "Now we will display accuracy metrics"
   ]
  },
  {
   "cell_type": "code",
   "execution_count": 24,
   "metadata": {},
   "outputs": [
    {
     "name": "stdout",
     "output_type": "stream",
     "text": [
      "Moisture Content Metrics:\n",
      "R^2: 0.9999625017515039\n",
      "Mean Squared Error: 0.0002577989999999268\n",
      "Mean Absolute Error: 0.0047150000000244045\n",
      "Min Absolute Error: 3.9968028886505635e-15\n",
      "Max Absolute Error: 0.037100000000009015\n",
      "Density Metrics:\n",
      "R^2: 0.910044125098129\n",
      "Mean Squared Error: 0.00042237255905671787\n",
      "Mean Absolute Error: 0.014184933940689187\n",
      "Min Absolute Error: 0.0007097718163788652\n",
      "Max Absolute Error: 0.05125896556082768\n",
      "\n",
      "\n",
      " [0.048800000000039034, 3.907985046680551e-14, 0.07439999999996161, 0.04959999999995901, 3.907985046680551e-14, 3.907985046680551e-14, 0.09919999999996065, 0.024800000000034572]\n"
     ]
    }
   ],
   "source": [
    "# Print the average metrics for moisture content\n",
    "print(\"Moisture Content Metrics:\")\n",
    "print(\"R^2:\", np.mean(r2_scores_mc))\n",
    "print(\"Mean Squared Error:\", np.mean(mse_scores_mc))\n",
    "print(\"Mean Absolute Error:\", np.mean(mae_scores_mc))\n",
    "print(\"Min Absolute Error:\", np.mean(min_abs_errors_mc))\n",
    "print(\"Max Absolute Error:\", np.mean(max_abs_errors_mc))\n",
    "# Print the average metrics for density\n",
    "print(\"Density Metrics:\")\n",
    "print(\"R^2:\", np.mean(r2_scores_density))\n",
    "print(\"Mean Squared Error:\", np.mean(mse_scores_density))\n",
    "print(\"Mean Absolute Error:\", np.mean(mae_scores_density))\n",
    "print(\"Min Absolute Error:\", np.mean(min_abs_errors_density))\n",
    "print(\"Max Absolute Error:\", np.mean(max_abs_errors_density))\n",
    "\n",
    "print('\\n\\n', max_abs_errors_mc)"
   ]
  },
  {
   "cell_type": "code",
   "execution_count": 25,
   "metadata": {},
   "outputs": [
    {
     "name": "stdout",
     "output_type": "stream",
     "text": [
      "\n",
      "Rows with highest error for moisture content:\n",
      "Index     Variety Freq           d(cm)          M%             Density        Attn           Phase          Phase_Corr          Permittivity_real   Permittivity_imaginary\n",
      "--------------------------------------------------------------------------------------------------------------------------------------------------------------------------\n",
      "36        0.0     11.0           7.7            16.12          0.7582         20.9151        26.995         -693.005            2.81                0.457               \n",
      "31        0.0     6.0            7.7            16.12          0.7582         11.9033        -39.655        -399.655            2.941               0.488               \n",
      "53        0.0     7.0            7.7            16.12          0.8833         16.5363        -166.192       -526.192            3.26                0.612               \n",
      "43        0.0     7.0            7.7            16.12          0.8539         15.7031        -150.161       -510.161            3.174               0.574               \n",
      "38        0.0     13.0           7.7            16.12          0.7582         23.8764        -81.844        -801.844            2.763               0.438               \n",
      "41        0.0     5.0            7.7            16.12          0.8539         10.8122        -16.999        -376.999            3.274               0.56                \n",
      "52        0.0     6.0            7.7            16.12          0.8833         14.334         -100.418       -460.418            3.322               0.624               \n",
      "60        0.0     5.0            6.5            18.6           0.736          8.8981         55.079         -304.921            3.152               0.536               \n",
      "\n",
      "Rows with highest error for density:\n",
      "Index     Variety Freq           d(cm)          M%             Density        Attn           Phase          Phase_Corr          Permittivity_real   Permittivity_imaginary\n",
      "--------------------------------------------------------------------------------------------------------------------------------------------------------------------------\n",
      "89        0.0     6.0            4.4            20.9           0.6873         8.4502         108.163        -251.837            3.191               0.631               \n",
      "0         0.0     5.0            8.9            13.68          0.8294         10.2008        -29.545        -389.545            2.975               0.436               \n",
      "110       0.0     5.0            4.4            20.9           0.8277         8.1565         100.893        -259.107            3.885               0.807               \n",
      "90        0.0     7.0            4.4            20.9           0.6873         9.7623         75.392         -284.608            3.103               0.616               \n",
      "17        0.0     11.0           8.9            13.68          0.8993         21.4116        -130.329       -850.329            2.957               0.415               \n",
      "50        0.0     14.0           7.7            16.12          0.8539         28.8739        135.184        -944.816            2.972               0.511               \n",
      "1         0.0     6.0            8.9            13.68          0.8294         12.111         -102.417       -462.417            2.948               0.429               \n",
      "99        0.0     16.0           4.4            20.9           0.6873         28.4043        134.368        -585.632            2.818               0.752               \n"
     ]
    }
   ],
   "source": [
    "import pandas as pd\n",
    "\n",
    "# ... [rest of your code to perform the cross-validation]\n",
    "\n",
    "# Function to print the details of rows with highest error in a formatted way\n",
    "def print_high_error_rows(indices, data_frame, title):\n",
    "    print(f\"\\n{title}\")\n",
    "    max_variety_length = max([len(str(data_frame.iloc[index]['Variety'])) for index in indices])\n",
    "    # Print the header\n",
    "    header = f\"{'Index':<10}{'Variety':<{max_variety_length + 5}}{'Freq':<15}{'d(cm)':<15}{'M%':<15}{'Density':<15}{'Attn':<15}{'Phase':<15}{'Phase_Corr':<20}{'Permittivity_real':<20}{'Permittivity_imaginary':<20}\"\n",
    "    print(header)\n",
    "    print(\"-\" * len(header))\n",
    "    # Print each row\n",
    "    for index in indices:\n",
    "        row = data_frame.iloc[index]\n",
    "        formatted_row = f\"{index:<10}{row['Variety']:<{max_variety_length + 5}}{row['Freq']:<15}{row['d(cm)']:<15}{row['M%']:<15}{row['Density']:<15}{row['Attn']:<15}{row['Phase']:<15}{row['Phase_Corr']:<20}{row['Permittivity_real']:<20}{row['Permittivity_imaginary']:<20}\"\n",
    "        print(formatted_row)\n",
    "\n",
    "# Assuming max_error_indices_mc and max_error_indices_density are lists of indices for the highest errors\n",
    "print_high_error_rows(max_error_indices_mc, df, \"Rows with highest error for moisture content:\")\n",
    "print_high_error_rows(max_error_indices_density, df, \"Rows with highest error for density:\")\n"
   ]
  }
 ],
 "metadata": {
  "kernelspec": {
   "display_name": "venv_ml",
   "language": "python",
   "name": "python3"
  },
  "language_info": {
   "codemirror_mode": {
    "name": "ipython",
    "version": 3
   },
   "file_extension": ".py",
   "mimetype": "text/x-python",
   "name": "python",
   "nbconvert_exporter": "python",
   "pygments_lexer": "ipython3",
   "version": "3.10.13"
  }
 },
 "nbformat": 4,
 "nbformat_minor": 2
}
