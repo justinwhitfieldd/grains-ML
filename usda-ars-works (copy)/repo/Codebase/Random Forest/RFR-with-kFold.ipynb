{
 "cells": [
  {
   "cell_type": "code",
   "execution_count": 216,
   "metadata": {},
   "outputs": [],
   "source": [
    "import pandas as pd\n",
    "from sklearn.model_selection import KFold\n",
    "from sklearn.ensemble import RandomForestRegressor\n",
    "from sklearn.metrics import mean_squared_error, mean_absolute_error, r2_score\n",
    "from sklearn.preprocessing import LabelEncoder\n",
    "import numpy as np\n",
    "\n",
    "#RAIN_TYPE = 'Wheat'\n",
    "#GRAIN_TYPE = 'newWheatData'\n",
    "GRAIN_TYPE = 'WheatAdded_Type'\n",
    "#GRAIN_TYPE = 'Combined_Grains'\n",
    "# GRAIN_TYPE = 'Oats'\n",
    "# GRAIN_TYPE = 'Barley'\n",
    "# GRAIN_TYPE = 'Sorghum'\n",
    "# GRAIN_TYPE = 'Soybeans'\n",
    "# GRAIN_TYPE = 'Corn'\n",
    "# Define lists to store the results for each fold\n",
    "r2_scores_mc = []\n",
    "mse_scores_mc = []\n",
    "mae_scores_mc = []\n",
    "min_abs_errors_mc = []\n",
    "max_abs_errors_mc = []\n",
    "\n",
    "r2_scores_density = []\n",
    "mse_scores_density = []\n",
    "mae_scores_density = []\n",
    "min_abs_errors_density = []\n",
    "max_abs_errors_density = []\n",
    "\n",
    "max_error_indices_mc = []\n",
    "max_error_indices_density = []\n"
   ]
  },
  {
   "cell_type": "markdown",
   "metadata": {},
   "source": [
    "Load Dataset and handle processing"
   ]
  },
  {
   "cell_type": "code",
   "execution_count": 217,
   "metadata": {},
   "outputs": [],
   "source": [
    "URL = \"../../Datasets/processed/\" + GRAIN_TYPE + \".csv\"\n",
    "\n",
    "# Load the dataset\n",
    "df = pd.read_csv(URL)\n",
    "\n",
    "# Encode categorical variables if 'Variety' is categorical\n",
    "if df['Variety'].dtype == 'object':\n",
    "    le = LabelEncoder()\n",
    "    df['Variety'] = le.fit_transform(df['Variety'])\n",
    "\n",
    "# Define the features and the target variables\n",
    "X = df[['Freq', 'd(cm)', 'Attn', 'Phase_Corr', 'Permittivity_real', 'Permittivity_imaginary', 'Variety']]\n",
    "y = df[['M%', 'Density']]"
   ]
  },
  {
   "cell_type": "markdown",
   "metadata": {},
   "source": [
    "Now perform K-fold splitting and eval"
   ]
  },
  {
   "cell_type": "code",
   "execution_count": 218,
   "metadata": {},
   "outputs": [],
   "source": [
    "# Initialize the KFold parameters\n",
    "kf = KFold(n_splits=10, random_state=42, shuffle=True)\n",
    "\n",
    "# Initialize the model\n",
    "regressor = RandomForestRegressor(n_estimators=100, random_state=42, min_samples_leaf=3)\n",
    "\n",
    "# Perform 10-fold cross-validation\n",
    "for train_index, test_index in kf.split(X):\n",
    "    X_train, X_test = X.iloc[train_index], X.iloc[test_index]\n",
    "    y_train, y_test = y.iloc[train_index], y.iloc[test_index]\n",
    "\n",
    "    # Train the model\n",
    "    regressor.fit(X_train, y_train)\n",
    "    \n",
    "    # Make predictions\n",
    "    y_pred = regressor.predict(X_test)\n",
    "\n",
    "    # Calculate metrics for moisture content\n",
    "    r2_scores_mc.append(r2_score(y_test['M%'], y_pred[:, 0]))\n",
    "    mse_scores_mc.append(mean_squared_error(y_test['M%'], y_pred[:, 0]))\n",
    "    mae_scores_mc.append(mean_absolute_error(y_test['M%'], y_pred[:, 0]))\n",
    "    abs_errors_mc = np.abs(y_test['M%'].values - y_pred[:, 0])\n",
    "    min_abs_errors_mc.append(np.min(abs_errors_mc))\n",
    "    max_abs_errors_mc.append(np.max(abs_errors_mc))\n",
    "    # Find the index of the maximum absolute error for moisture content\n",
    "    max_error_index_mc = np.argmax(np.abs(y_test['M%'].values - y_pred[:, 0]))\n",
    "    max_error_indices_mc.append(test_index[max_error_index_mc])\n",
    "\n",
    "    # Calculate metrics for density\n",
    "    r2_scores_density.append(r2_score(y_test['Density'], y_pred[:, 1]))\n",
    "    mse_scores_density.append(mean_squared_error(y_test['Density'], y_pred[:, 1]))\n",
    "    mae_scores_density.append(mean_absolute_error(y_test['Density'], y_pred[:, 1]))\n",
    "    abs_errors_density = np.abs(y_test['Density'].values - y_pred[:, 1])\n",
    "    min_abs_errors_density.append(np.min(abs_errors_density))\n",
    "    max_abs_errors_density.append(np.max(abs_errors_density))\n",
    "    # Find the index of the maximum absolute error for density\n",
    "    max_error_index_density = np.argmax(np.abs(y_test['Density'].values - y_pred[:, 1]))\n",
    "    max_error_indices_density.append(test_index[max_error_index_density])\n"
   ]
  },
  {
   "cell_type": "markdown",
   "metadata": {},
   "source": [
    "Now we will display accuracy metrics"
   ]
  },
  {
   "cell_type": "code",
   "execution_count": 219,
   "metadata": {},
   "outputs": [
    {
     "name": "stdout",
     "output_type": "stream",
     "text": [
      "Moisture Content Metrics:\n",
      "R^2: 0.9929635592776069\n",
      "Mean Squared Error: 0.09727654890732672\n",
      "Mean Absolute Error: 0.13368945153428666\n",
      "Min Absolute Error: 1.7763568394002505e-15\n",
      "Max Absolute Error: 1.401703942279943\n",
      "Density Metrics:\n",
      "R^2: 0.8859145202883241\n",
      "Mean Squared Error: 0.0005061988342039603\n",
      "Mean Absolute Error: 0.016174768322858094\n",
      "Min Absolute Error: 1.7725000000334833e-05\n",
      "Max Absolute Error: 0.06740336873876109\n",
      "\n",
      "\n",
      " [1.4681088095238035, 2.3186238095238227, 1.4697436002885897, 1.0674197619047554, 1.4069946428571392, 1.2485631601731662, 1.1864772619047699, 1.7620009523809461, 1.3415024603174661, 0.7476049639249727]\n"
     ]
    }
   ],
   "source": [
    "# Print the average metrics for moisture content\n",
    "print(\"Moisture Content Metrics:\")\n",
    "print(\"R^2:\", np.mean(r2_scores_mc))\n",
    "print(\"Mean Squared Error:\", np.mean(mse_scores_mc))\n",
    "print(\"Mean Absolute Error:\", np.mean(mae_scores_mc))\n",
    "print(\"Min Absolute Error:\", np.mean(min_abs_errors_mc))\n",
    "print(\"Max Absolute Error:\", np.mean(max_abs_errors_mc))\n",
    "# Print the average metrics for density\n",
    "print(\"Density Metrics:\")\n",
    "print(\"R^2:\", np.mean(r2_scores_density))\n",
    "print(\"Mean Squared Error:\", np.mean(mse_scores_density))\n",
    "print(\"Mean Absolute Error:\", np.mean(mae_scores_density))\n",
    "print(\"Min Absolute Error:\", np.mean(min_abs_errors_density))\n",
    "print(\"Max Absolute Error:\", np.mean(max_abs_errors_density))\n",
    "\n",
    "print('\\n\\n', max_abs_errors_mc)"
   ]
  },
  {
   "cell_type": "code",
   "execution_count": 220,
   "metadata": {},
   "outputs": [
    {
     "name": "stdout",
     "output_type": "stream",
     "text": [
      "\n",
      "Rows with highest error for moisture content:\n",
      "Index     Variety Freq           d(cm)          M%             Density        Attn           Phase          Phase_Corr          Permittivity_real   Permittivity_imaginary\n",
      "--------------------------------------------------------------------------------------------------------------------------------------------------------------------------\n",
      "66        0.0     8.0            7.7            13.85          0.8147         13.6806        -144.447       -504.447            2.816               0.411               \n",
      "77        0.0     5.0            7.7            16.33          0.71           8.4732         49.009         -310.991            2.785               0.404               \n",
      "411       1.0     7.0            7.7            14.63          0.8339         13.5971        -108.151       -468.151            2.952               0.478               \n",
      "89        0.0     5.0            7.7            16.33          0.7718         9.4217         20.417         -339.583            2.992               0.467               \n",
      "571       3.0     10.0           7.7            11.18          0.8995         12.995         110.41         -609.59             2.746               0.308               \n",
      "587       3.0     14.0           7.7            13.75          0.7553         17.4579        -39.761        -759.761            2.512               0.282               \n",
      "421       1.0     5.0            7.7            17.36          0.6992         9.9788         32.112         -327.888            2.903               0.488               \n",
      "410       1.0     6.0            7.7            14.63          0.8339         11.634         -48.658        -408.658            2.998               0.481               \n",
      "85        0.0     13.0           7.7            16.33          0.71           22.2702        -18.553        -738.553            2.593               0.395               \n",
      "413       1.0     9.0            7.7            14.63          0.8339         17.0156        126.998        -593.002            2.916               0.462               \n",
      "\n",
      "Rows with highest error for density:\n",
      "Index     Variety Freq           d(cm)          M%             Density        Attn           Phase          Phase_Corr          Permittivity_real   Permittivity_imaginary\n",
      "--------------------------------------------------------------------------------------------------------------------------------------------------------------------------\n",
      "244       2.0     5.0            7.7            14.58          0.8861         9.1934         0.494          -359.506            3.145               0.467               \n",
      "77        0.0     5.0            7.7            16.33          0.71           8.4732         49.009         -310.991            2.785               0.404               \n",
      "487       1.0     16.0           4.4            21.63          0.6531         27.9588        158.133        -561.867            2.725               0.725               \n",
      "302       2.0     13.0           6.5            19.19          0.841          29.3704        -108.405       -828.405            3.265               0.697               \n",
      "256       2.0     6.0            7.7            16.81          0.752          12.3237        -39.512        -399.512            2.939               0.505               \n",
      "38        0.0     6.0            7.7            13.85          0.7183         8.5426         16.201         -343.799            2.614               0.329               \n",
      "421       1.0     5.0            7.7            17.36          0.6992         9.9788         32.112         -327.888            2.903               0.488               \n",
      "785       4.0     16.0           4.4            20.9           0.6873         28.4043        134.368        -585.632            2.818               0.752               \n",
      "206       2.0     6.0            8.9            12.18          0.8985         10.6331        -103.769       -463.769            2.959               0.377               \n",
      "686       4.0     5.0            8.9            13.68          0.8294         10.2008        -29.545        -389.545            2.975               0.436               \n"
     ]
    }
   ],
   "source": [
    "import pandas as pd\n",
    "\n",
    "# ... [rest of your code to perform the cross-validation]\n",
    "\n",
    "# Function to print the details of rows with highest error in a formatted way\n",
    "def print_high_error_rows(indices, data_frame, title):\n",
    "    print(f\"\\n{title}\")\n",
    "    max_variety_length = max([len(str(data_frame.iloc[index]['Variety'])) for index in indices])\n",
    "    # Print the header\n",
    "    header = f\"{'Index':<10}{'Variety':<{max_variety_length + 5}}{'Freq':<15}{'d(cm)':<15}{'M%':<15}{'Density':<15}{'Attn':<15}{'Phase':<15}{'Phase_Corr':<20}{'Permittivity_real':<20}{'Permittivity_imaginary':<20}\"\n",
    "    print(header)\n",
    "    print(\"-\" * len(header))\n",
    "    # Print each row\n",
    "    for index in indices:\n",
    "        row = data_frame.iloc[index]\n",
    "        formatted_row = f\"{index:<10}{row['Variety']:<{max_variety_length + 5}}{row['Freq']:<15}{row['d(cm)']:<15}{row['M%']:<15}{row['Density']:<15}{row['Attn']:<15}{row['Phase']:<15}{row['Phase_Corr']:<20}{row['Permittivity_real']:<20}{row['Permittivity_imaginary']:<20}\"\n",
    "        print(formatted_row)\n",
    "\n",
    "# Assuming max_error_indices_mc and max_error_indices_density are lists of indices for the highest errors\n",
    "print_high_error_rows(max_error_indices_mc, df, \"Rows with highest error for moisture content:\")\n",
    "print_high_error_rows(max_error_indices_density, df, \"Rows with highest error for density:\")\n"
   ]
  }
 ],
 "metadata": {
  "kernelspec": {
   "display_name": "venv_ml",
   "language": "python",
   "name": "python3"
  },
  "language_info": {
   "codemirror_mode": {
    "name": "ipython",
    "version": 3
   },
   "file_extension": ".py",
   "mimetype": "text/x-python",
   "name": "python",
   "nbconvert_exporter": "python",
   "pygments_lexer": "ipython3",
   "version": "3.7.16"
  }
 },
 "nbformat": 4,
 "nbformat_minor": 2
}
