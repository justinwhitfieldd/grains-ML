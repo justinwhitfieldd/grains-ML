{
 "cells": [
  {
   "cell_type": "code",
   "execution_count": 32,
   "metadata": {},
   "outputs": [],
   "source": [
    "import pandas as pd\n",
    "from sklearn.model_selection import KFold\n",
    "from sklearn.ensemble import RandomForestRegressor\n",
    "from sklearn.metrics import mean_squared_error, mean_absolute_error, r2_score\n",
    "from sklearn.preprocessing import LabelEncoder\n",
    "import numpy as np\n",
    "\n",
    "#RAIN_TYPE = 'Wheat'\n",
    "#GRAIN_TYPE = 'newWheatData'\n",
    "GRAIN_TYPE = 'WheatAdded_Type'\n",
    "#GRAIN_TYPE = 'Combined_Grains'\n",
    "# GRAIN_TYPE = 'Oats'\n",
    "# GRAIN_TYPE = 'Barley'\n",
    "# GRAIN_TYPE = 'Sorghum'\n",
    "# GRAIN_TYPE = 'Soybeans'\n",
    "# GRAIN_TYPE = 'Corn'\n",
    "# Define lists to store the results for each fold\n",
    "r2_scores_mc = []\n",
    "mse_scores_mc = []\n",
    "mae_scores_mc = []\n",
    "min_abs_errors_mc = []\n",
    "max_abs_errors_mc = []\n",
    "\n",
    "r2_scores_density = []\n",
    "mse_scores_density = []\n",
    "mae_scores_density = []\n",
    "min_abs_errors_density = []\n",
    "max_abs_errors_density = []\n"
   ]
  },
  {
   "cell_type": "markdown",
   "metadata": {},
   "source": [
    "Load Dataset and handle processing"
   ]
  },
  {
   "cell_type": "code",
   "execution_count": 33,
   "metadata": {},
   "outputs": [],
   "source": [
    "URL = \"../../Datasets/processed/\" + GRAIN_TYPE + \".csv\"\n",
    "\n",
    "# Load the dataset\n",
    "df = pd.read_csv(URL)\n",
    "\n",
    "# Encode categorical variables if 'Variety' is categorical\n",
    "if df['Variety'].dtype == 'object':\n",
    "    le = LabelEncoder()\n",
    "    df['Variety'] = le.fit_transform(df['Variety'])\n",
    "\n",
    "# Define the features and the target variables\n",
    "X = df[['Freq', 'd(cm)', 'Attn', 'Phase', 'Phase_Corr', 'Permittivity_real', 'Permittivity_imaginary', 'Variety','Phase/Attn']]\n",
    "y = df[['M%', 'Density']]"
   ]
  },
  {
   "cell_type": "markdown",
   "metadata": {},
   "source": [
    "Now perform K-fold splitting and eval"
   ]
  },
  {
   "cell_type": "code",
   "execution_count": 34,
   "metadata": {},
   "outputs": [],
   "source": [
    "# Initialize the KFold parameters\n",
    "kf = KFold(n_splits=10, random_state=42, shuffle=True)\n",
    "\n",
    "# Initialize the model\n",
    "regressor = RandomForestRegressor(n_estimators=100, random_state=42, min_samples_leaf=3)\n",
    "\n",
    "# Perform 10-fold cross-validation\n",
    "for train_index, test_index in kf.split(X):\n",
    "    X_train, X_test = X.iloc[train_index], X.iloc[test_index]\n",
    "    y_train, y_test = y.iloc[train_index], y.iloc[test_index]\n",
    "\n",
    "    # Train the model\n",
    "    regressor.fit(X_train, y_train)\n",
    "    \n",
    "    # Make predictions\n",
    "    y_pred = regressor.predict(X_test)\n",
    "\n",
    "    # Calculate metrics for moisture content\n",
    "    r2_scores_mc.append(r2_score(y_test['M%'], y_pred[:, 0]))\n",
    "    mse_scores_mc.append(mean_squared_error(y_test['M%'], y_pred[:, 0]))\n",
    "    mae_scores_mc.append(mean_absolute_error(y_test['M%'], y_pred[:, 0]))\n",
    "    abs_errors_mc = np.abs(y_test['M%'].values - y_pred[:, 0])\n",
    "    min_abs_errors_mc.append(np.min(abs_errors_mc))\n",
    "    max_abs_errors_mc.append(np.max(abs_errors_mc))\n",
    "\n",
    "    # Calculate metrics for density\n",
    "    r2_scores_density.append(r2_score(y_test['Density'], y_pred[:, 1]))\n",
    "    mse_scores_density.append(mean_squared_error(y_test['Density'], y_pred[:, 1]))\n",
    "    mae_scores_density.append(mean_absolute_error(y_test['Density'], y_pred[:, 1]))\n",
    "    abs_errors_density = np.abs(y_test['Density'].values - y_pred[:, 1])\n",
    "    min_abs_errors_density.append(np.min(abs_errors_density))\n",
    "    max_abs_errors_density.append(np.max(abs_errors_density))\n"
   ]
  },
  {
   "cell_type": "markdown",
   "metadata": {},
   "source": [
    "Now we will display accuracy metrics"
   ]
  },
  {
   "cell_type": "code",
   "execution_count": 35,
   "metadata": {},
   "outputs": [
    {
     "name": "stdout",
     "output_type": "stream",
     "text": [
      "Moisture Content Metrics:\n",
      "R^2: 0.9917211810351801\n",
      "Mean Squared Error: 0.11460665763606401\n",
      "Mean Absolute Error: 0.15596867410167076\n",
      "Min Absolute Error: 2.4868995751603505e-15\n",
      "Max Absolute Error: 1.4558584200521698\n",
      "Density Metrics:\n",
      "R^2: 0.8640902329250512\n",
      "Mean Squared Error: 0.000601051285259749\n",
      "Mean Absolute Error: 0.01836376648017451\n",
      "Min Absolute Error: 0.00032957603896136554\n",
      "Max Absolute Error: 0.06930835593964332\n"
     ]
    }
   ],
   "source": [
    "# Print the average metrics for moisture content\n",
    "print(\"Moisture Content Metrics:\")\n",
    "print(\"R^2:\", np.mean(r2_scores_mc))\n",
    "print(\"Mean Squared Error:\", np.mean(mse_scores_mc))\n",
    "print(\"Mean Absolute Error:\", np.mean(mae_scores_mc))\n",
    "print(\"Min Absolute Error:\", np.mean(min_abs_errors_mc))\n",
    "print(\"Max Absolute Error:\", np.mean(max_abs_errors_mc))\n",
    "# Print the average metrics for density\n",
    "print(\"Density Metrics:\")\n",
    "print(\"R^2:\", np.mean(r2_scores_density))\n",
    "print(\"Mean Squared Error:\", np.mean(mse_scores_density))\n",
    "print(\"Mean Absolute Error:\", np.mean(mae_scores_density))\n",
    "print(\"Min Absolute Error:\", np.mean(min_abs_errors_density))\n",
    "print(\"Max Absolute Error:\", np.mean(max_abs_errors_density))"
   ]
  }
 ],
 "metadata": {
  "kernelspec": {
   "display_name": "venv_ml",
   "language": "python",
   "name": "python3"
  },
  "language_info": {
   "codemirror_mode": {
    "name": "ipython",
    "version": 3
   },
   "file_extension": ".py",
   "mimetype": "text/x-python",
   "name": "python",
   "nbconvert_exporter": "python",
   "pygments_lexer": "ipython3",
   "version": "3.7.16"
  }
 },
 "nbformat": 4,
 "nbformat_minor": 2
}
