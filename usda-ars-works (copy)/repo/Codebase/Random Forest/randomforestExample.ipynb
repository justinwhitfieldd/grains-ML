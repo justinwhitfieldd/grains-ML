{
 "cells": [
  {
   "cell_type": "code",
   "execution_count": 111,
   "metadata": {},
   "outputs": [],
   "source": [
    "import pandas as pd\n",
    "from sklearn.model_selection import train_test_split\n",
    "from sklearn.ensemble import RandomForestRegressor\n",
    "from sklearn.metrics import mean_squared_error, r2_score\n",
    "from sklearn.preprocessing import LabelEncoder\n",
    "\n",
    "GRAIN_TYPE = 'Wheat'\n",
    "#GRAIN_TYPE = 'newWheatData'\n",
    "#GRAIN_TYPE = 'CornAdded_Type'\n",
    "#GRAIN_TYPE = 'Combined_Grains'\n",
    "# GRAIN_TYPE = 'Oats'\n",
    "# GRAIN_TYPE = 'Barley'\n",
    "# GRAIN_TYPE = 'Sorghum'\n",
    "# GRAIN_TYPE = 'Soybeans'\n",
    "# GRAIN_TYPE = 'Corn'"
   ]
  },
  {
   "cell_type": "markdown",
   "metadata": {},
   "source": [
    "Load dataset and handle processing"
   ]
  },
  {
   "cell_type": "code",
   "execution_count": 112,
   "metadata": {},
   "outputs": [],
   "source": [
    "URL = \"../../Datasets/processed/\" + GRAIN_TYPE + \".csv\"\n",
    "\n",
    "# Load the dataset\n",
    "df = pd.read_csv(URL)  # Update 'path_to_your_file.csv' to the actual path of your CSV file\n",
    "#df = df[df['Variety'] == 'SOUTH DAKOTA']\n",
    "\n",
    "# Preprocess the data\n",
    "# Handle missing values if any.\n",
    "# df.dropna(subset=['Phase', 'Attn', 'Density', 'M%'], inplace=True)\n",
    "\n",
    "# Encode categorical variables if 'Phase' is categorical\n",
    "if df['Variety'].dtype == 'object':\n",
    "    le = LabelEncoder()\n",
    "    df['Variety'] = le.fit_transform(df['Variety'])\n",
    "\n",
    "# Split the dataset into training and testing sets\n",
    "X = df[['Freq', \n",
    "        'd(cm)', \n",
    "        'Attn', \n",
    "        'Phase', \n",
    "        'Phase_Corr', \n",
    "        'Permittivity_real', \n",
    "        'Permittivity_imaginary',\n",
    "        'Variety',\n",
    "        ]]\n",
    "\n",
    "y = df[['M%', 'Density']]\n",
    "\n",
    "X_train, X_test, y_train, y_test = train_test_split(X, y, test_size=0.2, random_state=42)\n"
   ]
  },
  {
   "cell_type": "markdown",
   "metadata": {},
   "source": [
    "train model"
   ]
  },
  {
   "cell_type": "code",
   "execution_count": 113,
   "metadata": {},
   "outputs": [
    {
     "ename": "ValueError",
     "evalue": "sample_weight.shape == (8,), expected (644,)!",
     "output_type": "error",
     "traceback": [
      "\u001b[0;31m---------------------------------------------------------------------------\u001b[0m",
      "\u001b[0;31mValueError\u001b[0m                                Traceback (most recent call last)",
      "\u001b[0;32m/tmp/ipykernel_16159/2294015421.py\u001b[0m in \u001b[0;36m<module>\u001b[0;34m\u001b[0m\n\u001b[1;32m      1\u001b[0m \u001b[0mregressor\u001b[0m \u001b[0;34m=\u001b[0m \u001b[0mRandomForestRegressor\u001b[0m\u001b[0;34m(\u001b[0m\u001b[0mn_estimators\u001b[0m\u001b[0;34m=\u001b[0m\u001b[0;36m100\u001b[0m\u001b[0;34m,\u001b[0m \u001b[0mrandom_state\u001b[0m\u001b[0;34m=\u001b[0m\u001b[0;36m42\u001b[0m\u001b[0;34m,\u001b[0m \u001b[0mmin_samples_leaf\u001b[0m \u001b[0;34m=\u001b[0m \u001b[0;36m2\u001b[0m\u001b[0;34m)\u001b[0m\u001b[0;34m\u001b[0m\u001b[0;34m\u001b[0m\u001b[0m\n\u001b[0;32m----> 2\u001b[0;31m \u001b[0mregressor\u001b[0m\u001b[0;34m.\u001b[0m\u001b[0mfit\u001b[0m\u001b[0;34m(\u001b[0m\u001b[0mX_train\u001b[0m\u001b[0;34m,\u001b[0m \u001b[0my_train\u001b[0m\u001b[0;34m,\u001b[0m \u001b[0msample_weight\u001b[0m\u001b[0;34m=\u001b[0m \u001b[0;34m[\u001b[0m\u001b[0;36m0.2\u001b[0m\u001b[0;34m,\u001b[0m\u001b[0;36m0.4\u001b[0m\u001b[0;34m,\u001b[0m\u001b[0;36m0.1\u001b[0m\u001b[0;34m,\u001b[0m\u001b[0;36m0.1\u001b[0m\u001b[0;34m,\u001b[0m\u001b[0;36m0.1\u001b[0m\u001b[0;34m,\u001b[0m\u001b[0;36m0.1\u001b[0m\u001b[0;34m,\u001b[0m\u001b[0;36m0.1\u001b[0m\u001b[0;34m,\u001b[0m\u001b[0;36m0.5\u001b[0m\u001b[0;34m]\u001b[0m\u001b[0;34m)\u001b[0m\u001b[0;34m\u001b[0m\u001b[0;34m\u001b[0m\u001b[0m\n\u001b[0m",
      "\u001b[0;32m~/anaconda3/envs/venv_ml/lib/python3.7/site-packages/sklearn/ensemble/_forest.py\u001b[0m in \u001b[0;36mfit\u001b[0;34m(self, X, y, sample_weight)\u001b[0m\n\u001b[1;32m    329\u001b[0m         )\n\u001b[1;32m    330\u001b[0m         \u001b[0;32mif\u001b[0m \u001b[0msample_weight\u001b[0m \u001b[0;32mis\u001b[0m \u001b[0;32mnot\u001b[0m \u001b[0;32mNone\u001b[0m\u001b[0;34m:\u001b[0m\u001b[0;34m\u001b[0m\u001b[0;34m\u001b[0m\u001b[0m\n\u001b[0;32m--> 331\u001b[0;31m             \u001b[0msample_weight\u001b[0m \u001b[0;34m=\u001b[0m \u001b[0m_check_sample_weight\u001b[0m\u001b[0;34m(\u001b[0m\u001b[0msample_weight\u001b[0m\u001b[0;34m,\u001b[0m \u001b[0mX\u001b[0m\u001b[0;34m)\u001b[0m\u001b[0;34m\u001b[0m\u001b[0;34m\u001b[0m\u001b[0m\n\u001b[0m\u001b[1;32m    332\u001b[0m \u001b[0;34m\u001b[0m\u001b[0m\n\u001b[1;32m    333\u001b[0m         \u001b[0;32mif\u001b[0m \u001b[0missparse\u001b[0m\u001b[0;34m(\u001b[0m\u001b[0mX\u001b[0m\u001b[0;34m)\u001b[0m\u001b[0;34m:\u001b[0m\u001b[0;34m\u001b[0m\u001b[0;34m\u001b[0m\u001b[0m\n",
      "\u001b[0;32m~/anaconda3/envs/venv_ml/lib/python3.7/site-packages/sklearn/utils/validation.py\u001b[0m in \u001b[0;36m_check_sample_weight\u001b[0;34m(sample_weight, X, dtype, copy)\u001b[0m\n\u001b[1;32m   1565\u001b[0m             raise ValueError(\n\u001b[1;32m   1566\u001b[0m                 \"sample_weight.shape == {}, expected {}!\".format(\n\u001b[0;32m-> 1567\u001b[0;31m                     \u001b[0msample_weight\u001b[0m\u001b[0;34m.\u001b[0m\u001b[0mshape\u001b[0m\u001b[0;34m,\u001b[0m \u001b[0;34m(\u001b[0m\u001b[0mn_samples\u001b[0m\u001b[0;34m,\u001b[0m\u001b[0;34m)\u001b[0m\u001b[0;34m\u001b[0m\u001b[0;34m\u001b[0m\u001b[0m\n\u001b[0m\u001b[1;32m   1568\u001b[0m                 )\n\u001b[1;32m   1569\u001b[0m             )\n",
      "\u001b[0;31mValueError\u001b[0m: sample_weight.shape == (8,), expected (644,)!"
     ]
    }
   ],
   "source": [
    "regressor = RandomForestRegressor(n_estimators=100, random_state=42, min_samples_leaf = 2)\n",
    "regressor.fit(X_train, y_train)\n"
   ]
  },
  {
   "cell_type": "markdown",
   "metadata": {},
   "source": [
    "Predict on test set"
   ]
  },
  {
   "cell_type": "code",
   "execution_count": null,
   "metadata": {},
   "outputs": [],
   "source": [
    "y_pred = regressor.predict(X_test)"
   ]
  },
  {
   "cell_type": "markdown",
   "metadata": {},
   "source": [
    "evaluate\n"
   ]
  },
  {
   "cell_type": "code",
   "execution_count": null,
   "metadata": {},
   "outputs": [
    {
     "name": "stdout",
     "output_type": "stream",
     "text": [
      "Moisture %\n",
      "R^2: 0.9898\n",
      "Mean Squared Error:  0.1438\n",
      "Mean Absolute Error:  0.1669\n",
      "Min Absolute Error:  0.0\n",
      "Max Absolute Error:  2.182923333333333\n"
     ]
    }
   ],
   "source": [
    "from sklearn.metrics import mean_squared_error, mean_absolute_error,max_error, r2_score\n",
    "from sigfig import round\n",
    "print(\"Moisture %\")\n",
    "mc_r2_score = r2_score(y_test['M%'], y_pred[:,0])\n",
    "print(\"R^2: {:#.4g}\".format(mc_r2_score))\n",
    "mse_mc = mean_squared_error(y_test['M%'], y_pred[:,0], squared=True)\n",
    "print('Mean Squared Error: ', \"{0:.4g}\".format(mse_mc))\n",
    "mae_mc = mean_absolute_error(y_test['M%'], y_pred[:,0])\n",
    "print('Mean Absolute Error: ', \"{0:.4g}\".format(mae_mc))\n",
    "\n",
    "sums = []\n",
    "for i in range(len(y_test['M%'])):\n",
    "    sum = y_test['M%'].iloc[i] - y_pred[:,0][i]\n",
    "    #print(Y_actual[:,0][i],\" - \",Y_pred[:,0][i],'=',sum)\n",
    "    sums.append(abs(sum))\n",
    "print(\"Min Absolute Error: \",min(sums))\n",
    "print(\"Max Absolute Error: \",max(sums))"
   ]
  },
  {
   "cell_type": "code",
   "execution_count": null,
   "metadata": {},
   "outputs": [
    {
     "name": "stdout",
     "output_type": "stream",
     "text": [
      "Density\n",
      "R^2: 0.8996\n",
      "Mean Squared Error:  0.0004766\n",
      "Mean Absolute Error:  0.01627\n",
      "Min Absolute Error:  0.0\n",
      "Max Absolute Error:  0.08763119444444478\n"
     ]
    }
   ],
   "source": [
    "from sklearn.metrics import mean_squared_error, mean_absolute_error,max_error, r2_score\n",
    "from sigfig import round\n",
    "print(\"Density\")\n",
    "mc_r2_score = r2_score(y_test['Density'], y_pred[:,1])\n",
    "print(\"R^2: {:#.4g}\".format(mc_r2_score))\n",
    "mse_mc = mean_squared_error(y_test['Density'], y_pred[:,1], squared=True)\n",
    "print('Mean Squared Error: ', \"{0:.4g}\".format(mse_mc))\n",
    "mae_mc = mean_absolute_error(y_test['Density'], y_pred[:,1])\n",
    "print('Mean Absolute Error: ', \"{0:.4g}\".format(mae_mc))\n",
    "\n",
    "sums = []\n",
    "for i in range(len(y_test['Density'])):\n",
    "    sum = y_test['Density'].iloc[i] - y_pred[:,1][i]\n",
    "    #print(Y_actual[:,0][i],\" - \",Y_pred[:,0][i],'=',sum)\n",
    "    sums.append(abs(sum))\n",
    "print(\"Min Absolute Error: \",min(sums))\n",
    "print(\"Max Absolute Error: \",max(sums))"
   ]
  },
  {
   "cell_type": "markdown",
   "metadata": {},
   "source": []
  }
 ],
 "metadata": {
  "kernelspec": {
   "display_name": "venv_ml",
   "language": "python",
   "name": "python3"
  },
  "language_info": {
   "codemirror_mode": {
    "name": "ipython",
    "version": 3
   },
   "file_extension": ".py",
   "mimetype": "text/x-python",
   "name": "python",
   "nbconvert_exporter": "python",
   "pygments_lexer": "ipython3",
   "version": "3.7.16"
  }
 },
 "nbformat": 4,
 "nbformat_minor": 2
}
