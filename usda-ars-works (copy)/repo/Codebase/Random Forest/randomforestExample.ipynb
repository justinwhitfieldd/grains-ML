{
 "cells": [
  {
   "cell_type": "code",
   "execution_count": 120,
   "metadata": {},
   "outputs": [],
   "source": [
    "import pandas as pd\n",
    "from sklearn.model_selection import train_test_split\n",
    "from sklearn.ensemble import RandomForestRegressor\n",
    "from sklearn.metrics import mean_squared_error, r2_score\n",
    "from sklearn.preprocessing import LabelEncoder\n",
    "\n",
    "GRAIN_TYPE = 'Wheat'\n",
    "#GRAIN_TYPE = 'newWheatData'\n",
    "#GRAIN_TYPE = 'CornAdded_Type'\n",
    "#GRAIN_TYPE = 'Combined_Grains'\n",
    "# GRAIN_TYPE = 'Oats'\n",
    "# GRAIN_TYPE = 'Barley'\n",
    "# GRAIN_TYPE = 'Sorghum'\n",
    "# GRAIN_TYPE = 'Soybeans'\n",
    "# GRAIN_TYPE = 'Corn'"
   ]
  },
  {
   "cell_type": "markdown",
   "metadata": {},
   "source": [
    "Load dataset and handle processing"
   ]
  },
  {
   "cell_type": "code",
   "execution_count": 121,
   "metadata": {},
   "outputs": [],
   "source": [
    "URL = \"../../Datasets/processed/\" + GRAIN_TYPE + \".csv\"\n",
    "\n",
    "# Load the dataset\n",
    "df = pd.read_csv(URL)  # Update 'path_to_your_file.csv' to the actual path of your CSV file\n",
    "#df = df[df['Variety'] == 'SOUTH DAKOTA']\n",
    "\n",
    "# Preprocess the data\n",
    "# Handle missing values if any.\n",
    "# df.dropna(subset=['Phase', 'Attn', 'Density', 'M%'], inplace=True)\n",
    "\n",
    "# Encode categorical variables if 'Phase' is categorical\n",
    "if df['Variety'].dtype == 'object':\n",
    "    le = LabelEncoder()\n",
    "    df['Variety'] = le.fit_transform(df['Variety'])\n",
    "\n",
    "# Split the dataset into training and testing sets\n",
    "X = df[['Freq', \n",
    "        'd(cm)', \n",
    "        'Attn', \n",
    "        'Phase', \n",
    "        'Phase_Corr', \n",
    "        'Permittivity_real', \n",
    "        'Permittivity_imaginary',\n",
    "        'Variety',\n",
    "        ]]\n",
    "\n",
    "y = df[['M%', 'Density']]\n",
    "\n",
    "X_train, X_test, y_train, y_test = train_test_split(X, y, test_size=0.2, random_state=42)\n"
   ]
  },
  {
   "cell_type": "markdown",
   "metadata": {},
   "source": [
    "train model"
   ]
  },
  {
   "cell_type": "code",
   "execution_count": 122,
   "metadata": {},
   "outputs": [
    {
     "data": {
      "text/plain": [
       "RandomForestRegressor(min_samples_leaf=4, random_state=42)"
      ]
     },
     "execution_count": 122,
     "metadata": {},
     "output_type": "execute_result"
    }
   ],
   "source": [
    "regressor = RandomForestRegressor(n_estimators=100, random_state=42, min_samples_leaf = 4)\n",
    "regressor.fit(X_train, y_train)\n"
   ]
  },
  {
   "cell_type": "markdown",
   "metadata": {},
   "source": [
    "Predict on test set"
   ]
  },
  {
   "cell_type": "code",
   "execution_count": 123,
   "metadata": {},
   "outputs": [],
   "source": [
    "y_pred = regressor.predict(X_test)"
   ]
  },
  {
   "cell_type": "markdown",
   "metadata": {},
   "source": [
    "evaluate\n"
   ]
  },
  {
   "cell_type": "code",
   "execution_count": 124,
   "metadata": {},
   "outputs": [
    {
     "name": "stdout",
     "output_type": "stream",
     "text": [
      "Moisture %\n",
      "R^2: 0.9876\n",
      "Mean Squared Error:  0.1736\n",
      "Mean Absolute Error:  0.2042\n",
      "Min Absolute Error:  3.552713678800501e-15\n",
      "Max Absolute Error:  1.9569657142857224\n"
     ]
    }
   ],
   "source": [
    "from sklearn.metrics import mean_squared_error, mean_absolute_error,max_error, r2_score\n",
    "from sigfig import round\n",
    "print(\"Moisture %\")\n",
    "mc_r2_score = r2_score(y_test['M%'], y_pred[:,0])\n",
    "print(\"R^2: {:#.4g}\".format(mc_r2_score))\n",
    "mse_mc = mean_squared_error(y_test['M%'], y_pred[:,0], squared=True)\n",
    "print('Mean Squared Error: ', \"{0:.4g}\".format(mse_mc))\n",
    "mae_mc = mean_absolute_error(y_test['M%'], y_pred[:,0])\n",
    "print('Mean Absolute Error: ', \"{0:.4g}\".format(mae_mc))\n",
    "\n",
    "sums = []\n",
    "for i in range(len(y_test['M%'])):\n",
    "    sum = y_test['M%'].iloc[i] - y_pred[:,0][i]\n",
    "    #print(Y_actual[:,0][i],\" - \",Y_pred[:,0][i],'=',sum)\n",
    "    sums.append(abs(sum))\n",
    "print(\"Min Absolute Error: \",min(sums))\n",
    "print(\"Max Absolute Error: \",max(sums))"
   ]
  },
  {
   "cell_type": "code",
   "execution_count": 125,
   "metadata": {},
   "outputs": [
    {
     "name": "stdout",
     "output_type": "stream",
     "text": [
      "Density\n",
      "R^2: 0.8664\n",
      "Mean Squared Error:  0.0006341\n",
      "Mean Absolute Error:  0.02008\n",
      "Min Absolute Error:  0.00024003633866132024\n",
      "Max Absolute Error:  0.07775270169830151\n"
     ]
    }
   ],
   "source": [
    "from sklearn.metrics import mean_squared_error, mean_absolute_error,max_error, r2_score\n",
    "from sigfig import round\n",
    "print(\"Density\")\n",
    "mc_r2_score = r2_score(y_test['Density'], y_pred[:,1])\n",
    "print(\"R^2: {:#.4g}\".format(mc_r2_score))\n",
    "mse_mc = mean_squared_error(y_test['Density'], y_pred[:,1], squared=True)\n",
    "print('Mean Squared Error: ', \"{0:.4g}\".format(mse_mc))\n",
    "mae_mc = mean_absolute_error(y_test['Density'], y_pred[:,1])\n",
    "print('Mean Absolute Error: ', \"{0:.4g}\".format(mae_mc))\n",
    "\n",
    "sums = []\n",
    "for i in range(len(y_test['Density'])):\n",
    "    sum = y_test['Density'].iloc[i] - y_pred[:,1][i]\n",
    "    #print(Y_actual[:,0][i],\" - \",Y_pred[:,0][i],'=',sum)\n",
    "    sums.append(abs(sum))\n",
    "print(\"Min Absolute Error: \",min(sums))\n",
    "print(\"Max Absolute Error: \",max(sums))"
   ]
  },
  {
   "cell_type": "markdown",
   "metadata": {},
   "source": []
  }
 ],
 "metadata": {
  "kernelspec": {
   "display_name": "venv_ml",
   "language": "python",
   "name": "python3"
  },
  "language_info": {
   "codemirror_mode": {
    "name": "ipython",
    "version": 3
   },
   "file_extension": ".py",
   "mimetype": "text/x-python",
   "name": "python",
   "nbconvert_exporter": "python",
   "pygments_lexer": "ipython3",
   "version": "3.7.16"
  }
 },
 "nbformat": 4,
 "nbformat_minor": 2
}
