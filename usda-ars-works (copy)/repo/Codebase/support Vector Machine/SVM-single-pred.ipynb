{
 "cells": [
  {
   "cell_type": "code",
   "execution_count": 30,
   "metadata": {},
   "outputs": [],
   "source": [
    "import pandas as pd\n",
    "from sklearn.model_selection import train_test_split\n",
    "from sklearn.preprocessing import LabelEncoder, StandardScaler\n",
    "from sklearn.svm import SVR\n",
    "from sklearn.metrics import mean_squared_error, r2_score, mean_absolute_error\n",
    "from sklearn.model_selection import KFold\n",
    "from sklearn.model_selection import GridSearchCV\n",
    "from sklearn.pipeline import Pipeline\n",
    "import numpy as np\n",
    "GRAIN_TYPE = 'Wheat'\n",
    "# GRAIN_TYPE = 'Oats'\n",
    "# GRAIN_TYPE = 'Barley'\n",
    "# GRAIN_TYPE = 'Sorghum'\n",
    "# GRAIN_TYPE = 'Soybeans'\n",
    "# GRAIN_TYPE = 'Corn'\n",
    "\n",
    "URL = \"../../Datasets/processed/\" + GRAIN_TYPE + \".csv\"\n",
    "\n",
    "r2_scores_mc = []\n",
    "mse_scores_mc = []\n",
    "mae_scores_mc = []\n",
    "min_abs_errors_mc = []\n",
    "max_abs_errors_mc = []\n",
    "max_error_indices_mc = []\n",
    "\n",
    "# Load the dataset\n",
    "df = pd.read_csv(URL)\n",
    "# Encode the 'Variety' column\n",
    "label_encoder = LabelEncoder()\n",
    "df['Variety'] = label_encoder.fit_transform(df['Variety'])"
   ]
  },
  {
   "cell_type": "code",
   "execution_count": 31,
   "metadata": {},
   "outputs": [],
   "source": [
    "# Separate the dataset into features (X) and target (y)\n",
    "X = df[['Freq', 'd(cm)', 'Attn', 'Phase_Corr', 'Permittivity_real', 'Permittivity_imaginary', 'Variety']]  # Features\n",
    "y = df['M%']  # Target\n",
    "# Initialize KFold\n",
    "kf = KFold(n_splits=10, shuffle=True, random_state=42)\n",
    "# Setup the pipeline steps for scaling and modeling\n",
    "# # pipeline = Pipeline([\n",
    "# #     ('scaler', StandardScaler()),\n",
    "# #     ('svr', SVR())\n",
    "# # ])\n",
    "\n",
    "# # # Define the parameter grid to search\n",
    "# # param_grid = {\n",
    "# #     'svr__C': [0.1, 1, 10, 100],  # SVR regularization parameter\n",
    "# #     'svr__gamma': ['scale', 'auto', 0.1, 0.01, 0.001],  # Kernel coefficient\n",
    "# #     'svr__kernel': ['rbf', 'linear']  # Consider adding 'poly' and adjusting 'degree' if using polynomial\n",
    "# # }\n",
    "# # grid_search = GridSearchCV(pipeline, param_grid, cv=10, verbose=2, n_jobs=-1)\n",
    "# # # Fit the grid search to the data\n",
    "# # grid_search.fit(X, y)\n",
    "\n",
    "# # # Best parameter set found\n",
    "# # print(\"Best parameters found: \", grid_search.best_params_)\n",
    "\n",
    "# # # Best model (optional: evaluate its performance further)\n",
    "# # best_model = grid_search.best_estimator_\n",
    "\n",
    "for train_index, test_index in kf.split(X):\n",
    "    # Splitting the dataset\n",
    "    X_train, X_test = X.iloc[train_index], X.iloc[test_index]\n",
    "    y_train, y_test = y.iloc[train_index], y.iloc[test_index]\n",
    "    \n",
    "    # Standardize the features\n",
    "    scaler = StandardScaler()\n",
    "    X_train_scaled = scaler.fit_transform(X_train)\n",
    "    X_test_scaled = scaler.transform(X_test)\n",
    "    \n",
    "    # Train the SVM model\n",
    "    svm_model = SVR(kernel='rbf',C= 1,gamma= 0.01)\n",
    "    svm_model.fit(X_train_scaled, y_train)\n",
    "    \n",
    "    # Predictions\n",
    "    y_pred = svm_model.predict(X_test_scaled)\n",
    "    \n",
    "    # Calculate and store the metrics\n",
    "    mse_scores_mc.append(mean_squared_error(y_test, y_pred))\n",
    "    r2_scores_mc.append(r2_score(y_test, y_pred))\n",
    "    mae_scores_mc.append(mean_absolute_error(y_test, y_pred))\n",
    "    abs_errors = np.abs(y_test - y_pred)\n",
    "    min_abs_errors_mc.append(np.min(abs_errors))\n",
    "    max_abs_errors_mc.append(np.max(abs_errors))\n",
    "    max_error_indices_mc.append(test_index[np.argmax(abs_errors)])"
   ]
  },
  {
   "cell_type": "code",
   "execution_count": 32,
   "metadata": {},
   "outputs": [
    {
     "name": "stdout",
     "output_type": "stream",
     "text": [
      "Moisture Content Metrics:\n",
      "R^2: 0.9403215967346545\n",
      "Mean Squared Error: 0.8534556053401049\n",
      "Mean Absolute Error: 0.6286997050510679\n",
      "Min Absolute Error: 0.010471102783853325\n",
      "Max Absolute Error: 3.6299628185697257\n"
     ]
    }
   ],
   "source": [
    "\n",
    "# Print the average metrics for moisture content\n",
    "print(\"Moisture Content Metrics:\")\n",
    "print(\"R^2:\", np.mean(r2_scores_mc))\n",
    "print(\"Mean Squared Error:\", np.mean(mse_scores_mc))\n",
    "print(\"Mean Absolute Error:\", np.mean(mae_scores_mc))\n",
    "print(\"Min Absolute Error:\", np.mean(min_abs_errors_mc))\n",
    "print(\"Max Absolute Error:\", np.mean(max_abs_errors_mc))\n"
   ]
  }
 ],
 "metadata": {
  "kernelspec": {
   "display_name": "venv_ml",
   "language": "python",
   "name": "python3"
  },
  "language_info": {
   "codemirror_mode": {
    "name": "ipython",
    "version": 3
   },
   "file_extension": ".py",
   "mimetype": "text/x-python",
   "name": "python",
   "nbconvert_exporter": "python",
   "pygments_lexer": "ipython3",
   "version": "3.7.16"
  }
 },
 "nbformat": 4,
 "nbformat_minor": 2
}
