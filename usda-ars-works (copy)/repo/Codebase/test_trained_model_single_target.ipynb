{
 "cells": [
  {
   "cell_type": "code",
   "execution_count": 15,
   "metadata": {},
   "outputs": [],
   "source": [
    "import tensorflow as tf\n",
    "import pandas as pd\n",
    "import numpy as np\n",
    "from sklearn.preprocessing import MinMaxScaler\n",
    "from sklearn.model_selection import train_test_split, KFold\n"
   ]
  },
  {
   "cell_type": "code",
   "execution_count": 16,
   "metadata": {},
   "outputs": [
    {
     "name": "stdout",
     "output_type": "stream",
     "text": [
      "From USDA:  ../Datasets/processed/generated_wheat.csv\n"
     ]
    }
   ],
   "source": [
    "best_model = tf.keras.models.load_model('Best_models/target_2/single_models/moisture_0_040-MaxErr/')\n",
    "\n",
    "GRAIN_TYPE = 'generated_wheat'\n",
    "URL = \"../Datasets/processed/\" + GRAIN_TYPE + \".csv\"\n",
    "df = pd.read_csv(URL)\n",
    "print(\"From USDA: \", URL)\n",
    "# Convert to numpy array\n",
    "df_features = df[['Freq', \n",
    "                    'd(cm)', \n",
    "                   # 'Attn', \n",
    "                    'Phase_Corr', \n",
    "                    'Permittivity_real', \n",
    "                    'Permittivity_imaginary',\n",
    "                    'Type',\n",
    "                    ]]\n",
    "\n",
    "df_targets = df[['M%']]\n",
    "\n",
    "dataset_x = df_features.to_numpy()\n",
    "dataset_y = df_targets.to_numpy()"
   ]
  },
  {
   "cell_type": "code",
   "execution_count": 17,
   "metadata": {},
   "outputs": [],
   "source": [
    "\n",
    "#Normalizing the data set\n",
    "scaler_input = MinMaxScaler()\n",
    "scaler_output = MinMaxScaler()\n",
    "\n",
    "# Normalize the entire dataset (input features)\n",
    "dataset_x_norm = scaler_input.fit_transform(dataset_x)  # Use transform, NOT fit_transform\n",
    "\n",
    "# Normalize the entire dataset (output targets)\n",
    "dataset_y_norm = scaler_output.fit_transform(dataset_y)  # Use transform, NOT fit_transform\n",
    "# Perform train-test split on RAW DATA\n",
    "X_train, X_test, y_train, y_test = train_test_split(dataset_x_norm, dataset_y_norm, \n",
    "                                                    test_size=0.15\n",
    "                                                    ,random_state=42\n",
    "                                                    )"
   ]
  },
  {
   "cell_type": "code",
   "execution_count": 18,
   "metadata": {},
   "outputs": [
    {
     "name": "stdout",
     "output_type": "stream",
     "text": [
      "26/26 [==============================] - 0s 357us/step\n"
     ]
    }
   ],
   "source": [
    "Y_pred_normalized = best_model.predict(dataset_x_norm)\n",
    "Y_pred = scaler_output.inverse_transform(Y_pred_normalized)\n",
    "Y_actual = scaler_output.inverse_transform(dataset_y_norm)\n"
   ]
  },
  {
   "cell_type": "code",
   "execution_count": 19,
   "metadata": {},
   "outputs": [
    {
     "name": "stdout",
     "output_type": "stream",
     "text": [
      "R^2: 0.9996\n",
      "Mean Squared Error:  0.006073\n",
      "Mean Absolute Error:  0.0547\n",
      "Min Absolute Error:  0.00019752502441505726\n",
      "Max Absolute Error:  0.4616463851928714\n"
     ]
    },
    {
     "name": "stderr",
     "output_type": "stream",
     "text": [
      "/home/zeenat/anaconda3/envs/WindowVersions/lib/python3.10/site-packages/sklearn/metrics/_regression.py:483: FutureWarning: 'squared' is deprecated in version 1.4 and will be removed in 1.6. To calculate the root mean squared error, use the function'root_mean_squared_error'.\n",
      "  warnings.warn(\n"
     ]
    }
   ],
   "source": [
    "from sklearn.metrics import mean_squared_error, mean_absolute_error,max_error, r2_score\n",
    "from sigfig import round\n",
    "\n",
    "mc_r2_score = r2_score(y_true=Y_actual[:, 0], y_pred=Y_pred[:, 0])\n",
    "print(\"R^2: {:#.4g}\".format(mc_r2_score))\n",
    "mse_mc = mean_squared_error(Y_actual[:, 0], Y_pred[:, 0], squared=True)\n",
    "print('Mean Squared Error: ', \"{0:.4g}\".format(mse_mc))\n",
    "mae_mc = mean_absolute_error(Y_actual[:, 0], Y_pred[:, 0])\n",
    "print('Mean Absolute Error: ', \"{0:.4g}\".format(mae_mc))\n",
    "\n",
    "sums = []\n",
    "for i in range(len(Y_actual[:,0])):\n",
    "    sum = Y_actual[:,0][i] - Y_pred[:,0][i]\n",
    "    #print(Y_actual[:,0][i],\" - \",Y_pred[:,0][i],'=',sum)\n",
    "    sums.append(abs(sum))\n",
    "print(\"Min Absolute Error: \",min(sums))\n",
    "print(\"Max Absolute Error: \",max(sums))"
   ]
  }
 ],
 "metadata": {
  "kernelspec": {
   "display_name": "venv_ml",
   "language": "python",
   "name": "python3"
  },
  "language_info": {
   "codemirror_mode": {
    "name": "ipython",
    "version": 3
   },
   "file_extension": ".py",
   "mimetype": "text/x-python",
   "name": "python",
   "nbconvert_exporter": "python",
   "pygments_lexer": "ipython3",
   "version": "3.10.13"
  }
 },
 "nbformat": 4,
 "nbformat_minor": 2
}
